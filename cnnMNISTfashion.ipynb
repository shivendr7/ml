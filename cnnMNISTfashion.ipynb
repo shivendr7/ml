{
  "nbformat": 4,
  "nbformat_minor": 0,
  "metadata": {
    "colab": {
      "name": "cnnMNISTfashion.ipynb",
      "provenance": [],
      "authorship_tag": "ABX9TyNQczRNrxtShOwQVsk2QYHu",
      "include_colab_link": true
    },
    "kernelspec": {
      "name": "python3",
      "display_name": "Python 3"
    },
    "accelerator": "GPU"
  },
  "cells": [
    {
      "cell_type": "markdown",
      "metadata": {
        "id": "view-in-github",
        "colab_type": "text"
      },
      "source": [
        "<a href=\"https://colab.research.google.com/github/shivendr7/ml/blob/main/cnnMNISTfashion.ipynb\" target=\"_parent\"><img src=\"https://colab.research.google.com/assets/colab-badge.svg\" alt=\"Open In Colab\"/></a>"
      ]
    },
    {
      "cell_type": "code",
      "metadata": {
        "colab": {
          "base_uri": "https://localhost:8080/"
        },
        "id": "9reoME_6UzOy",
        "outputId": "ae10d8b0-0e26-4152-a1d6-f19a71a76992"
      },
      "source": [
        "import tensorflow.keras\r\n",
        "from tensorflow.keras.callbacks import EarlyStopping\r\n",
        "from tensorflow.keras.layers import Dense, Dropout\r\n",
        "from tensorflow.keras import regularizers\r\n",
        "from tensorflow.keras.datasets import fashion_mnist\r\n",
        "\r\n",
        "(x_train,y_train), (x_test, y_test) = fashion_mnist.load_data()\r\n",
        "x_train.shape, x_test.shape, y_train.shape, y_test.shape "
      ],
      "execution_count": 2,
      "outputs": [
        {
          "output_type": "execute_result",
          "data": {
            "text/plain": [
              "((60000, 28, 28), (10000, 28, 28), (60000,), (10000,))"
            ]
          },
          "metadata": {
            "tags": []
          },
          "execution_count": 2
        }
      ]
    },
    {
      "cell_type": "code",
      "metadata": {
        "id": "REBMEf0mV2bN"
      },
      "source": [
        "import matplotlib.pyplot as plt\r\n",
        "import numpy as np\r\n",
        "\r\n",
        "\r\n",
        "from IPython.display import display\r\n",
        "import pandas as pd"
      ],
      "execution_count": 3,
      "outputs": []
    },
    {
      "cell_type": "code",
      "metadata": {
        "colab": {
          "base_uri": "https://localhost:8080/",
          "height": 282
        },
        "id": "-ybHCvgrWlNg",
        "outputId": "651a13e9-83d7-4b13-fbfa-167f8e4dd9c3"
      },
      "source": [
        "plt.imshow(x_train[25], cmap='gray', interpolation='nearest'), y_train[25]"
      ],
      "execution_count": 4,
      "outputs": [
        {
          "output_type": "execute_result",
          "data": {
            "text/plain": [
              "(<matplotlib.image.AxesImage at 0x7f6a09ab3b90>, 3)"
            ]
          },
          "metadata": {
            "tags": []
          },
          "execution_count": 4
        },
        {
          "output_type": "display_data",
          "data": {
            "image/png": "[encoded data removed]",
            "text/plain": [
              "<Figure size 432x288 with 1 Axes>"
            ]
          },
          "metadata": {
            "tags": [],
            "needs_background": "light"
          }
        }
      ]
    },
    {
      "cell_type": "code",
      "metadata": {
        "colab": {
          "base_uri": "https://localhost:8080/",
          "height": 394
        },
        "id": "hcxRNHYUW87n",
        "outputId": "4bcef0a1-c83d-4c24-93f7-90e775c4edd8"
      },
      "source": [
        "fig, axes=plt.subplots(6, 6, figsize=(6, 6), sharex=True, sharey=True)\r\n",
        "ax=axes[3,5]\r\n",
        "ax.imshow(x_train[26])"
      ],
      "execution_count": 5,
      "outputs": [
        {
          "output_type": "execute_result",
          "data": {
            "text/plain": [
              "<matplotlib.image.AxesImage at 0x7f6a08de24d0>"
            ]
          },
          "metadata": {
            "tags": []
          },
          "execution_count": 5
        },
        {
          "output_type": "display_data",
          "data": {
            "image/png": "[encoded data removed]",
            "text/plain": [
              "<Figure size 432x432 with 36 Axes>"
            ]
          },
          "metadata": {
            "tags": [],
            "needs_background": "light"
          }
        }
      ]
    },
    {
      "cell_type": "code",
      "metadata": {
        "id": "3_p_PnCRYQ54"
      },
      "source": [
        "import tensorflow.keras\r\n",
        "from tensorflow.keras.datasets import mnist\r\n",
        "from tensorflow.keras.models import Sequential\r\n",
        "from tensorflow.keras.layers import Dense, Dropout, Flatten, Conv2D, MaxPooling2D\r\n",
        "from tensorflow.keras import backend"
      ],
      "execution_count": 3,
      "outputs": []
    },
    {
      "cell_type": "code",
      "metadata": {
        "id": "jMQwK24bYwCO"
      },
      "source": [
        "if backend.image_data_format()=='channels_first':\r\n",
        "  x_train=x_train.reshape(x_train.shape[0], 1, 28, 28)\r\n",
        "  x_test=x_test.reshape(x_test.shape[0], 1 ,28, 28)\r\n",
        "  input_shape=(1, 28, 28)\r\n",
        "else:\r\n",
        "  x_train=x_train.reshape(x_train.shape[0], 28, 28, 1)\r\n",
        "  x_test=x_test.reshape(x_test.shape[0], 28, 28, 1)\r\n",
        "  input_shape=(28, 28, 1)\r\n",
        "x_train= x_train.astype('float32')\r\n",
        "x_test= x_test.astype('float32')\r\n",
        "x_train/=255\r\n",
        "x_test/=255"
      ],
      "execution_count": 4,
      "outputs": []
    },
    {
      "cell_type": "code",
      "metadata": {
        "colab": {
          "base_uri": "https://localhost:8080/",
          "height": 101
        },
        "id": "HTbntinlZ44Q",
        "outputId": "8caa9e0f-457c-4806-8c55-9983c3d545fe"
      },
      "source": [
        "display(y_train.shape,y_test.shape)\r\n",
        "y_train= tensorflow.keras.utils.to_categorical(y_train, 10)\r\n",
        "y_test=tensorflow.keras.utils.to_categorical(y_test, 10)\r\n",
        "print('after')\r\n",
        "display(y_train.shape,y_test.shape)"
      ],
      "execution_count": 5,
      "outputs": [
        {
          "output_type": "display_data",
          "data": {
            "text/plain": [
              "(60000,)"
            ]
          },
          "metadata": {
            "tags": []
          }
        },
        {
          "output_type": "display_data",
          "data": {
            "text/plain": [
              "(10000,)"
            ]
          },
          "metadata": {
            "tags": []
          }
        },
        {
          "output_type": "stream",
          "text": [
            "after\n"
          ],
          "name": "stdout"
        },
        {
          "output_type": "display_data",
          "data": {
            "text/plain": [
              "(60000, 10)"
            ]
          },
          "metadata": {
            "tags": []
          }
        },
        {
          "output_type": "display_data",
          "data": {
            "text/plain": [
              "(10000, 10)"
            ]
          },
          "metadata": {
            "tags": []
          }
        }
      ]
    },
    {
      "cell_type": "code",
      "metadata": {
        "id": "HTeavABWeQmk"
      },
      "source": [
        "model=Sequential()\r\n",
        "model.add(Conv2D(32, kernel_size=(3, 3), activation='relu', input_shape=input_shape))\r\n",
        "model.add(Conv2D(64, (3, 3), activation='relu'))\r\n",
        "model.add(MaxPooling2D(pool_size=(2, 2)))\r\n",
        "model.add(Dropout(0.25))\r\n",
        "model.add(Flatten())\r\n",
        "model.add(Dense(128, activation='relu'))\r\n",
        "model.add(Dropout(0.5))\r\n",
        "model.add(Dense(10, activation='softmax'))\r\n",
        "model.compile(loss='categorical_crossentropy', optimizer='adam', metrics=['accuracy'])"
      ],
      "execution_count": 9,
      "outputs": []
    },
    {
      "cell_type": "code",
      "metadata": {
        "colab": {
          "base_uri": "https://localhost:8080/"
        },
        "id": "KtqUr1EffWIZ",
        "outputId": "8cce62df-1ea9-442b-c943-c54d5a8690cb"
      },
      "source": [
        "import tensorflow as tf\r\n",
        "import time\r\n",
        "\r\n",
        "start_time = time.time()\r\n",
        "model.fit(x_train, y_train, batch_size=128, epochs=12, verbose=2, validation_data=(x_test, y_test))\r\n",
        "score = model.evaluate(x_test, y_test, verbose=0)\r\n",
        "elapsed_time=time.time()-start_time\r\n",
        "elapsed_time"
      ],
      "execution_count": 10,
      "outputs": [
        {
          "output_type": "stream",
          "text": [
            "Epoch 1/12\n",
            "469/469 - 10s - loss: 0.5222 - accuracy: 0.8164 - val_loss: 0.3350 - val_accuracy: 0.8817\n",
            "Epoch 2/12\n",
            "469/469 - 3s - loss: 0.3413 - accuracy: 0.8774 - val_loss: 0.2809 - val_accuracy: 0.8963\n",
            "Epoch 3/12\n",
            "469/469 - 3s - loss: 0.2944 - accuracy: 0.8932 - val_loss: 0.2656 - val_accuracy: 0.9025\n",
            "Epoch 4/12\n",
            "469/469 - 3s - loss: 0.2625 - accuracy: 0.9052 - val_loss: 0.2427 - val_accuracy: 0.9100\n",
            "Epoch 5/12\n",
            "469/469 - 3s - loss: 0.2379 - accuracy: 0.9121 - val_loss: 0.2361 - val_accuracy: 0.9148\n",
            "Epoch 6/12\n",
            "469/469 - 3s - loss: 0.2182 - accuracy: 0.9197 - val_loss: 0.2241 - val_accuracy: 0.9177\n",
            "Epoch 7/12\n",
            "469/469 - 3s - loss: 0.2026 - accuracy: 0.9258 - val_loss: 0.2315 - val_accuracy: 0.9160\n",
            "Epoch 8/12\n",
            "469/469 - 3s - loss: 0.1878 - accuracy: 0.9309 - val_loss: 0.2194 - val_accuracy: 0.9217\n",
            "Epoch 9/12\n",
            "469/469 - 3s - loss: 0.1762 - accuracy: 0.9346 - val_loss: 0.2138 - val_accuracy: 0.9240\n",
            "Epoch 10/12\n",
            "469/469 - 3s - loss: 0.1649 - accuracy: 0.9387 - val_loss: 0.2171 - val_accuracy: 0.9247\n",
            "Epoch 11/12\n",
            "469/469 - 3s - loss: 0.1538 - accuracy: 0.9417 - val_loss: 0.2178 - val_accuracy: 0.9260\n",
            "Epoch 12/12\n",
            "469/469 - 3s - loss: 0.1452 - accuracy: 0.9451 - val_loss: 0.2176 - val_accuracy: 0.9276\n"
          ],
          "name": "stdout"
        },
        {
          "output_type": "execute_result",
          "data": {
            "text/plain": [
              "43.37126326560974"
            ]
          },
          "metadata": {
            "tags": []
          },
          "execution_count": 10
        }
      ]
    },
    {
      "cell_type": "code",
      "metadata": {
        "colab": {
          "base_uri": "https://localhost:8080/"
        },
        "id": "__6peUTdgU1u",
        "outputId": "645250c6-8ae1-4b53-82cd-7f33a0cf79db"
      },
      "source": [
        "import numpy as np\r\n",
        "np.argmax(model.predict(x_test)[25])"
      ],
      "execution_count": 13,
      "outputs": [
        {
          "output_type": "execute_result",
          "data": {
            "text/plain": [
              "6"
            ]
          },
          "metadata": {
            "tags": []
          },
          "execution_count": 13
        }
      ]
    }
  ]
}