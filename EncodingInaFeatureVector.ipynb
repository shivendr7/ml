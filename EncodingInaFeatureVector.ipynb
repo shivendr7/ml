{
  "nbformat": 4,
  "nbformat_minor": 0,
  "metadata": {
    "colab": {
      "name": "EncodingInaFeatureVector.ipynb",
      "provenance": [],
      "authorship_tag": "ABX9TyN28VXprDmKVePn/MS8rjvq",
      "include_colab_link": true
    },
    "kernelspec": {
      "name": "python3",
      "display_name": "Python 3"
    }
  },
  "cells": [
    {
      "cell_type": "markdown",
      "metadata": {
        "id": "view-in-github",
        "colab_type": "text"
      },
      "source": [
        "<a href=\"https://colab.research.google.com/github/shivendr7/ml/blob/main/EncodingInaFeatureVector.ipynb\" target=\"_parent\"><img src=\"https://colab.research.google.com/assets/colab-badge.svg\" alt=\"Open In Colab\"/></a>"
      ]
    },
    {
      "cell_type": "code",
      "metadata": {
        "colab": {
          "base_uri": "https://localhost:8080/",
          "height": 224
        },
        "id": "ITsDBP1Ou3l1",
        "outputId": "e925da28-fefc-4ca6-c6f3-543228899d1a"
      },
      "source": [
        "import pandas as pd\r\n",
        "\r\n",
        "df=pd.read_csv(\"https://data.heatonresearch.com/data/t81-558/jh-simple-dataset.csv\",na_values=['NA','?'])\r\n",
        "\r\n",
        "pd.set_option('display.max_columns',9)\r\n",
        "pd.set_option('display.max_rows',5)\r\n",
        "\r\n",
        "display(df)"
      ],
      "execution_count": 2,
      "outputs": [
        {
          "output_type": "display_data",
          "data": {
            "text/html": [
              "<div>\n",
              "<style scoped>\n",
              "    .dataframe tbody tr th:only-of-type {\n",
              "        vertical-align: middle;\n",
              "    }\n",
              "\n",
              "    .dataframe tbody tr th {\n",
              "        vertical-align: top;\n",
              "    }\n",
              "\n",
              "    .dataframe thead th {\n",
              "        text-align: right;\n",
              "    }\n",
              "</style>\n",
              "<table border=\"1\" class=\"dataframe\">\n",
              "  <thead>\n",
              "    <tr style=\"text-align: right;\">\n",
              "      <th></th>\n",
              "      <th>id</th>\n",
              "      <th>job</th>\n",
              "      <th>area</th>\n",
              "      <th>income</th>\n",
              "      <th>...</th>\n",
              "      <th>pop_dense</th>\n",
              "      <th>retail_dense</th>\n",
              "      <th>crime</th>\n",
              "      <th>product</th>\n",
              "    </tr>\n",
              "  </thead>\n",
              "  <tbody>\n",
              "    <tr>\n",
              "      <th>0</th>\n",
              "      <td>1</td>\n",
              "      <td>vv</td>\n",
              "      <td>c</td>\n",
              "      <td>50876.0</td>\n",
              "      <td>...</td>\n",
              "      <td>0.885827</td>\n",
              "      <td>0.492126</td>\n",
              "      <td>0.071100</td>\n",
              "      <td>b</td>\n",
              "    </tr>\n",
              "    <tr>\n",
              "      <th>1</th>\n",
              "      <td>2</td>\n",
              "      <td>kd</td>\n",
              "      <td>c</td>\n",
              "      <td>60369.0</td>\n",
              "      <td>...</td>\n",
              "      <td>0.874016</td>\n",
              "      <td>0.342520</td>\n",
              "      <td>0.400809</td>\n",
              "      <td>c</td>\n",
              "    </tr>\n",
              "    <tr>\n",
              "      <th>...</th>\n",
              "      <td>...</td>\n",
              "      <td>...</td>\n",
              "      <td>...</td>\n",
              "      <td>...</td>\n",
              "      <td>...</td>\n",
              "      <td>...</td>\n",
              "      <td>...</td>\n",
              "      <td>...</td>\n",
              "      <td>...</td>\n",
              "    </tr>\n",
              "    <tr>\n",
              "      <th>1998</th>\n",
              "      <td>1999</td>\n",
              "      <td>qp</td>\n",
              "      <td>c</td>\n",
              "      <td>67949.0</td>\n",
              "      <td>...</td>\n",
              "      <td>0.909449</td>\n",
              "      <td>0.598425</td>\n",
              "      <td>0.117803</td>\n",
              "      <td>c</td>\n",
              "    </tr>\n",
              "    <tr>\n",
              "      <th>1999</th>\n",
              "      <td>2000</td>\n",
              "      <td>pe</td>\n",
              "      <td>c</td>\n",
              "      <td>61467.0</td>\n",
              "      <td>...</td>\n",
              "      <td>0.925197</td>\n",
              "      <td>0.539370</td>\n",
              "      <td>0.451973</td>\n",
              "      <td>c</td>\n",
              "    </tr>\n",
              "  </tbody>\n",
              "</table>\n",
              "<p>2000 rows × 14 columns</p>\n",
              "</div>"
            ],
            "text/plain": [
              "        id job area   income  ...  pop_dense  retail_dense     crime  product\n",
              "0        1  vv    c  50876.0  ...   0.885827      0.492126  0.071100        b\n",
              "1        2  kd    c  60369.0  ...   0.874016      0.342520  0.400809        c\n",
              "...    ...  ..  ...      ...  ...        ...           ...       ...      ...\n",
              "1998  1999  qp    c  67949.0  ...   0.909449      0.598425  0.117803        c\n",
              "1999  2000  pe    c  61467.0  ...   0.925197      0.539370  0.451973        c\n",
              "\n",
              "[2000 rows x 14 columns]"
            ]
          },
          "metadata": {
            "tags": []
          }
        }
      ]
    },
    {
      "cell_type": "markdown",
      "metadata": {
        "id": "mqLo5QOHwjgk"
      },
      "source": [
        "The following observations can be made from the above data:\r\n",
        "\r\n",
        "The target column is the column that you seek to predict. There are several candidates here. However, we will initially use product. This field specifies what product someone bought.\r\n",
        "\r\n",
        "There is an ID column. This column should not be fed into the neural network as it contains no information useful for prediction.\r\n",
        "\r\n",
        "Many of these fields are numeric and might not require any further processing.\r\n",
        "\r\n",
        "The income column does have some missing values.\r\n",
        "\r\n",
        "There are categorical values: job, area, and product.\r\n",
        "\r\n",
        "To begin with, we will convert the job code into dummy variables."
      ]
    },
    {
      "cell_type": "code",
      "metadata": {
        "colab": {
          "base_uri": "https://localhost:8080/",
          "height": 342
        },
        "id": "djEnzFUdwqZm",
        "outputId": "dc40ce13-19a6-4e24-e46f-5a73302f511e"
      },
      "source": [
        "dummies=pd.get_dummies(df['job'],prefix=\"job\")\r\n",
        "print(dummies.shape)\r\n",
        "display(dummies)\r\n",
        "dummies.columns"
      ],
      "execution_count": 3,
      "outputs": [
        {
          "output_type": "stream",
          "text": [
            "(2000, 33)\n"
          ],
          "name": "stdout"
        },
        {
          "output_type": "display_data",
          "data": {
            "text/html": [
              "<div>\n",
              "<style scoped>\n",
              "    .dataframe tbody tr th:only-of-type {\n",
              "        vertical-align: middle;\n",
              "    }\n",
              "\n",
              "    .dataframe tbody tr th {\n",
              "        vertical-align: top;\n",
              "    }\n",
              "\n",
              "    .dataframe thead th {\n",
              "        text-align: right;\n",
              "    }\n",
              "</style>\n",
              "<table border=\"1\" class=\"dataframe\">\n",
              "  <thead>\n",
              "    <tr style=\"text-align: right;\">\n",
              "      <th></th>\n",
              "      <th>job_11</th>\n",
              "      <th>job_al</th>\n",
              "      <th>job_am</th>\n",
              "      <th>job_ax</th>\n",
              "      <th>...</th>\n",
              "      <th>job_rn</th>\n",
              "      <th>job_sa</th>\n",
              "      <th>job_vv</th>\n",
              "      <th>job_zz</th>\n",
              "    </tr>\n",
              "  </thead>\n",
              "  <tbody>\n",
              "    <tr>\n",
              "      <th>0</th>\n",
              "      <td>0</td>\n",
              "      <td>0</td>\n",
              "      <td>0</td>\n",
              "      <td>0</td>\n",
              "      <td>...</td>\n",
              "      <td>0</td>\n",
              "      <td>0</td>\n",
              "      <td>1</td>\n",
              "      <td>0</td>\n",
              "    </tr>\n",
              "    <tr>\n",
              "      <th>1</th>\n",
              "      <td>0</td>\n",
              "      <td>0</td>\n",
              "      <td>0</td>\n",
              "      <td>0</td>\n",
              "      <td>...</td>\n",
              "      <td>0</td>\n",
              "      <td>0</td>\n",
              "      <td>0</td>\n",
              "      <td>0</td>\n",
              "    </tr>\n",
              "    <tr>\n",
              "      <th>...</th>\n",
              "      <td>...</td>\n",
              "      <td>...</td>\n",
              "      <td>...</td>\n",
              "      <td>...</td>\n",
              "      <td>...</td>\n",
              "      <td>...</td>\n",
              "      <td>...</td>\n",
              "      <td>...</td>\n",
              "      <td>...</td>\n",
              "    </tr>\n",
              "    <tr>\n",
              "      <th>1998</th>\n",
              "      <td>0</td>\n",
              "      <td>0</td>\n",
              "      <td>0</td>\n",
              "      <td>0</td>\n",
              "      <td>...</td>\n",
              "      <td>0</td>\n",
              "      <td>0</td>\n",
              "      <td>0</td>\n",
              "      <td>0</td>\n",
              "    </tr>\n",
              "    <tr>\n",
              "      <th>1999</th>\n",
              "      <td>0</td>\n",
              "      <td>0</td>\n",
              "      <td>0</td>\n",
              "      <td>0</td>\n",
              "      <td>...</td>\n",
              "      <td>0</td>\n",
              "      <td>0</td>\n",
              "      <td>0</td>\n",
              "      <td>0</td>\n",
              "    </tr>\n",
              "  </tbody>\n",
              "</table>\n",
              "<p>2000 rows × 33 columns</p>\n",
              "</div>"
            ],
            "text/plain": [
              "      job_11  job_al  job_am  job_ax  ...  job_rn  job_sa  job_vv  job_zz\n",
              "0          0       0       0       0  ...       0       0       1       0\n",
              "1          0       0       0       0  ...       0       0       0       0\n",
              "...      ...     ...     ...     ...  ...     ...     ...     ...     ...\n",
              "1998       0       0       0       0  ...       0       0       0       0\n",
              "1999       0       0       0       0  ...       0       0       0       0\n",
              "\n",
              "[2000 rows x 33 columns]"
            ]
          },
          "metadata": {
            "tags": []
          }
        },
        {
          "output_type": "execute_result",
          "data": {
            "text/plain": [
              "Index(['job_11', 'job_al', 'job_am', 'job_ax', 'job_bf', 'job_by', 'job_cv',\n",
              "       'job_de', 'job_dz', 'job_e2', 'job_f8', 'job_gj', 'job_gv', 'job_kd',\n",
              "       'job_ke', 'job_kl', 'job_kp', 'job_ks', 'job_kw', 'job_mm', 'job_nb',\n",
              "       'job_nn', 'job_ob', 'job_pe', 'job_po', 'job_pq', 'job_pz', 'job_qp',\n",
              "       'job_qw', 'job_rn', 'job_sa', 'job_vv', 'job_zz'],\n",
              "      dtype='object')"
            ]
          },
          "metadata": {
            "tags": []
          },
          "execution_count": 3
        }
      ]
    },
    {
      "cell_type": "markdown",
      "metadata": {
        "id": "ix3xyO80xOxT"
      },
      "source": [
        "Next, we must merge these dummies back into the main data frame. We also drop the original \"job\" field, as it is now represented by the dummies."
      ]
    },
    {
      "cell_type": "code",
      "metadata": {
        "colab": {
          "base_uri": "https://localhost:8080/",
          "height": 224
        },
        "id": "1vqUwCkcxJt7",
        "outputId": "3372c9bc-3f52-4957-9b4a-f3a0d7ae5411"
      },
      "source": [
        "df=pd.concat([df,dummies],axis=1)  #concat dummies\r\n",
        "df.drop('job',axis=1,inplace=True)  #removing jobs\r\n",
        "display(df)"
      ],
      "execution_count": 4,
      "outputs": [
        {
          "output_type": "display_data",
          "data": {
            "text/html": [
              "<div>\n",
              "<style scoped>\n",
              "    .dataframe tbody tr th:only-of-type {\n",
              "        vertical-align: middle;\n",
              "    }\n",
              "\n",
              "    .dataframe tbody tr th {\n",
              "        vertical-align: top;\n",
              "    }\n",
              "\n",
              "    .dataframe thead th {\n",
              "        text-align: right;\n",
              "    }\n",
              "</style>\n",
              "<table border=\"1\" class=\"dataframe\">\n",
              "  <thead>\n",
              "    <tr style=\"text-align: right;\">\n",
              "      <th></th>\n",
              "      <th>id</th>\n",
              "      <th>area</th>\n",
              "      <th>income</th>\n",
              "      <th>aspect</th>\n",
              "      <th>...</th>\n",
              "      <th>job_rn</th>\n",
              "      <th>job_sa</th>\n",
              "      <th>job_vv</th>\n",
              "      <th>job_zz</th>\n",
              "    </tr>\n",
              "  </thead>\n",
              "  <tbody>\n",
              "    <tr>\n",
              "      <th>0</th>\n",
              "      <td>1</td>\n",
              "      <td>c</td>\n",
              "      <td>50876.0</td>\n",
              "      <td>13.100000</td>\n",
              "      <td>...</td>\n",
              "      <td>0</td>\n",
              "      <td>0</td>\n",
              "      <td>1</td>\n",
              "      <td>0</td>\n",
              "    </tr>\n",
              "    <tr>\n",
              "      <th>1</th>\n",
              "      <td>2</td>\n",
              "      <td>c</td>\n",
              "      <td>60369.0</td>\n",
              "      <td>18.625000</td>\n",
              "      <td>...</td>\n",
              "      <td>0</td>\n",
              "      <td>0</td>\n",
              "      <td>0</td>\n",
              "      <td>0</td>\n",
              "    </tr>\n",
              "    <tr>\n",
              "      <th>...</th>\n",
              "      <td>...</td>\n",
              "      <td>...</td>\n",
              "      <td>...</td>\n",
              "      <td>...</td>\n",
              "      <td>...</td>\n",
              "      <td>...</td>\n",
              "      <td>...</td>\n",
              "      <td>...</td>\n",
              "      <td>...</td>\n",
              "    </tr>\n",
              "    <tr>\n",
              "      <th>1998</th>\n",
              "      <td>1999</td>\n",
              "      <td>c</td>\n",
              "      <td>67949.0</td>\n",
              "      <td>5.733333</td>\n",
              "      <td>...</td>\n",
              "      <td>0</td>\n",
              "      <td>0</td>\n",
              "      <td>0</td>\n",
              "      <td>0</td>\n",
              "    </tr>\n",
              "    <tr>\n",
              "      <th>1999</th>\n",
              "      <td>2000</td>\n",
              "      <td>c</td>\n",
              "      <td>61467.0</td>\n",
              "      <td>16.891667</td>\n",
              "      <td>...</td>\n",
              "      <td>0</td>\n",
              "      <td>0</td>\n",
              "      <td>0</td>\n",
              "      <td>0</td>\n",
              "    </tr>\n",
              "  </tbody>\n",
              "</table>\n",
              "<p>2000 rows × 46 columns</p>\n",
              "</div>"
            ],
            "text/plain": [
              "        id area   income     aspect  ...  job_rn  job_sa  job_vv  job_zz\n",
              "0        1    c  50876.0  13.100000  ...       0       0       1       0\n",
              "1        2    c  60369.0  18.625000  ...       0       0       0       0\n",
              "...    ...  ...      ...        ...  ...     ...     ...     ...     ...\n",
              "1998  1999    c  67949.0   5.733333  ...       0       0       0       0\n",
              "1999  2000    c  61467.0  16.891667  ...       0       0       0       0\n",
              "\n",
              "[2000 rows x 46 columns]"
            ]
          },
          "metadata": {
            "tags": []
          }
        }
      ]
    },
    {
      "cell_type": "code",
      "metadata": {
        "colab": {
          "base_uri": "https://localhost:8080/",
          "height": 241
        },
        "id": "0lSWjFh-yBFy",
        "outputId": "b1356b36-a4ed-4ef6-9975-c7ff6855e3ff"
      },
      "source": [
        "areadummies=pd.get_dummies(df['area'],prefix=\"area\")\r\n",
        "df=pd.concat([df,areadummies],axis=1)\r\n",
        "df.drop('area',axis=1,inplace=True)\r\n",
        "\r\n",
        "display(df)\r\n",
        "areadummies.columns"
      ],
      "execution_count": 5,
      "outputs": [
        {
          "output_type": "display_data",
          "data": {
            "text/html": [
              "<div>\n",
              "<style scoped>\n",
              "    .dataframe tbody tr th:only-of-type {\n",
              "        vertical-align: middle;\n",
              "    }\n",
              "\n",
              "    .dataframe tbody tr th {\n",
              "        vertical-align: top;\n",
              "    }\n",
              "\n",
              "    .dataframe thead th {\n",
              "        text-align: right;\n",
              "    }\n",
              "</style>\n",
              "<table border=\"1\" class=\"dataframe\">\n",
              "  <thead>\n",
              "    <tr style=\"text-align: right;\">\n",
              "      <th></th>\n",
              "      <th>id</th>\n",
              "      <th>income</th>\n",
              "      <th>aspect</th>\n",
              "      <th>subscriptions</th>\n",
              "      <th>...</th>\n",
              "      <th>area_a</th>\n",
              "      <th>area_b</th>\n",
              "      <th>area_c</th>\n",
              "      <th>area_d</th>\n",
              "    </tr>\n",
              "  </thead>\n",
              "  <tbody>\n",
              "    <tr>\n",
              "      <th>0</th>\n",
              "      <td>1</td>\n",
              "      <td>50876.0</td>\n",
              "      <td>13.100000</td>\n",
              "      <td>1</td>\n",
              "      <td>...</td>\n",
              "      <td>0</td>\n",
              "      <td>0</td>\n",
              "      <td>1</td>\n",
              "      <td>0</td>\n",
              "    </tr>\n",
              "    <tr>\n",
              "      <th>1</th>\n",
              "      <td>2</td>\n",
              "      <td>60369.0</td>\n",
              "      <td>18.625000</td>\n",
              "      <td>2</td>\n",
              "      <td>...</td>\n",
              "      <td>0</td>\n",
              "      <td>0</td>\n",
              "      <td>1</td>\n",
              "      <td>0</td>\n",
              "    </tr>\n",
              "    <tr>\n",
              "      <th>...</th>\n",
              "      <td>...</td>\n",
              "      <td>...</td>\n",
              "      <td>...</td>\n",
              "      <td>...</td>\n",
              "      <td>...</td>\n",
              "      <td>...</td>\n",
              "      <td>...</td>\n",
              "      <td>...</td>\n",
              "      <td>...</td>\n",
              "    </tr>\n",
              "    <tr>\n",
              "      <th>1998</th>\n",
              "      <td>1999</td>\n",
              "      <td>67949.0</td>\n",
              "      <td>5.733333</td>\n",
              "      <td>0</td>\n",
              "      <td>...</td>\n",
              "      <td>0</td>\n",
              "      <td>0</td>\n",
              "      <td>1</td>\n",
              "      <td>0</td>\n",
              "    </tr>\n",
              "    <tr>\n",
              "      <th>1999</th>\n",
              "      <td>2000</td>\n",
              "      <td>61467.0</td>\n",
              "      <td>16.891667</td>\n",
              "      <td>0</td>\n",
              "      <td>...</td>\n",
              "      <td>0</td>\n",
              "      <td>0</td>\n",
              "      <td>1</td>\n",
              "      <td>0</td>\n",
              "    </tr>\n",
              "  </tbody>\n",
              "</table>\n",
              "<p>2000 rows × 49 columns</p>\n",
              "</div>"
            ],
            "text/plain": [
              "        id   income     aspect  subscriptions  ...  area_a  area_b  area_c  \\\n",
              "0        1  50876.0  13.100000              1  ...       0       0       1   \n",
              "1        2  60369.0  18.625000              2  ...       0       0       1   \n",
              "...    ...      ...        ...            ...  ...     ...     ...     ...   \n",
              "1998  1999  67949.0   5.733333              0  ...       0       0       1   \n",
              "1999  2000  61467.0  16.891667              0  ...       0       0       1   \n",
              "\n",
              "      area_d  \n",
              "0          0  \n",
              "1          0  \n",
              "...      ...  \n",
              "1998       0  \n",
              "1999       0  \n",
              "\n",
              "[2000 rows x 49 columns]"
            ]
          },
          "metadata": {
            "tags": []
          }
        },
        {
          "output_type": "execute_result",
          "data": {
            "text/plain": [
              "Index(['area_a', 'area_b', 'area_c', 'area_d'], dtype='object')"
            ]
          },
          "metadata": {
            "tags": []
          },
          "execution_count": 5
        }
      ]
    },
    {
      "cell_type": "code",
      "metadata": {
        "colab": {
          "base_uri": "https://localhost:8080/",
          "height": 224
        },
        "id": "z1DyagmmzAEq",
        "outputId": "b4a73e1f-7a25-41e5-b877-9f46f8b0bb88"
      },
      "source": [
        "# fill in missing income values\r\n",
        "med=df['income'].median()\r\n",
        "df['income']=df['income'].fillna(med)\r\n",
        "display(df)"
      ],
      "execution_count": 6,
      "outputs": [
        {
          "output_type": "display_data",
          "data": {
            "text/html": [
              "<div>\n",
              "<style scoped>\n",
              "    .dataframe tbody tr th:only-of-type {\n",
              "        vertical-align: middle;\n",
              "    }\n",
              "\n",
              "    .dataframe tbody tr th {\n",
              "        vertical-align: top;\n",
              "    }\n",
              "\n",
              "    .dataframe thead th {\n",
              "        text-align: right;\n",
              "    }\n",
              "</style>\n",
              "<table border=\"1\" class=\"dataframe\">\n",
              "  <thead>\n",
              "    <tr style=\"text-align: right;\">\n",
              "      <th></th>\n",
              "      <th>id</th>\n",
              "      <th>income</th>\n",
              "      <th>aspect</th>\n",
              "      <th>subscriptions</th>\n",
              "      <th>...</th>\n",
              "      <th>area_a</th>\n",
              "      <th>area_b</th>\n",
              "      <th>area_c</th>\n",
              "      <th>area_d</th>\n",
              "    </tr>\n",
              "  </thead>\n",
              "  <tbody>\n",
              "    <tr>\n",
              "      <th>0</th>\n",
              "      <td>1</td>\n",
              "      <td>50876.0</td>\n",
              "      <td>13.100000</td>\n",
              "      <td>1</td>\n",
              "      <td>...</td>\n",
              "      <td>0</td>\n",
              "      <td>0</td>\n",
              "      <td>1</td>\n",
              "      <td>0</td>\n",
              "    </tr>\n",
              "    <tr>\n",
              "      <th>1</th>\n",
              "      <td>2</td>\n",
              "      <td>60369.0</td>\n",
              "      <td>18.625000</td>\n",
              "      <td>2</td>\n",
              "      <td>...</td>\n",
              "      <td>0</td>\n",
              "      <td>0</td>\n",
              "      <td>1</td>\n",
              "      <td>0</td>\n",
              "    </tr>\n",
              "    <tr>\n",
              "      <th>...</th>\n",
              "      <td>...</td>\n",
              "      <td>...</td>\n",
              "      <td>...</td>\n",
              "      <td>...</td>\n",
              "      <td>...</td>\n",
              "      <td>...</td>\n",
              "      <td>...</td>\n",
              "      <td>...</td>\n",
              "      <td>...</td>\n",
              "    </tr>\n",
              "    <tr>\n",
              "      <th>1998</th>\n",
              "      <td>1999</td>\n",
              "      <td>67949.0</td>\n",
              "      <td>5.733333</td>\n",
              "      <td>0</td>\n",
              "      <td>...</td>\n",
              "      <td>0</td>\n",
              "      <td>0</td>\n",
              "      <td>1</td>\n",
              "      <td>0</td>\n",
              "    </tr>\n",
              "    <tr>\n",
              "      <th>1999</th>\n",
              "      <td>2000</td>\n",
              "      <td>61467.0</td>\n",
              "      <td>16.891667</td>\n",
              "      <td>0</td>\n",
              "      <td>...</td>\n",
              "      <td>0</td>\n",
              "      <td>0</td>\n",
              "      <td>1</td>\n",
              "      <td>0</td>\n",
              "    </tr>\n",
              "  </tbody>\n",
              "</table>\n",
              "<p>2000 rows × 49 columns</p>\n",
              "</div>"
            ],
            "text/plain": [
              "        id   income     aspect  subscriptions  ...  area_a  area_b  area_c  \\\n",
              "0        1  50876.0  13.100000              1  ...       0       0       1   \n",
              "1        2  60369.0  18.625000              2  ...       0       0       1   \n",
              "...    ...      ...        ...            ...  ...     ...     ...     ...   \n",
              "1998  1999  67949.0   5.733333              0  ...       0       0       1   \n",
              "1999  2000  61467.0  16.891667              0  ...       0       0       1   \n",
              "\n",
              "      area_d  \n",
              "0          0  \n",
              "1          0  \n",
              "...      ...  \n",
              "1998       0  \n",
              "1999       0  \n",
              "\n",
              "[2000 rows x 49 columns]"
            ]
          },
          "metadata": {
            "tags": []
          }
        }
      ]
    },
    {
      "cell_type": "code",
      "metadata": {
        "colab": {
          "base_uri": "https://localhost:8080/"
        },
        "id": "Tm9M_WqkPKKo",
        "outputId": "b9c4f816-dde6-4016-b8a2-36e855728109"
      },
      "source": [
        "print(list(df.columns))"
      ],
      "execution_count": 7,
      "outputs": [
        {
          "output_type": "stream",
          "text": [
            "['id', 'income', 'aspect', 'subscriptions', 'dist_healthy', 'save_rate', 'dist_unhealthy', 'age', 'pop_dense', 'retail_dense', 'crime', 'product', 'job_11', 'job_al', 'job_am', 'job_ax', 'job_bf', 'job_by', 'job_cv', 'job_de', 'job_dz', 'job_e2', 'job_f8', 'job_gj', 'job_gv', 'job_kd', 'job_ke', 'job_kl', 'job_kp', 'job_ks', 'job_kw', 'job_mm', 'job_nb', 'job_nn', 'job_ob', 'job_pe', 'job_po', 'job_pq', 'job_pz', 'job_qp', 'job_qw', 'job_rn', 'job_sa', 'job_vv', 'job_zz', 'area_a', 'area_b', 'area_c', 'area_d']\n"
          ],
          "name": "stdout"
        }
      ]
    },
    {
      "cell_type": "code",
      "metadata": {
        "colab": {
          "base_uri": "https://localhost:8080/"
        },
        "id": "t4oc1xdqPRmN",
        "outputId": "b919cc96-8142-47c9-b232-1d7e3c926c1c"
      },
      "source": [
        "x_columns=df.columns.drop('product').drop('id')\r\n",
        "print(list(x_columns))"
      ],
      "execution_count": 8,
      "outputs": [
        {
          "output_type": "stream",
          "text": [
            "['income', 'aspect', 'subscriptions', 'dist_healthy', 'save_rate', 'dist_unhealthy', 'age', 'pop_dense', 'retail_dense', 'crime', 'job_11', 'job_al', 'job_am', 'job_ax', 'job_bf', 'job_by', 'job_cv', 'job_de', 'job_dz', 'job_e2', 'job_f8', 'job_gj', 'job_gv', 'job_kd', 'job_ke', 'job_kl', 'job_kp', 'job_ks', 'job_kw', 'job_mm', 'job_nb', 'job_nn', 'job_ob', 'job_pe', 'job_po', 'job_pq', 'job_pz', 'job_qp', 'job_qw', 'job_rn', 'job_sa', 'job_vv', 'job_zz', 'area_a', 'area_b', 'area_c', 'area_d']\n"
          ],
          "name": "stdout"
        }
      ]
    },
    {
      "cell_type": "code",
      "metadata": {
        "colab": {
          "base_uri": "https://localhost:8080/"
        },
        "id": "dgmcvkZTPni-",
        "outputId": "c31c0d71-e7f6-424e-96a6-9df25b26ec4b"
      },
      "source": [
        "#classification test train x,y\r\n",
        "x_columns=df.columns.drop('product').drop('id')\r\n",
        "x=df[x_columns].values\r\n",
        "dummies=pd.get_dummies(df['product'])\r\n",
        "products=dummies.columns\r\n",
        "y=dummies.values\r\n",
        "print(x)\r\n",
        "print(y)"
      ],
      "execution_count": 11,
      "outputs": [
        {
          "output_type": "stream",
          "text": [
            "[[5.08760000e+04 1.31000000e+01 1.00000000e+00 ... 0.00000000e+00\n",
            "  1.00000000e+00 0.00000000e+00]\n",
            " [6.03690000e+04 1.86250000e+01 2.00000000e+00 ... 0.00000000e+00\n",
            "  1.00000000e+00 0.00000000e+00]\n",
            " [5.51260000e+04 3.47666667e+01 1.00000000e+00 ... 0.00000000e+00\n",
            "  1.00000000e+00 0.00000000e+00]\n",
            " ...\n",
            " [2.85950000e+04 3.94250000e+01 3.00000000e+00 ... 0.00000000e+00\n",
            "  0.00000000e+00 1.00000000e+00]\n",
            " [6.79490000e+04 5.73333333e+00 0.00000000e+00 ... 0.00000000e+00\n",
            "  1.00000000e+00 0.00000000e+00]\n",
            " [6.14670000e+04 1.68916667e+01 0.00000000e+00 ... 0.00000000e+00\n",
            "  1.00000000e+00 0.00000000e+00]]\n",
            "[[0 1 0 ... 0 0 0]\n",
            " [0 0 1 ... 0 0 0]\n",
            " [0 1 0 ... 0 0 0]\n",
            " ...\n",
            " [0 0 0 ... 0 1 0]\n",
            " [0 0 1 ... 0 0 0]\n",
            " [0 0 1 ... 0 0 0]]\n"
          ],
          "name": "stdout"
        }
      ]
    },
    {
      "cell_type": "markdown",
      "metadata": {
        "id": "QD4Z8nVHQh_x"
      },
      "source": [
        "The x and y values are now ready for a neural network. Make sure that you construct the neural network for a classification problem. Specifically,\r\n",
        "\r\n",
        "Classification neural networks have an output neuron count equal to the number of classes.\r\n",
        "\r\n",
        "Classification neural networks should use categorical_crossentropy and a softmax activation function on the output layer."
      ]
    },
    {
      "cell_type": "code",
      "metadata": {
        "id": "z04YlVMDQ7mI"
      },
      "source": [
        "from tensorflow.keras.models import Sequential\r\n",
        "from tensorflow.keras.layers import Dense, Activation\r\n",
        "import pandas as pd\r\n",
        "import io\r\n",
        "import os\r\n",
        "import requests\r\n",
        "import numpy as np\r\n",
        "from sklearn import metrics"
      ],
      "execution_count": 15,
      "outputs": []
    },
    {
      "cell_type": "code",
      "metadata": {
        "id": "wdR5Mls2SGI6"
      },
      "source": [
        "model=Sequential()\r\n",
        "model.add(Dense(25,input_dim=x.shape[1],activation='relu'))\r\n",
        "model.add(Dense(10,activation='relu'))\r\n",
        "model.add(Dense(y.shape[1],activation='softmax'))\r\n",
        "model.compile(loss='categorical_crossentropy',optimizer='adam')\r\n",
        "model.fit(x,y,verbose=1,epochs=100)\r\n"
      ],
      "execution_count": null,
      "outputs": []
    },
    {
      "cell_type": "code",
      "metadata": {
        "colab": {
          "base_uri": "https://localhost:8080/"
        },
        "id": "6iOj9xOTS-H_",
        "outputId": "0372bda9-8c0c-4c3c-88ff-8b4446f1bf88"
      },
      "source": [
        "predval=model.predict(np.array([x[2]]))\r\n",
        "predindex=np.argmax(predval)  #it returns index XD\r\n",
        "predclass=products[predindex]\r\n",
        "print(f'predicted class:{predclass}')"
      ],
      "execution_count": 32,
      "outputs": [
        {
          "output_type": "stream",
          "text": [
            "predicted class:b\n"
          ],
          "name": "stdout"
        }
      ]
    },
    {
      "cell_type": "code",
      "metadata": {
        "id": "A6qYehvgQkZj"
      },
      "source": [
        "#for regression Neural Network\r\n",
        "y=df['income'].values"
      ],
      "execution_count": 33,
      "outputs": []
    },
    {
      "cell_type": "markdown",
      "metadata": {
        "id": "CQw1ueJjQ5L5"
      },
      "source": [
        "For a regression neural network, the x values are generated the same. However, y does not use dummies. Make sure to replace income with your actual target."
      ]
    },
    {
      "cell_type": "code",
      "metadata": {
        "id": "UTAxY1aCVKBw"
      },
      "source": [
        "from tensorflow.keras.models import Sequential\r\n",
        "from tensorflow.keras.layers import Dense, Activation\r\n",
        "import io\r\n",
        "import os\r\n",
        "import numpy as np\r\n",
        "import requests\r\n",
        "from sklearn import metrics"
      ],
      "execution_count": 34,
      "outputs": []
    },
    {
      "cell_type": "code",
      "metadata": {
        "id": "xdk6FturVg1s"
      },
      "source": [
        "model=Sequential()\r\n",
        "model.add(Dense(25,input_dim=x.shape[1],activation='relu'))\r\n",
        "model.add(Dense(10,activation='relu'))\r\n",
        "model.add(Dense(1)) #no activation\r\n",
        "model.compile(loss='mean_squared_error',optimizer='adam')\r\n",
        "model.fit(x,y,verbose=1,epochs=50)"
      ],
      "execution_count": null,
      "outputs": []
    },
    {
      "cell_type": "code",
      "metadata": {
        "colab": {
          "base_uri": "https://localhost:8080/"
        },
        "id": "m7IFneVpWbWf",
        "outputId": "a1988bed-ba13-42ca-e2ec-2f867c267eae"
      },
      "source": [
        "model.predict(np.array([x[1]]))"
      ],
      "execution_count": 36,
      "outputs": [
        {
          "output_type": "execute_result",
          "data": {
            "text/plain": [
              "array([[60369.742]], dtype=float32)"
            ]
          },
          "metadata": {
            "tags": []
          },
          "execution_count": 36
        }
      ]
    }
  ]
}