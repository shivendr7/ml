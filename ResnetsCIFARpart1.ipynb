{
  "nbformat": 4,
  "nbformat_minor": 0,
  "metadata": {
    "colab": {
      "name": "ResnetsCIFARpart1.ipynb",
      "provenance": [],
      "authorship_tag": "ABX9TyM2ZNtwNOt6//NSq19ZJWem",
      "include_colab_link": true
    },
    "kernelspec": {
      "name": "python3",
      "display_name": "Python 3"
    }
  },
  "cells": [
    {
      "cell_type": "markdown",
      "metadata": {
        "id": "view-in-github",
        "colab_type": "text"
      },
      "source": [
        "<a href=\"https://colab.research.google.com/github/shivendr7/ml/blob/main/ResnetsCIFARpart1.ipynb\" target=\"_parent\"><img src=\"https://colab.research.google.com/assets/colab-badge.svg\" alt=\"Open In Colab\"/></a>"
      ]
    },
    {
      "cell_type": "code",
      "metadata": {
        "id": "Gj4PGjEbzRKP",
        "colab": {
          "base_uri": "https://localhost:8080/"
        },
        "outputId": "f72197e6-bb70-4912-f1e2-77ae2c37d14e"
      },
      "source": [
        "from __future__ import print_function\r\n",
        "import tensorflow.keras\r\n",
        "from tensorflow.keras.layers import  Dense, Conv2D\r\n",
        "from tensorflow.keras.layers import BatchNormalization, Activation\r\n",
        "from tensorflow.keras.layers import AveragePooling2D, Input, Flatten\r\n",
        "from tensorflow.keras.optimizers import Adam\r\n",
        "from tensorflow.keras.callbacks import ModelCheckpoint\r\n",
        "from tensorflow.keras.callbacks import LearningRateScheduler\r\n",
        "from tensorflow.keras.callbacks import ReduceLROnPlateau\r\n",
        "from tensorflow.keras.preprocessing.image import ImageDataGenerator\r\n",
        "from tensorflow.keras.regularizers import l2\r\n",
        "from tensorflow.keras import backend as K\r\n",
        "from tensorflow.keras.models import Model\r\n",
        "from tensorflow.keras.datasets import cifar10\r\n",
        "import numpy as np\r\n",
        "import os\r\n",
        "\r\n",
        "(x_train, y_train), (x_test, y_test)= cifar10.load_data()"
      ],
      "execution_count": 1,
      "outputs": [
        {
          "output_type": "stream",
          "text": [
            "Downloading data from https://www.cs.toronto.edu/~kriz/cifar-10-python.tar.gz\n",
            "170500096/170498071 [==============================] - 2s 0us/step\n"
          ],
          "name": "stdout"
        }
      ]
    },
    {
      "cell_type": "code",
      "metadata": {
        "id": "daavHQwn1Uno"
      },
      "source": [
        "import numpy as np\r\n",
        "import matplotlib.pyplot as plt\r\n",
        "from six.moves import cPickle\r\n",
        "\r\n",
        "R=10\r\n",
        "\r\n",
        "x=x_train.astype('uint8')\r\n",
        "\r\n",
        "fig, axes= plt.subplots(R, R, figsize=(10, 10))\r\n",
        "\r\n",
        "for i in range(R):\r\n",
        "  for j in range(R):\r\n",
        "    k=np.random.choice(range(len(x)))\r\n",
        "    axes[i][j].set_axis_off()\r\n",
        "    axes[i][j].imshow(x[k])"
      ],
      "execution_count": null,
      "outputs": []
    },
    {
      "cell_type": "code",
      "metadata": {
        "colab": {
          "base_uri": "https://localhost:8080/",
          "height": 350
        },
        "id": "QPrIPjJb2e0M",
        "outputId": "bc381282-b645-45ac-9a04-dfa2be1d4686"
      },
      "source": [
        "plt.imshow(x[1], cmap='gray', interpolation='nearest')\r\n",
        "x.shape, x[:1].shape, x[1].shape, x[2:3][0].shape,y_train[1]"
      ],
      "execution_count": 3,
      "outputs": [
        {
          "output_type": "execute_result",
          "data": {
            "text/plain": [
              "((50000, 32, 32, 3),\n",
              " (1, 32, 32, 3),\n",
              " (32, 32, 3),\n",
              " (32, 32, 3),\n",
              " array([9], dtype=uint8))"
            ]
          },
          "metadata": {
            "tags": []
          },
          "execution_count": 3
        },
        {
          "output_type": "display_data",
          "data": {
            "image/png": "[encoded data removed]",
            "text/plain": [
              "<Figure size 432x288 with 1 Axes>"
            ]
          },
          "metadata": {
            "tags": [],
            "needs_background": "light"
          }
        }
      ]
    },
    {
      "cell_type": "code",
      "metadata": {
        "id": "cTgQLKn85ATt"
      },
      "source": [
        "#learning rate decay schedule\r\n",
        "def lr_schedule(epoch):\r\n",
        "  lr=1e-3\r\n",
        "  if epoch>180:\r\n",
        "    lr*=0.5e-3\r\n",
        "  elif epoch>160:\r\n",
        "    lr*=1e-3\r\n",
        "  elif epoch>120:\r\n",
        "    lr*=1e-2\r\n",
        "  elif epoch>80:\r\n",
        "    lr*=1e-1\r\n",
        "  print('changed learning rate:',lr)\r\n",
        "  return lr"
      ],
      "execution_count": 4,
      "outputs": []
    },
    {
      "cell_type": "code",
      "metadata": {
        "id": "E3c8h6S36fEm"
      },
      "source": [
        "def resnet_layer(inputs,\r\n",
        "                 num_filters=16,\r\n",
        "                 kernel_size=3,\r\n",
        "                 strides=1,\r\n",
        "                 activation='relu',\r\n",
        "                 batch_normalization=True,\r\n",
        "                 conv_first=True):\r\n",
        "  \"\"\"2D Convolution-Batch Normalization-Activation stack builder\r\n",
        "\r\n",
        "    # Arguments\r\n",
        "        inputs (tensor): input tensor from input image or previous layer\r\n",
        "        num_filters (int): Conv2D number of filters\r\n",
        "        kernel_size (int): Conv2D square kernel dimensions\r\n",
        "        strides (int): Conv2D square stride dimensions\r\n",
        "        activation (string): activation name\r\n",
        "        batch_normalization (bool): whether to include batch normalization\r\n",
        "        conv_first (bool): conv-bn-activation (True) or\r\n",
        "            bn-activation-conv (False)\r\n",
        "\r\n",
        "    # Returns\r\n",
        "        x (tensor): tensor as input to the next layer\r\n",
        "    \"\"\"\r\n",
        "  conv=Conv2D(num_filters,\r\n",
        "                kernel_size=kernel_size,\r\n",
        "                strides=strides,\r\n",
        "                padding='same',\r\n",
        "                kernel_initializer='he_normal',\r\n",
        "                kernel_regularizer=l2(1e-4))\r\n",
        "  x=inputs\r\n",
        "  if conv_first:\r\n",
        "    x=conv(x)\r\n",
        "    if batch_normalization:\r\n",
        "      x=BatchNormalization()(x)\r\n",
        "    if activation is not None:\r\n",
        "      x=Activation(activation)(x)\r\n",
        "  else:\r\n",
        "    if batch_normalization:\r\n",
        "      x=BatchNormalization()(x)\r\n",
        "    if activation is not None:\r\n",
        "      x=Activation(activation)(x)\r\n",
        "    x=conv(x)\r\n",
        "  \r\n",
        "  return x\r\n"
      ],
      "execution_count": 11,
      "outputs": []
    },
    {
      "cell_type": "code",
      "metadata": {
        "colab": {
          "base_uri": "https://localhost:8080/"
        },
        "id": "K1ekGQrmcdiG",
        "outputId": "8fe48c46-8ed7-47f8-f861-4cfe9fd9bd31"
      },
      "source": [
        "from tensorflow.keras.layers import Add\r\n",
        "\r\n",
        "inputs=Input(shape= x_train.shape[1:])\r\n",
        "\r\n",
        "outputs=resnet_layer(inputs=inputs)\r\n",
        "#shorting=Add()([inputs,outputs])\r\n",
        "modelResnetLayer=Model(inputs=inputs, outputs=outputs)\r\n",
        "modelResnetLayer.compile()\r\n",
        "modelResnetLayer.summary()"
      ],
      "execution_count": 6,
      "outputs": [
        {
          "output_type": "stream",
          "text": [
            "Model: \"model\"\n",
            "_________________________________________________________________\n",
            "Layer (type)                 Output Shape              Param #   \n",
            "=================================================================\n",
            "input_1 (InputLayer)         [(None, 32, 32, 3)]       0         \n",
            "_________________________________________________________________\n",
            "conv2d (Conv2D)              (None, 32, 32, 16)        448       \n",
            "_________________________________________________________________\n",
            "batch_normalization (BatchNo (None, 32, 32, 16)        64        \n",
            "_________________________________________________________________\n",
            "activation (Activation)      (None, 32, 32, 16)        0         \n",
            "=================================================================\n",
            "Total params: 512\n",
            "Trainable params: 480\n",
            "Non-trainable params: 32\n",
            "_________________________________________________________________\n"
          ],
          "name": "stdout"
        }
      ]
    },
    {
      "cell_type": "code",
      "metadata": {
        "colab": {
          "base_uri": "https://localhost:8080/"
        },
        "id": "uGO6X6Sbau5T",
        "outputId": "5146a3ad-efdc-499a-ca50-fe023cbf0ba9"
      },
      "source": [
        "# (kernel_Width*kernel_height*layers_in_prev+1(bias))*layers_in_current\r\n",
        "# batch normalization params= 4*no. of layers in current [in mode 1]\r\n",
        "(5*5*3+1)*32"
      ],
      "execution_count": 20,
      "outputs": [
        {
          "output_type": "execute_result",
          "data": {
            "text/plain": [
              "2432"
            ]
          },
          "metadata": {
            "tags": []
          },
          "execution_count": 20
        }
      ]
    },
    {
      "cell_type": "code",
      "metadata": {
        "colab": {
          "base_uri": "https://localhost:8080/"
        },
        "id": "ogYkFsXxKvfN",
        "outputId": "55e485f2-04e6-47fa-fd49-b4b86f2ad2e7"
      },
      "source": [
        "from tensorflow.keras.layers import Add\r\n",
        "\r\n",
        "inputs=Input(shape= x_train.shape[1:])\r\n",
        "#done with padding valid\r\n",
        "outputs=resnet_layer(inputs=inputs,num_filters=32,kernel_size=5)\r\n",
        "#shorting=Add()([inputs,outputs])\r\n",
        "modelResnetLayer=Model(inputs=inputs, outputs=outputs)\r\n",
        "modelResnetLayer.compile()\r\n",
        "modelResnetLayer.summary()"
      ],
      "execution_count": 12,
      "outputs": [
        {
          "output_type": "stream",
          "text": [
            "Model: \"model_5\"\n",
            "_________________________________________________________________\n",
            "Layer (type)                 Output Shape              Param #   \n",
            "=================================================================\n",
            "input_6 (InputLayer)         [(None, 32, 32, 3)]       0         \n",
            "_________________________________________________________________\n",
            "conv2d_5 (Conv2D)            (None, 28, 28, 32)        2432      \n",
            "_________________________________________________________________\n",
            "batch_normalization_5 (Batch (None, 28, 28, 32)        128       \n",
            "_________________________________________________________________\n",
            "activation_5 (Activation)    (None, 28, 28, 32)        0         \n",
            "=================================================================\n",
            "Total params: 2,560\n",
            "Trainable params: 2,496\n",
            "Non-trainable params: 64\n",
            "_________________________________________________________________\n"
          ],
          "name": "stdout"
        }
      ]
    },
    {
      "cell_type": "code",
      "metadata": {
        "colab": {
          "base_uri": "https://localhost:8080/"
        },
        "id": "eKjjKB5HgeCD",
        "outputId": "1ba7cb41-ade7-4b7f-ebbe-f3a2f0ad5c5c"
      },
      "source": [
        "from tensorflow.keras.layers import MaxPooling2D\r\n",
        "inputs=Input(shape= x_train.shape[1:])\r\n",
        "\r\n",
        "outputs=resnet_layer(inputs=inputs)\r\n",
        "#outputs=MaxPooling2D(pool_size=8)(outputs)\r\n",
        "outputs=Flatten()(outputs)\r\n",
        "modelResnetLayer=Model(inputs=inputs, outputs=outputs)\r\n",
        "modelResnetLayer.compile()\r\n",
        "modelResnetLayer.summary()"
      ],
      "execution_count": 9,
      "outputs": [
        {
          "output_type": "stream",
          "text": [
            "Model: \"model_3\"\n",
            "_________________________________________________________________\n",
            "Layer (type)                 Output Shape              Param #   \n",
            "=================================================================\n",
            "input_4 (InputLayer)         [(None, 32, 32, 3)]       0         \n",
            "_________________________________________________________________\n",
            "conv2d_3 (Conv2D)            (None, 32, 32, 16)        448       \n",
            "_________________________________________________________________\n",
            "batch_normalization_3 (Batch (None, 32, 32, 16)        64        \n",
            "_________________________________________________________________\n",
            "activation_3 (Activation)    (None, 32, 32, 16)        0         \n",
            "_________________________________________________________________\n",
            "flatten (Flatten)            (None, 16384)             0         \n",
            "=================================================================\n",
            "Total params: 512\n",
            "Trainable params: 480\n",
            "Non-trainable params: 32\n",
            "_________________________________________________________________\n"
          ],
          "name": "stdout"
        }
      ]
    },
    {
      "cell_type": "markdown",
      "metadata": {
        "id": "1hKs2pquuZL_"
      },
      "source": [
        "ResNet V1"
      ]
    },
    {
      "cell_type": "code",
      "metadata": {
        "id": "ZWo7c_MeubGO"
      },
      "source": [
        "def resnet_v1(input_shape, depth, num_classes=10):\r\n",
        "    \"\"\"ResNet Version 1 Model builder [a]\r\n",
        "\r\n",
        "    Stacks of 2 x (3 x 3) Conv2D-BN-ReLU\r\n",
        "    Last ReLU is after the shortcut connection.\r\n",
        "    At the beginning of each stage, the feature \r\n",
        "    map size is halved (downsampled)\r\n",
        "    by a convolutional layer with strides=2, while the number of \r\n",
        "    filters is\r\n",
        "    doubled. Within each stage, the layers have the same number \r\n",
        "    filters and the same number of filters.\r\n",
        "    Features maps sizes:\r\n",
        "    stage 0: 32x32, 16\r\n",
        "    stage 1: 16x16, 32\r\n",
        "    stage 2:  8x8,  64\r\n",
        "    The Number of parameters is approx the same as Table 6 of [a]:\r\n",
        "    ResNet20 0.27M\r\n",
        "    ResNet32 0.46M\r\n",
        "    ResNet44 0.66M\r\n",
        "    ResNet56 0.85M\r\n",
        "    ResNet110 1.7M\r\n",
        "\r\n",
        "    # Arguments\r\n",
        "        input_shape (tensor): shape of input image tensor\r\n",
        "        depth (int): number of core convolutional layers\r\n",
        "        num_classes (int): number of classes (CIFAR10 has 10)\r\n",
        "\r\n",
        "    # Returns\r\n",
        "        model (Model): Keras model instance\r\n",
        "    \"\"\"\r\n",
        "    if (depth-2)%6 !=0:\r\n",
        "      raise ValueError('depth should be 6n+2')\r\n",
        "\r\n",
        "    #model definition\r\n",
        "    num_filters=16\r\n",
        "    num_res_blocks=int((depth-2)/6)\r\n",
        "\r\n",
        "    inputs=Input(shape= input_shape)\r\n",
        "    x= resnet_layer(inputs= inputs)\r\n",
        "    #Intantiate the stack of residual units\r\n",
        "\r\n",
        "    for stack in range(3):\r\n",
        "      for res_block in range(num_res_blocks):\r\n",
        "        # first layer but not first stack\r\n",
        "        strides=2 if stack>0 and res_block==0 else 1\r\n",
        "\r\n",
        "        y=resnet_layer(inputs=x, num_filters=num_filters, strides=strides)\r\n",
        "        y=resnet_layer(inputs=y, num_filters=num_filters, activation=None)\r\n",
        "\r\n",
        "        # first layer but not first stack\r\n",
        "        if stack>0 and res_block==0:\r\n",
        "          # linear projection residual shortcut connection to match\r\n",
        "          # changed dims\r\n",
        "\r\n",
        "          x= resnet_layer(inputs=x, \r\n",
        "                          num_filters= num_filters,\r\n",
        "                          kernel_size=1,\r\n",
        "                          strides=strides,\r\n",
        "                          activation=None,\r\n",
        "                          batch_normalization=False)\r\n",
        "          x= tensorflow.keras.layers.add([x,y])\r\n",
        "          x= Activation('relu')(x)\r\n",
        "\r\n",
        "        num_filters *=2\r\n",
        "      \r\n",
        "    x=AveragePooling2D(pool_size=8)(x)\r\n",
        "    y=Flatten()(x)\r\n",
        "\r\n",
        "    outputs= Dense(num_classes,\r\n",
        "                     activation='softmax',\r\n",
        "                     kernel_initializer='he_normal')(y)\r\n",
        "\r\n",
        "    model= Model(inputs= inputs, outputs=outputs)\r\n",
        "    return model\r\n"
      ],
      "execution_count": null,
      "outputs": []
    },
    {
      "cell_type": "code",
      "metadata": {
        "colab": {
          "base_uri": "https://localhost:8080/"
        },
        "id": "DfFzpzBJ52ys",
        "outputId": "9a3e1945-aa49-4f91-d151-ac557613d867"
      },
      "source": [
        "x_train.shape[1:]"
      ],
      "execution_count": null,
      "outputs": [
        {
          "output_type": "execute_result",
          "data": {
            "text/plain": [
              "(32, 32, 3)"
            ]
          },
          "metadata": {
            "tags": []
          },
          "execution_count": 18
        }
      ]
    },
    {
      "cell_type": "code",
      "metadata": {
        "colab": {
          "base_uri": "https://localhost:8080/"
        },
        "id": "-AWyUsP7yD52",
        "outputId": "7b7a162a-d73a-40a6-9d0f-fbdd4dee9eb5"
      },
      "source": [
        "x_train = x_train.astype('float32') /255\r\n",
        "x_test = x_test.astype('float32') / 255\r\n",
        "\r\n",
        "y_train_label=tensorflow.keras.utils.to_categorical(y_train, 10)\r\n",
        "y_test_label=tensorflow.keras.utils.to_categorical(y_test, 10)\r\n",
        "\r\n",
        "model=resnet_v1(input_shape=x_train.shape[1:], depth=(x_train.shape[3]*6 +2))\r\n",
        "\r\n",
        "model.compile(loss='categorical_crossentropy',\r\n",
        "              optimizer=Adam(lr=lr_schedule(0)),\r\n",
        "              metrics=['accuracy'])\r\n",
        "model.summary()"
      ],
      "execution_count": null,
      "outputs": [
        {
          "output_type": "stream",
          "text": [
            "changed learning rate: 0.001\n",
            "Model: \"model\"\n",
            "__________________________________________________________________________________________________\n",
            "Layer (type)                    Output Shape         Param #     Connected to                     \n",
            "==================================================================================================\n",
            "input_4 (InputLayer)            [(None, 32, 32, 3)]  0                                            \n",
            "__________________________________________________________________________________________________\n",
            "conv2d (Conv2D)                 (None, 32, 32, 16)   448         input_4[0][0]                    \n",
            "__________________________________________________________________________________________________\n",
            "batch_normalization (BatchNorma (None, 32, 32, 16)   64          conv2d[0][0]                     \n",
            "__________________________________________________________________________________________________\n",
            "activation (Activation)         (None, 32, 32, 16)   0           batch_normalization[0][0]        \n",
            "__________________________________________________________________________________________________\n",
            "conv2d_7 (Conv2D)               (None, 16, 16, 128)  18560       activation[0][0]                 \n",
            "__________________________________________________________________________________________________\n",
            "batch_normalization_7 (BatchNor (None, 16, 16, 128)  512         conv2d_7[0][0]                   \n",
            "__________________________________________________________________________________________________\n",
            "activation_4 (Activation)       (None, 16, 16, 128)  0           batch_normalization_7[0][0]      \n",
            "__________________________________________________________________________________________________\n",
            "conv2d_8 (Conv2D)               (None, 16, 16, 128)  147584      activation_4[0][0]               \n",
            "__________________________________________________________________________________________________\n",
            "conv2d_9 (Conv2D)               (None, 16, 16, 128)  2176        activation[0][0]                 \n",
            "__________________________________________________________________________________________________\n",
            "batch_normalization_8 (BatchNor (None, 16, 16, 128)  512         conv2d_8[0][0]                   \n",
            "__________________________________________________________________________________________________\n",
            "add (Add)                       (None, 16, 16, 128)  0           conv2d_9[0][0]                   \n",
            "                                                                 batch_normalization_8[0][0]      \n",
            "__________________________________________________________________________________________________\n",
            "activation_5 (Activation)       (None, 16, 16, 128)  0           add[0][0]                        \n",
            "__________________________________________________________________________________________________\n",
            "conv2d_14 (Conv2D)              (None, 8, 8, 1024)   1180672     activation_5[0][0]               \n",
            "__________________________________________________________________________________________________\n",
            "batch_normalization_13 (BatchNo (None, 8, 8, 1024)   4096        conv2d_14[0][0]                  \n",
            "__________________________________________________________________________________________________\n",
            "activation_8 (Activation)       (None, 8, 8, 1024)   0           batch_normalization_13[0][0]     \n",
            "__________________________________________________________________________________________________\n",
            "conv2d_15 (Conv2D)              (None, 8, 8, 1024)   9438208     activation_8[0][0]               \n",
            "__________________________________________________________________________________________________\n",
            "conv2d_16 (Conv2D)              (None, 8, 8, 1024)   132096      activation_5[0][0]               \n",
            "__________________________________________________________________________________________________\n",
            "batch_normalization_14 (BatchNo (None, 8, 8, 1024)   4096        conv2d_15[0][0]                  \n",
            "__________________________________________________________________________________________________\n",
            "add_1 (Add)                     (None, 8, 8, 1024)   0           conv2d_16[0][0]                  \n",
            "                                                                 batch_normalization_14[0][0]     \n",
            "__________________________________________________________________________________________________\n",
            "activation_9 (Activation)       (None, 8, 8, 1024)   0           add_1[0][0]                      \n",
            "__________________________________________________________________________________________________\n",
            "average_pooling2d (AveragePooli (None, 1, 1, 1024)   0           activation_9[0][0]               \n",
            "__________________________________________________________________________________________________\n",
            "flatten (Flatten)               (None, 1024)         0           average_pooling2d[0][0]          \n",
            "__________________________________________________________________________________________________\n",
            "dense (Dense)                   (None, 10)           10250       flatten[0][0]                    \n",
            "==================================================================================================\n",
            "Total params: 10,939,274\n",
            "Trainable params: 10,934,634\n",
            "Non-trainable params: 4,640\n",
            "__________________________________________________________________________________________________\n"
          ],
          "name": "stdout"
        }
      ]
    },
    {
      "cell_type": "code",
      "metadata": {
        "colab": {
          "base_uri": "https://localhost:8080/"
        },
        "id": "njyOsyAmH14r",
        "outputId": "c5881696-d675-411a-bc04-ef93643e35d3"
      },
      "source": [
        "x_train.shape,y_train.shape"
      ],
      "execution_count": null,
      "outputs": [
        {
          "output_type": "execute_result",
          "data": {
            "text/plain": [
              "((50000, 32, 32, 3), (50000, 1))"
            ]
          },
          "metadata": {
            "tags": []
          },
          "execution_count": 22
        }
      ]
    },
    {
      "cell_type": "code",
      "metadata": {
        "colab": {
          "base_uri": "https://localhost:8080/"
        },
        "id": "i7WsWvFXYfPp",
        "outputId": "30a92d2d-6156-47f0-d36d-55d1e59af70c"
      },
      "source": [
        "import tensorflow as tf\r\n",
        "x = tf.constant([[1., 2., 3.],\r\n",
        "                 [4., 5., 6.]])\r\n",
        "print(x.shape,x)\r\n",
        "x = tf.reshape(x, [1, 2, 3, 1])  # give a shape accepted by tf.nn.max_pool\r\n",
        "print(x.shape,x)\r\n",
        "valid_pad = tf.nn.max_pool(x, [1, 2, 2, 1], [1, 2, 2, 1], padding='VALID')\r\n",
        "same_pad = tf.nn.max_pool(x, [1, 2, 2, 1], [1, 2, 2, 1], padding='SAME')\r\n",
        "\r\n",
        "valid_pad.get_shape() == [1, 1, 1, 1],   same_pad.get_shape() == [1, 1, 2, 1]  # valid_pad is [5.] # same_pad is  [5., 6.]"
      ],
      "execution_count": 17,
      "outputs": [
        {
          "output_type": "stream",
          "text": [
            "(2, 3) tf.Tensor(\n",
            "[[1. 2. 3.]\n",
            " [4. 5. 6.]], shape=(2, 3), dtype=float32)\n",
            "(1, 2, 3, 1) tf.Tensor(\n",
            "[[[[1.]\n",
            "   [2.]\n",
            "   [3.]]\n",
            "\n",
            "  [[4.]\n",
            "   [5.]\n",
            "   [6.]]]], shape=(1, 2, 3, 1), dtype=float32)\n"
          ],
          "name": "stdout"
        },
        {
          "output_type": "execute_result",
          "data": {
            "text/plain": [
              "(True, True)"
            ]
          },
          "metadata": {
            "tags": []
          },
          "execution_count": 17
        }
      ]
    }
  ]
}