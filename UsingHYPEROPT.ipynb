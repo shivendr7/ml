{
  "nbformat": 4,
  "nbformat_minor": 0,
  "metadata": {
    "colab": {
      "name": "UsingHYPEROPT.ipynb",
      "provenance": [],
      "authorship_tag": "ABX9TyO/vjrBYLA3FaFhqwXI8nsu",
      "include_colab_link": true
    },
    "kernelspec": {
      "name": "python3",
      "display_name": "Python 3"
    },
    "language_info": {
      "name": "python"
    }
  },
  "cells": [
    {
      "cell_type": "markdown",
      "metadata": {
        "id": "view-in-github",
        "colab_type": "text"
      },
      "source": [
        "<a href=\"https://colab.research.google.com/github/shivendr7/ml/blob/main/UsingHYPEROPT.ipynb\" target=\"_parent\"><img src=\"https://colab.research.google.com/assets/colab-badge.svg\" alt=\"Open In Colab\"/></a>"
      ]
    },
    {
      "cell_type": "markdown",
      "metadata": {
        "id": "0lgiNwXtyVae"
      },
      "source": [
        "https://medium.com/district-data-labs/parameter-tuning-with-hyperopt-faa86acdfdce"
      ]
    },
    {
      "cell_type": "markdown",
      "metadata": {
        "id": "5THbU0k-lvY3"
      },
      "source": [
        "We can modify random search adding more attention to the areas where we have already find quite a good solutions. There are different ways to do it. We will consider two of them Tree-structured Parzen Estimator and Simulated Anneal.\n"
      ]
    },
    {
      "cell_type": "markdown",
      "metadata": {
        "id": "KkjFEhaDmPuD"
      },
      "source": [
        "First of all let's import some useful functions from the hyperopt:\n",
        "\n",
        "fmin - the main function for us, it will minimize our functional;\n",
        "tpe and anneal - optimization approaches;\n",
        "hp - include different distributions of variables;\n",
        "Trials - is used for logging"
      ]
    },
    {
      "cell_type": "code",
      "metadata": {
        "id": "W78bf3PJmBKn"
      },
      "source": [
        "from hyperopt import fmin, tpe, hp, anneal, Trials"
      ],
      "execution_count": 1,
      "outputs": []
    },
    {
      "cell_type": "code",
      "metadata": {
        "id": "Uk51zDEs23hE"
      },
      "source": [
        "from sklearn.model_selection import cross_val_score"
      ],
      "execution_count": 11,
      "outputs": []
    },
    {
      "cell_type": "code",
      "metadata": {
        "id": "89WQQhH2mmqA"
      },
      "source": [
        "_import numpy as np\n",
        "import pandas as pd"
      ],
      "execution_count": 2,
      "outputs": []
    },
    {
      "cell_type": "code",
      "metadata": {
        "id": "ITaq7kPZoq1_"
      },
      "source": [
        "import matplotlib.pyplot as plt"
      ],
      "execution_count": 3,
      "outputs": []
    },
    {
      "cell_type": "code",
      "metadata": {
        "colab": {
          "base_uri": "https://localhost:8080/"
        },
        "id": "stcWU1NlrPbA",
        "outputId": "647a342f-5b53-469d-d83d-afcbd79c1c59"
      },
      "source": [
        "import math as m\n",
        "best = fmin(\n",
        "    fn=lambda x: -m.sin(25*x)/x,   #in order to maximize a function we minimize -f(x)\n",
        "    space=hp.uniform('x', -0.5, 2.5),   #hp.uniform is a built-in hyperoptfunction that takes three parameters: the name, x, and the lower and upper bound of the range\n",
        "    algo=tpe.suggest,\n",
        "    max_evals=100)\n",
        "print(best)"
      ],
      "execution_count": 4,
      "outputs": [
        {
          "output_type": "stream",
          "text": [
            "100%|██████████| 100/100 [00:00<00:00, 297.80it/s, best loss: -24.217104043971947]\n",
            "{'x': 0.017421180855855235}\n"
          ],
          "name": "stdout"
        }
      ]
    },
    {
      "cell_type": "code",
      "metadata": {
        "colab": {
          "base_uri": "https://localhost:8080/"
        },
        "id": "u6sdKf68wof0",
        "outputId": "f71a3495-d49d-4137-e805-72b7a0c5410d"
      },
      "source": [
        "maxima=-best['x']\n",
        "maxima"
      ],
      "execution_count": 5,
      "outputs": [
        {
          "output_type": "execute_result",
          "data": {
            "text/plain": [
              "-0.017421180855855235"
            ]
          },
          "metadata": {
            "tags": []
          },
          "execution_count": 5
        }
      ]
    },
    {
      "cell_type": "code",
      "metadata": {
        "colab": {
          "base_uri": "https://localhost:8080/",
          "height": 298
        },
        "id": "TP5bD4cynSlI",
        "outputId": "0aaf464f-71af-47cc-f53e-bc352fc4cf0b"
      },
      "source": [
        "x=np.arange(-.5, 2.5, 0.005)\n",
        "y=np.sin(25*x)/x\n",
        "plt.plot(x, y)\n",
        "plt.scatter(maxima, m.sin(25*maxima)/maxima) # maxima is marked with 'o'\n",
        "plt.title('sin(25x)/x')"
      ],
      "execution_count": 6,
      "outputs": [
        {
          "output_type": "execute_result",
          "data": {
            "text/plain": [
              "Text(0.5, 1.0, 'sin(25x)/x')"
            ]
          },
          "metadata": {
            "tags": []
          },
          "execution_count": 6
        },
        {
          "output_type": "display_data",
          "data": {
            "image/png": "[encoded data removed]",
            "text/plain": [
              "<Figure size 432x288 with 1 Axes>"
            ]
          },
          "metadata": {
            "tags": [],
            "needs_background": "light"
          }
        }
      ]
    },
    {
      "cell_type": "markdown",
      "metadata": {
        "id": "CLBElK0MsVhs"
      },
      "source": [
        "The parameter algo takes a search algorithm, in this case tpe which stands for tree of Parzen estimators.\n",
        "\n",
        "The algo parameter can also be set to hyperopt.random\n",
        "\n",
        "##Tree-structured Parzen Estimator\n",
        "TPE is a default algorithm for the Hyperopt. It uses Bayesian approach for optimization. At every step it is trying to build probabilistic model of the function and choose the most promising parameters for the next step. Generally this types of algorithms works like this:\n",
        "\n",
        "1. Generate random initial point  x∗ \n",
        "\n",
        "2. Calculate  F(x∗)\n",
        "\n",
        "3. Using the history of trials try to build the conditional probability model  P(F|x)\n",
        "\n",
        "4. Choose  xi  that according to the  P(F|x)  will most probably result in better  F(xi) \n",
        "\n",
        "5. Compute the real value of the  F(xi) \n",
        "\n",
        "6. Repeat steps 3-5 until one of the stop criteria is satisfied, for example i > max_eval\n",
        "\n",
        "More information about particular TPE algorithm you can find, for example, here [https://towardsdatascience.com/a-conceptual-explanation-of-bayesian-model-based-hyperparameter-optimization-for-machine-learning-b8172278050f ] or in other articles"
      ]
    },
    {
      "cell_type": "markdown",
      "metadata": {
        "id": "t43LrXOzywFG"
      },
      "source": [
        "###Capturing Info with Trials\n",
        "It would be nice to see exactly what is happening inside the hyperopt black box. The Trials object allows us to do just that. We need only import a few more items."
      ]
    },
    {
      "cell_type": "code",
      "metadata": {
        "colab": {
          "base_uri": "https://localhost:8080/"
        },
        "id": "wgQR3Cd2nJke",
        "outputId": "baccb7c0-5f72-4815-da97-b3a06b72464c"
      },
      "source": [
        "from hyperopt import fmin, tpe, hp, STATUS_OK, Trials\n",
        "fspace = {\n",
        "    'x': hp.uniform('x', -5, 5)\n",
        "}\n",
        "def f(params):\n",
        "    x = params['x']\n",
        "    val = x**2\n",
        "    return {'loss': val, 'status': STATUS_OK}\n",
        "trials = Trials()\n",
        "best = fmin(fn=f, space=fspace, algo=tpe.suggest, max_evals=50, trials=trials)\n",
        "print('best:', best)\n",
        "print('trials:', trials.trials)\n",
        "for trial in trials.trials[:2]:\n",
        "    print(trial)"
      ],
      "execution_count": 7,
      "outputs": [
        {
          "output_type": "stream",
          "text": [
            "100%|██████████| 50/50 [00:00<00:00, 379.78it/s, best loss: 0.0019545781039108793]\n",
            "best: {'x': 0.04421061076156808}\n",
            "trials: [{'state': 2, 'tid': 0, 'spec': None, 'result': {'loss': 4.461995427788681, 'status': 'ok'}, 'misc': {'tid': 0, 'cmd': ('domain_attachment', 'FMinIter_Domain'), 'workdir': None, 'idxs': {'x': [0]}, 'vals': {'x': [2.1123435865854496]}}, 'exp_key': None, 'owner': None, 'version': 0, 'book_time': datetime.datetime(2021, 7, 6, 22, 4, 54, 159000), 'refresh_time': datetime.datetime(2021, 7, 6, 22, 4, 54, 160000)}, {'state': 2, 'tid': 1, 'spec': None, 'result': {'loss': 18.451652114500373, 'status': 'ok'}, 'misc': {'tid': 1, 'cmd': ('domain_attachment', 'FMinIter_Domain'), 'workdir': None, 'idxs': {'x': [1]}, 'vals': {'x': [4.295538629147732]}}, 'exp_key': None, 'owner': None, 'version': 0, 'book_time': datetime.datetime(2021, 7, 6, 22, 4, 54, 161000), 'refresh_time': datetime.datetime(2021, 7, 6, 22, 4, 54, 161000)}, {'state': 2, 'tid': 2, 'spec': None, 'result': {'loss': 17.649024369325367, 'status': 'ok'}, 'misc': {'tid': 2, 'cmd': ('domain_attachment', 'FMinIter_Domain'), 'workdir': None, 'idxs': {'x': [2]}, 'vals': {'x': [4.201074192313838]}}, 'exp_key': None, 'owner': None, 'version': 0, 'book_time': datetime.datetime(2021, 7, 6, 22, 4, 54, 162000), 'refresh_time': datetime.datetime(2021, 7, 6, 22, 4, 54, 162000)}, {'state': 2, 'tid': 3, 'spec': None, 'result': {'loss': 0.24380797714189853, 'status': 'ok'}, 'misc': {'tid': 3, 'cmd': ('domain_attachment', 'FMinIter_Domain'), 'workdir': None, 'idxs': {'x': [3]}, 'vals': {'x': [0.4937691536962374]}}, 'exp_key': None, 'owner': None, 'version': 0, 'book_time': datetime.datetime(2021, 7, 6, 22, 4, 54, 163000), 'refresh_time': datetime.datetime(2021, 7, 6, 22, 4, 54, 163000)}, {'state': 2, 'tid': 4, 'spec': None, 'result': {'loss': 18.521948387218192, 'status': 'ok'}, 'misc': {'tid': 4, 'cmd': ('domain_attachment', 'FMinIter_Domain'), 'workdir': None, 'idxs': {'x': [4]}, 'vals': {'x': [4.303713325399148]}}, 'exp_key': None, 'owner': None, 'version': 0, 'book_time': datetime.datetime(2021, 7, 6, 22, 4, 54, 164000), 'refresh_time': datetime.datetime(2021, 7, 6, 22, 4, 54, 164000)}, {'state': 2, 'tid': 5, 'spec': None, 'result': {'loss': 1.836251352187723, 'status': 'ok'}, 'misc': {'tid': 5, 'cmd': ('domain_attachment', 'FMinIter_Domain'), 'workdir': None, 'idxs': {'x': [5]}, 'vals': {'x': [-1.3550835222183624]}}, 'exp_key': None, 'owner': None, 'version': 0, 'book_time': datetime.datetime(2021, 7, 6, 22, 4, 54, 166000), 'refresh_time': datetime.datetime(2021, 7, 6, 22, 4, 54, 166000)}, {'state': 2, 'tid': 6, 'spec': None, 'result': {'loss': 4.3123780167609835, 'status': 'ok'}, 'misc': {'tid': 6, 'cmd': ('domain_attachment', 'FMinIter_Domain'), 'workdir': None, 'idxs': {'x': [6]}, 'vals': {'x': [2.076626595409243]}}, 'exp_key': None, 'owner': None, 'version': 0, 'book_time': datetime.datetime(2021, 7, 6, 22, 4, 54, 167000), 'refresh_time': datetime.datetime(2021, 7, 6, 22, 4, 54, 167000)}, {'state': 2, 'tid': 7, 'spec': None, 'result': {'loss': 0.002784186980272936, 'status': 'ok'}, 'misc': {'tid': 7, 'cmd': ('domain_attachment', 'FMinIter_Domain'), 'workdir': None, 'idxs': {'x': [7]}, 'vals': {'x': [-0.052765395670580695]}}, 'exp_key': None, 'owner': None, 'version': 0, 'book_time': datetime.datetime(2021, 7, 6, 22, 4, 54, 168000), 'refresh_time': datetime.datetime(2021, 7, 6, 22, 4, 54, 168000)}, {'state': 2, 'tid': 8, 'spec': None, 'result': {'loss': 1.186884202710274, 'status': 'ok'}, 'misc': {'tid': 8, 'cmd': ('domain_attachment', 'FMinIter_Domain'), 'workdir': None, 'idxs': {'x': [8]}, 'vals': {'x': [-1.0894421520715425]}}, 'exp_key': None, 'owner': None, 'version': 0, 'book_time': datetime.datetime(2021, 7, 6, 22, 4, 54, 169000), 'refresh_time': datetime.datetime(2021, 7, 6, 22, 4, 54, 169000)}, {'state': 2, 'tid': 9, 'spec': None, 'result': {'loss': 2.9304243492678745, 'status': 'ok'}, 'misc': {'tid': 9, 'cmd': ('domain_attachment', 'FMinIter_Domain'), 'workdir': None, 'idxs': {'x': [9]}, 'vals': {'x': [-1.7118482261193235]}}, 'exp_key': None, 'owner': None, 'version': 0, 'book_time': datetime.datetime(2021, 7, 6, 22, 4, 54, 170000), 'refresh_time': datetime.datetime(2021, 7, 6, 22, 4, 54, 170000)}, {'state': 2, 'tid': 10, 'spec': None, 'result': {'loss': 18.64734912258406, 'status': 'ok'}, 'misc': {'tid': 10, 'cmd': ('domain_attachment', 'FMinIter_Domain'), 'workdir': None, 'idxs': {'x': [10]}, 'vals': {'x': [4.318257648934818]}}, 'exp_key': None, 'owner': None, 'version': 0, 'book_time': datetime.datetime(2021, 7, 6, 22, 4, 54, 172000), 'refresh_time': datetime.datetime(2021, 7, 6, 22, 4, 54, 172000)}, {'state': 2, 'tid': 11, 'spec': None, 'result': {'loss': 18.716653729629318, 'status': 'ok'}, 'misc': {'tid': 11, 'cmd': ('domain_attachment', 'FMinIter_Domain'), 'workdir': None, 'idxs': {'x': [11]}, 'vals': {'x': [4.326274809767558]}}, 'exp_key': None, 'owner': None, 'version': 0, 'book_time': datetime.datetime(2021, 7, 6, 22, 4, 54, 173000), 'refresh_time': datetime.datetime(2021, 7, 6, 22, 4, 54, 173000)}, {'state': 2, 'tid': 12, 'spec': None, 'result': {'loss': 0.3447968663336459, 'status': 'ok'}, 'misc': {'tid': 12, 'cmd': ('domain_attachment', 'FMinIter_Domain'), 'workdir': None, 'idxs': {'x': [12]}, 'vals': {'x': [-0.5871940619025757]}}, 'exp_key': None, 'owner': None, 'version': 0, 'book_time': datetime.datetime(2021, 7, 6, 22, 4, 54, 174000), 'refresh_time': datetime.datetime(2021, 7, 6, 22, 4, 54, 174000)}, {'state': 2, 'tid': 13, 'spec': None, 'result': {'loss': 23.17099754998047, 'status': 'ok'}, 'misc': {'tid': 13, 'cmd': ('domain_attachment', 'FMinIter_Domain'), 'workdir': None, 'idxs': {'x': [13]}, 'vals': {'x': [-4.813626237046295]}}, 'exp_key': None, 'owner': None, 'version': 0, 'book_time': datetime.datetime(2021, 7, 6, 22, 4, 54, 175000), 'refresh_time': datetime.datetime(2021, 7, 6, 22, 4, 54, 175000)}, {'state': 2, 'tid': 14, 'spec': None, 'result': {'loss': 10.33458585311246, 'status': 'ok'}, 'misc': {'tid': 14, 'cmd': ('domain_attachment', 'FMinIter_Domain'), 'workdir': None, 'idxs': {'x': [14]}, 'vals': {'x': [-3.2147450681372014]}}, 'exp_key': None, 'owner': None, 'version': 0, 'book_time': datetime.datetime(2021, 7, 6, 22, 4, 54, 176000), 'refresh_time': datetime.datetime(2021, 7, 6, 22, 4, 54, 177000)}, {'state': 2, 'tid': 15, 'spec': None, 'result': {'loss': 6.297296731600676, 'status': 'ok'}, 'misc': {'tid': 15, 'cmd': ('domain_attachment', 'FMinIter_Domain'), 'workdir': None, 'idxs': {'x': [15]}, 'vals': {'x': [2.509441517868204]}}, 'exp_key': None, 'owner': None, 'version': 0, 'book_time': datetime.datetime(2021, 7, 6, 22, 4, 54, 178000), 'refresh_time': datetime.datetime(2021, 7, 6, 22, 4, 54, 178000)}, {'state': 2, 'tid': 16, 'spec': None, 'result': {'loss': 0.010218923269121357, 'status': 'ok'}, 'misc': {'tid': 16, 'cmd': ('domain_attachment', 'FMinIter_Domain'), 'workdir': None, 'idxs': {'x': [16]}, 'vals': {'x': [0.10108869011477672]}}, 'exp_key': None, 'owner': None, 'version': 0, 'book_time': datetime.datetime(2021, 7, 6, 22, 4, 54, 179000), 'refresh_time': datetime.datetime(2021, 7, 6, 22, 4, 54, 179000)}, {'state': 2, 'tid': 17, 'spec': None, 'result': {'loss': 23.12824003607219, 'status': 'ok'}, 'misc': {'tid': 17, 'cmd': ('domain_attachment', 'FMinIter_Domain'), 'workdir': None, 'idxs': {'x': [17]}, 'vals': {'x': [-4.809182886527834]}}, 'exp_key': None, 'owner': None, 'version': 0, 'book_time': datetime.datetime(2021, 7, 6, 22, 4, 54, 180000), 'refresh_time': datetime.datetime(2021, 7, 6, 22, 4, 54, 180000)}, {'state': 2, 'tid': 18, 'spec': None, 'result': {'loss': 3.3595030992323003, 'status': 'ok'}, 'misc': {'tid': 18, 'cmd': ('domain_attachment', 'FMinIter_Domain'), 'workdir': None, 'idxs': {'x': [18]}, 'vals': {'x': [-1.8328947321743003]}}, 'exp_key': None, 'owner': None, 'version': 0, 'book_time': datetime.datetime(2021, 7, 6, 22, 4, 54, 181000), 'refresh_time': datetime.datetime(2021, 7, 6, 22, 4, 54, 181000)}, {'state': 2, 'tid': 19, 'spec': None, 'result': {'loss': 10.107688572449266, 'status': 'ok'}, 'misc': {'tid': 19, 'cmd': ('domain_attachment', 'FMinIter_Domain'), 'workdir': None, 'idxs': {'x': [19]}, 'vals': {'x': [-3.1792591231998166]}}, 'exp_key': None, 'owner': None, 'version': 0, 'book_time': datetime.datetime(2021, 7, 6, 22, 4, 54, 183000), 'refresh_time': datetime.datetime(2021, 7, 6, 22, 4, 54, 183000)}, {'state': 2, 'tid': 20, 'spec': None, 'result': {'loss': 0.3705212886270741, 'status': 'ok'}, 'misc': {'tid': 20, 'cmd': ('domain_attachment', 'FMinIter_Domain'), 'workdir': None, 'idxs': {'x': [20]}, 'vals': {'x': [0.6087045988220182]}}, 'exp_key': None, 'owner': None, 'version': 0, 'book_time': datetime.datetime(2021, 7, 6, 22, 4, 54, 187000), 'refresh_time': datetime.datetime(2021, 7, 6, 22, 4, 54, 188000)}, {'state': 2, 'tid': 21, 'spec': None, 'result': {'loss': 1.259090169683123, 'status': 'ok'}, 'misc': {'tid': 21, 'cmd': ('domain_attachment', 'FMinIter_Domain'), 'workdir': None, 'idxs': {'x': [21]}, 'vals': {'x': [1.122091872211506]}}, 'exp_key': None, 'owner': None, 'version': 0, 'book_time': datetime.datetime(2021, 7, 6, 22, 4, 54, 193000), 'refresh_time': datetime.datetime(2021, 7, 6, 22, 4, 54, 193000)}, {'state': 2, 'tid': 22, 'spec': None, 'result': {'loss': 8.071863488565182, 'status': 'ok'}, 'misc': {'tid': 22, 'cmd': ('domain_attachment', 'FMinIter_Domain'), 'workdir': None, 'idxs': {'x': [22]}, 'vals': {'x': [-2.8411025128574967]}}, 'exp_key': None, 'owner': None, 'version': 0, 'book_time': datetime.datetime(2021, 7, 6, 22, 4, 54, 198000), 'refresh_time': datetime.datetime(2021, 7, 6, 22, 4, 54, 198000)}, {'state': 2, 'tid': 23, 'spec': None, 'result': {'loss': 1.9195650206888353, 'status': 'ok'}, 'misc': {'tid': 23, 'cmd': ('domain_attachment', 'FMinIter_Domain'), 'workdir': None, 'idxs': {'x': [23]}, 'vals': {'x': [1.38548367752523]}}, 'exp_key': None, 'owner': None, 'version': 0, 'book_time': datetime.datetime(2021, 7, 6, 22, 4, 54, 201000), 'refresh_time': datetime.datetime(2021, 7, 6, 22, 4, 54, 201000)}, {'state': 2, 'tid': 24, 'spec': None, 'result': {'loss': 0.002530093150241398, 'status': 'ok'}, 'misc': {'tid': 24, 'cmd': ('domain_attachment', 'FMinIter_Domain'), 'workdir': None, 'idxs': {'x': [24]}, 'vals': {'x': [-0.050300031314517074]}}, 'exp_key': None, 'owner': None, 'version': 0, 'book_time': datetime.datetime(2021, 7, 6, 22, 4, 54, 204000), 'refresh_time': datetime.datetime(2021, 7, 6, 22, 4, 54, 204000)}, {'state': 2, 'tid': 25, 'spec': None, 'result': {'loss': 6.228214902799694, 'status': 'ok'}, 'misc': {'tid': 25, 'cmd': ('domain_attachment', 'FMinIter_Domain'), 'workdir': None, 'idxs': {'x': [25]}, 'vals': {'x': [-2.4956391772048487]}}, 'exp_key': None, 'owner': None, 'version': 0, 'book_time': datetime.datetime(2021, 7, 6, 22, 4, 54, 207000), 'refresh_time': datetime.datetime(2021, 7, 6, 22, 4, 54, 208000)}, {'state': 2, 'tid': 26, 'spec': None, 'result': {'loss': 9.579941413818098, 'status': 'ok'}, 'misc': {'tid': 26, 'cmd': ('domain_attachment', 'FMinIter_Domain'), 'workdir': None, 'idxs': {'x': [26]}, 'vals': {'x': [3.0951480439258634]}}, 'exp_key': None, 'owner': None, 'version': 0, 'book_time': datetime.datetime(2021, 7, 6, 22, 4, 54, 210000), 'refresh_time': datetime.datetime(2021, 7, 6, 22, 4, 54, 211000)}, {'state': 2, 'tid': 27, 'spec': None, 'result': {'loss': 0.23497043055419817, 'status': 'ok'}, 'misc': {'tid': 27, 'cmd': ('domain_attachment', 'FMinIter_Domain'), 'workdir': None, 'idxs': {'x': [27]}, 'vals': {'x': [-0.48473748622754376]}}, 'exp_key': None, 'owner': None, 'version': 0, 'book_time': datetime.datetime(2021, 7, 6, 22, 4, 54, 213000), 'refresh_time': datetime.datetime(2021, 7, 6, 22, 4, 54, 213000)}, {'state': 2, 'tid': 28, 'spec': None, 'result': {'loss': 14.391233705268215, 'status': 'ok'}, 'misc': {'tid': 28, 'cmd': ('domain_attachment', 'FMinIter_Domain'), 'workdir': None, 'idxs': {'x': [28]}, 'vals': {'x': [-3.7935779556071094]}}, 'exp_key': None, 'owner': None, 'version': 0, 'book_time': datetime.datetime(2021, 7, 6, 22, 4, 54, 216000), 'refresh_time': datetime.datetime(2021, 7, 6, 22, 4, 54, 216000)}, {'state': 2, 'tid': 29, 'spec': None, 'result': {'loss': 2.527232359840606, 'status': 'ok'}, 'misc': {'tid': 29, 'cmd': ('domain_attachment', 'FMinIter_Domain'), 'workdir': None, 'idxs': {'x': [29]}, 'vals': {'x': [1.5897271337687502]}}, 'exp_key': None, 'owner': None, 'version': 0, 'book_time': datetime.datetime(2021, 7, 6, 22, 4, 54, 219000), 'refresh_time': datetime.datetime(2021, 7, 6, 22, 4, 54, 220000)}, {'state': 2, 'tid': 30, 'spec': None, 'result': {'loss': 10.622787812397036, 'status': 'ok'}, 'misc': {'tid': 30, 'cmd': ('domain_attachment', 'FMinIter_Domain'), 'workdir': None, 'idxs': {'x': [30]}, 'vals': {'x': [3.259261850848599]}}, 'exp_key': None, 'owner': None, 'version': 0, 'book_time': datetime.datetime(2021, 7, 6, 22, 4, 54, 222000), 'refresh_time': datetime.datetime(2021, 7, 6, 22, 4, 54, 223000)}, {'state': 2, 'tid': 31, 'spec': None, 'result': {'loss': 0.17507584788404745, 'status': 'ok'}, 'misc': {'tid': 31, 'cmd': ('domain_attachment', 'FMinIter_Domain'), 'workdir': None, 'idxs': {'x': [31]}, 'vals': {'x': [-0.41842065900723335]}}, 'exp_key': None, 'owner': None, 'version': 0, 'book_time': datetime.datetime(2021, 7, 6, 22, 4, 54, 225000), 'refresh_time': datetime.datetime(2021, 7, 6, 22, 4, 54, 226000)}, {'state': 2, 'tid': 32, 'spec': None, 'result': {'loss': 0.4020404858152935, 'status': 'ok'}, 'misc': {'tid': 32, 'cmd': ('domain_attachment', 'FMinIter_Domain'), 'workdir': None, 'idxs': {'x': [32]}, 'vals': {'x': [0.6340666256910968]}}, 'exp_key': None, 'owner': None, 'version': 0, 'book_time': datetime.datetime(2021, 7, 6, 22, 4, 54, 228000), 'refresh_time': datetime.datetime(2021, 7, 6, 22, 4, 54, 229000)}, {'state': 2, 'tid': 33, 'spec': None, 'result': {'loss': 4.887361412448472, 'status': 'ok'}, 'misc': {'tid': 33, 'cmd': ('domain_attachment', 'FMinIter_Domain'), 'workdir': None, 'idxs': {'x': [33]}, 'vals': {'x': [-2.2107377529794148]}}, 'exp_key': None, 'owner': None, 'version': 0, 'book_time': datetime.datetime(2021, 7, 6, 22, 4, 54, 231000), 'refresh_time': datetime.datetime(2021, 7, 6, 22, 4, 54, 232000)}, {'state': 2, 'tid': 34, 'spec': None, 'result': {'loss': 16.975660472973658, 'status': 'ok'}, 'misc': {'tid': 34, 'cmd': ('domain_attachment', 'FMinIter_Domain'), 'workdir': None, 'idxs': {'x': [34]}, 'vals': {'x': [-4.1201529671813955]}}, 'exp_key': None, 'owner': None, 'version': 0, 'book_time': datetime.datetime(2021, 7, 6, 22, 4, 54, 235000), 'refresh_time': datetime.datetime(2021, 7, 6, 22, 4, 54, 235000)}, {'state': 2, 'tid': 35, 'spec': None, 'result': {'loss': 1.1072065004517955, 'status': 'ok'}, 'misc': {'tid': 35, 'cmd': ('domain_attachment', 'FMinIter_Domain'), 'workdir': None, 'idxs': {'x': [35]}, 'vals': {'x': [-1.0522388039089774]}}, 'exp_key': None, 'owner': None, 'version': 0, 'book_time': datetime.datetime(2021, 7, 6, 22, 4, 54, 238000), 'refresh_time': datetime.datetime(2021, 7, 6, 22, 4, 54, 238000)}, {'state': 2, 'tid': 36, 'spec': None, 'result': {'loss': 0.01486544697269211, 'status': 'ok'}, 'misc': {'tid': 36, 'cmd': ('domain_attachment', 'FMinIter_Domain'), 'workdir': None, 'idxs': {'x': [36]}, 'vals': {'x': [0.12192393929287271]}}, 'exp_key': None, 'owner': None, 'version': 0, 'book_time': datetime.datetime(2021, 7, 6, 22, 4, 54, 241000), 'refresh_time': datetime.datetime(2021, 7, 6, 22, 4, 54, 241000)}, {'state': 2, 'tid': 37, 'spec': None, 'result': {'loss': 4.422492458957912, 'status': 'ok'}, 'misc': {'tid': 37, 'cmd': ('domain_attachment', 'FMinIter_Domain'), 'workdir': None, 'idxs': {'x': [37]}, 'vals': {'x': [2.10297229153356]}}, 'exp_key': None, 'owner': None, 'version': 0, 'book_time': datetime.datetime(2021, 7, 6, 22, 4, 54, 244000), 'refresh_time': datetime.datetime(2021, 7, 6, 22, 4, 54, 244000)}, {'state': 2, 'tid': 38, 'spec': None, 'result': {'loss': 13.57281854766294, 'status': 'ok'}, 'misc': {'tid': 38, 'cmd': ('domain_attachment', 'FMinIter_Domain'), 'workdir': None, 'idxs': {'x': [38]}, 'vals': {'x': [3.6841306366174016]}}, 'exp_key': None, 'owner': None, 'version': 0, 'book_time': datetime.datetime(2021, 7, 6, 22, 4, 54, 248000), 'refresh_time': datetime.datetime(2021, 7, 6, 22, 4, 54, 248000)}, {'state': 2, 'tid': 39, 'spec': None, 'result': {'loss': 6.871531121092465, 'status': 'ok'}, 'misc': {'tid': 39, 'cmd': ('domain_attachment', 'FMinIter_Domain'), 'workdir': None, 'idxs': {'x': [39]}, 'vals': {'x': [2.6213605477103803]}}, 'exp_key': None, 'owner': None, 'version': 0, 'book_time': datetime.datetime(2021, 7, 6, 22, 4, 54, 251000), 'refresh_time': datetime.datetime(2021, 7, 6, 22, 4, 54, 251000)}, {'state': 2, 'tid': 40, 'spec': None, 'result': {'loss': 0.7964397556019923, 'status': 'ok'}, 'misc': {'tid': 40, 'cmd': ('domain_attachment', 'FMinIter_Domain'), 'workdir': None, 'idxs': {'x': [40]}, 'vals': {'x': [0.8924347346456167]}}, 'exp_key': None, 'owner': None, 'version': 0, 'book_time': datetime.datetime(2021, 7, 6, 22, 4, 54, 255000), 'refresh_time': datetime.datetime(2021, 7, 6, 22, 4, 54, 255000)}, {'state': 2, 'tid': 41, 'spec': None, 'result': {'loss': 2.9536262728578246, 'status': 'ok'}, 'misc': {'tid': 41, 'cmd': ('domain_attachment', 'FMinIter_Domain'), 'workdir': None, 'idxs': {'x': [41]}, 'vals': {'x': [1.718611728360372]}}, 'exp_key': None, 'owner': None, 'version': 0, 'book_time': datetime.datetime(2021, 7, 6, 22, 4, 54, 258000), 'refresh_time': datetime.datetime(2021, 7, 6, 22, 4, 54, 258000)}, {'state': 2, 'tid': 42, 'spec': None, 'result': {'loss': 1.7313808325218751, 'status': 'ok'}, 'misc': {'tid': 42, 'cmd': ('domain_attachment', 'FMinIter_Domain'), 'workdir': None, 'idxs': {'x': [42]}, 'vals': {'x': [-1.3158194528588925]}}, 'exp_key': None, 'owner': None, 'version': 0, 'book_time': datetime.datetime(2021, 7, 6, 22, 4, 54, 264000), 'refresh_time': datetime.datetime(2021, 7, 6, 22, 4, 54, 264000)}, {'state': 2, 'tid': 43, 'spec': None, 'result': {'loss': 0.6055822531091252, 'status': 'ok'}, 'misc': {'tid': 43, 'cmd': ('domain_attachment', 'FMinIter_Domain'), 'workdir': None, 'idxs': {'x': [43]}, 'vals': {'x': [-0.7781916557694031]}}, 'exp_key': None, 'owner': None, 'version': 0, 'book_time': datetime.datetime(2021, 7, 6, 22, 4, 54, 271000), 'refresh_time': datetime.datetime(2021, 7, 6, 22, 4, 54, 271000)}, {'state': 2, 'tid': 44, 'spec': None, 'result': {'loss': 0.01358290161288223, 'status': 'ok'}, 'misc': {'tid': 44, 'cmd': ('domain_attachment', 'FMinIter_Domain'), 'workdir': None, 'idxs': {'x': [44]}, 'vals': {'x': [-0.11654570611087407]}}, 'exp_key': None, 'owner': None, 'version': 0, 'book_time': datetime.datetime(2021, 7, 6, 22, 4, 54, 274000), 'refresh_time': datetime.datetime(2021, 7, 6, 22, 4, 54, 274000)}, {'state': 2, 'tid': 45, 'spec': None, 'result': {'loss': 23.35565549247581, 'status': 'ok'}, 'misc': {'tid': 45, 'cmd': ('domain_attachment', 'FMinIter_Domain'), 'workdir': None, 'idxs': {'x': [45]}, 'vals': {'x': [4.832768926037724]}}, 'exp_key': None, 'owner': None, 'version': 0, 'book_time': datetime.datetime(2021, 7, 6, 22, 4, 54, 277000), 'refresh_time': datetime.datetime(2021, 7, 6, 22, 4, 54, 277000)}, {'state': 2, 'tid': 46, 'spec': None, 'result': {'loss': 3.375944457153091, 'status': 'ok'}, 'misc': {'tid': 46, 'cmd': ('domain_attachment', 'FMinIter_Domain'), 'workdir': None, 'idxs': {'x': [46]}, 'vals': {'x': [-1.837374337785605]}}, 'exp_key': None, 'owner': None, 'version': 0, 'book_time': datetime.datetime(2021, 7, 6, 22, 4, 54, 280000), 'refresh_time': datetime.datetime(2021, 7, 6, 22, 4, 54, 280000)}, {'state': 2, 'tid': 47, 'spec': None, 'result': {'loss': 0.0019545781039108793, 'status': 'ok'}, 'misc': {'tid': 47, 'cmd': ('domain_attachment', 'FMinIter_Domain'), 'workdir': None, 'idxs': {'x': [47]}, 'vals': {'x': [0.04421061076156808]}}, 'exp_key': None, 'owner': None, 'version': 0, 'book_time': datetime.datetime(2021, 7, 6, 22, 4, 54, 283000), 'refresh_time': datetime.datetime(2021, 7, 6, 22, 4, 54, 283000)}, {'state': 2, 'tid': 48, 'spec': None, 'result': {'loss': 7.625709642600789, 'status': 'ok'}, 'misc': {'tid': 48, 'cmd': ('domain_attachment', 'FMinIter_Domain'), 'workdir': None, 'idxs': {'x': [48]}, 'vals': {'x': [2.7614687473518127]}}, 'exp_key': None, 'owner': None, 'version': 0, 'book_time': datetime.datetime(2021, 7, 6, 22, 4, 54, 286000), 'refresh_time': datetime.datetime(2021, 7, 6, 22, 4, 54, 286000)}, {'state': 2, 'tid': 49, 'spec': None, 'result': {'loss': 2.594330574809907, 'status': 'ok'}, 'misc': {'tid': 49, 'cmd': ('domain_attachment', 'FMinIter_Domain'), 'workdir': None, 'idxs': {'x': [49]}, 'vals': {'x': [-1.6106925761329836]}}, 'exp_key': None, 'owner': None, 'version': 0, 'book_time': datetime.datetime(2021, 7, 6, 22, 4, 54, 289000), 'refresh_time': datetime.datetime(2021, 7, 6, 22, 4, 54, 289000)}]\n",
            "{'state': 2, 'tid': 0, 'spec': None, 'result': {'loss': 4.461995427788681, 'status': 'ok'}, 'misc': {'tid': 0, 'cmd': ('domain_attachment', 'FMinIter_Domain'), 'workdir': None, 'idxs': {'x': [0]}, 'vals': {'x': [2.1123435865854496]}}, 'exp_key': None, 'owner': None, 'version': 0, 'book_time': datetime.datetime(2021, 7, 6, 22, 4, 54, 159000), 'refresh_time': datetime.datetime(2021, 7, 6, 22, 4, 54, 160000)}\n",
            "{'state': 2, 'tid': 1, 'spec': None, 'result': {'loss': 18.451652114500373, 'status': 'ok'}, 'misc': {'tid': 1, 'cmd': ('domain_attachment', 'FMinIter_Domain'), 'workdir': None, 'idxs': {'x': [1]}, 'vals': {'x': [4.295538629147732]}}, 'exp_key': None, 'owner': None, 'version': 0, 'book_time': datetime.datetime(2021, 7, 6, 22, 4, 54, 161000), 'refresh_time': datetime.datetime(2021, 7, 6, 22, 4, 54, 161000)}\n"
          ],
          "name": "stdout"
        }
      ]
    },
    {
      "cell_type": "markdown",
      "metadata": {
        "id": "39mAthbH0HD_"
      },
      "source": [
        "Now let’s look at the plot of loss vs. val."
      ]
    },
    {
      "cell_type": "code",
      "metadata": {
        "colab": {
          "base_uri": "https://localhost:8080/",
          "height": 321
        },
        "id": "YM5fZWR60AY2",
        "outputId": "3f785954-c72d-499b-d560-52fbd708c20b"
      },
      "source": [
        "f, ax = plt.subplots(1)\n",
        "xs = [t['misc']['vals']['x'] for t in trials.trials]\n",
        "ys = [t['result']['loss'] for t in trials.trials]\n",
        "ax.scatter(xs, ys, s=20, linewidth=0.01, alpha=0.75)\n",
        "ax.set_title('$val$ $vs$ $x$ ', fontsize=18)\n",
        "ax.set_xlabel('$x$', fontsize=16)\n",
        "ax.set_ylabel('$val$', fontsize=16)"
      ],
      "execution_count": 8,
      "outputs": [
        {
          "output_type": "execute_result",
          "data": {
            "text/plain": [
              "Text(0, 0.5, '$val$')"
            ]
          },
          "metadata": {
            "tags": []
          },
          "execution_count": 8
        },
        {
          "output_type": "display_data",
          "data": {
            "image/png": "[encoded data removed]",
            "text/plain": [
              "<Figure size 432x288 with 1 Axes>"
            ]
          },
          "metadata": {
            "tags": [],
            "needs_background": "light"
          }
        }
      ]
    },
    {
      "cell_type": "code",
      "metadata": {
        "colab": {
          "base_uri": "https://localhost:8080/"
        },
        "id": "BsyTdzZE1Ws6",
        "outputId": "f115d32b-3460-458f-a772-0ead7ec4855a"
      },
      "source": [
        "from sklearn import datasets\n",
        "from sklearn.neighbors import KNeighborsClassifier\n",
        "iris = datasets.load_iris()\n",
        "X = iris.data\n",
        "y = iris.target\n",
        "\n",
        "def hyperopt_train_test(params):\n",
        "    clf = KNeighborsClassifier(**params)\n",
        "    return cross_val_score(clf, X, y).mean()\n",
        "\n",
        "space4knn = {\n",
        "    'n_neighbors': hp.choice('n_neighbors', range(1,100))\n",
        "}\n",
        "\n",
        "def f(params):\n",
        "    acc = hyperopt_train_test(params) #accuracy\n",
        "    return {'loss': -acc, 'status': STATUS_OK}\n",
        "\n",
        "trials = Trials()\n",
        "best = fmin(f, space4knn, algo=tpe.suggest, max_evals=100, trials=trials)\n",
        "print('best:', best)"
      ],
      "execution_count": 12,
      "outputs": [
        {
          "output_type": "stream",
          "text": [
            "100%|██████████| 100/100 [00:02<00:00, 42.02it/s, best loss: -0.9800000000000001]\n",
            "best: {'n_neighbors': 9}\n"
          ],
          "name": "stdout"
        }
      ]
    },
    {
      "cell_type": "code",
      "metadata": {
        "colab": {
          "base_uri": "https://localhost:8080/"
        },
        "id": "t4XFc0ua5vNH",
        "outputId": "ce212832-21bc-4876-f3fb-670f3c8bf3db"
      },
      "source": [
        "d={'val1':1, 'val2':2, 'val3':3}\n",
        "def check(val1=5, val2=6, val3=7, val8=2):\n",
        "  print(val1, val2, val3, val8)\n",
        "check(**d)  # '**(dict)' matches the dict keys and values to positional arguments"
      ],
      "execution_count": 13,
      "outputs": [
        {
          "output_type": "stream",
          "text": [
            "1 2 3 2\n"
          ],
          "name": "stdout"
        }
      ]
    }
  ]
}