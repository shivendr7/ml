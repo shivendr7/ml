{
  "nbformat": 4,
  "nbformat_minor": 0,
  "metadata": {
    "colab": {
      "name": "FeatureEngineeringForDL.ipynb",
      "provenance": [],
      "authorship_tag": "ABX9TyNaBQlg7ZE2dVDxmFfXtgBj",
      "include_colab_link": true
    },
    "kernelspec": {
      "name": "python3",
      "display_name": "Python 3"
    }
  },
  "cells": [
    {
      "cell_type": "markdown",
      "metadata": {
        "id": "view-in-github",
        "colab_type": "text"
      },
      "source": [
        "<a href=\"https://colab.research.google.com/github/shivendr7/ml/blob/main/FeatureEngineeringForDL.ipynb\" target=\"_parent\"><img src=\"https://colab.research.google.com/assets/colab-badge.svg\" alt=\"Open In Colab\"/></a>"
      ]
    },
    {
      "cell_type": "code",
      "metadata": {
        "colab": {
          "base_uri": "https://localhost:8080/",
          "height": 402
        },
        "id": "jqVD5MK9nOKB",
        "outputId": "379dd6d8-982f-49fe-9525-8d01dd878d8e"
      },
      "source": [
        "#m(kg)=m(lb)×0.45359237\r\n",
        "import os\r\n",
        "import pandas as pd\r\n",
        "df=pd.read_csv(\"https://data.heatonresearch.com/data/t81-558/auto-mpg.csv\",na_values=['NA','?'])\r\n",
        "df.insert(1,'weight_kg',(df['weight']*.45359237).astype(int))\r\n",
        "df"
      ],
      "execution_count": null,
      "outputs": [
        {
          "output_type": "execute_result",
          "data": {
            "text/html": [
              "<div>\n",
              "<style scoped>\n",
              "    .dataframe tbody tr th:only-of-type {\n",
              "        vertical-align: middle;\n",
              "    }\n",
              "\n",
              "    .dataframe tbody tr th {\n",
              "        vertical-align: top;\n",
              "    }\n",
              "\n",
              "    .dataframe thead th {\n",
              "        text-align: right;\n",
              "    }\n",
              "</style>\n",
              "<table border=\"1\" class=\"dataframe\">\n",
              "  <thead>\n",
              "    <tr style=\"text-align: right;\">\n",
              "      <th></th>\n",
              "      <th>mpg</th>\n",
              "      <th>weight_kg</th>\n",
              "      <th>cylinders</th>\n",
              "      <th>displacement</th>\n",
              "      <th>horsepower</th>\n",
              "      <th>weight</th>\n",
              "      <th>acceleration</th>\n",
              "      <th>year</th>\n",
              "      <th>origin</th>\n",
              "      <th>name</th>\n",
              "    </tr>\n",
              "  </thead>\n",
              "  <tbody>\n",
              "    <tr>\n",
              "      <th>0</th>\n",
              "      <td>18.0</td>\n",
              "      <td>1589</td>\n",
              "      <td>8</td>\n",
              "      <td>307.0</td>\n",
              "      <td>130.0</td>\n",
              "      <td>3504</td>\n",
              "      <td>12.0</td>\n",
              "      <td>70</td>\n",
              "      <td>1</td>\n",
              "      <td>chevrolet chevelle malibu</td>\n",
              "    </tr>\n",
              "    <tr>\n",
              "      <th>1</th>\n",
              "      <td>15.0</td>\n",
              "      <td>1675</td>\n",
              "      <td>8</td>\n",
              "      <td>350.0</td>\n",
              "      <td>165.0</td>\n",
              "      <td>3693</td>\n",
              "      <td>11.5</td>\n",
              "      <td>70</td>\n",
              "      <td>1</td>\n",
              "      <td>buick skylark 320</td>\n",
              "    </tr>\n",
              "    <tr>\n",
              "      <th>2</th>\n",
              "      <td>18.0</td>\n",
              "      <td>1558</td>\n",
              "      <td>8</td>\n",
              "      <td>318.0</td>\n",
              "      <td>150.0</td>\n",
              "      <td>3436</td>\n",
              "      <td>11.0</td>\n",
              "      <td>70</td>\n",
              "      <td>1</td>\n",
              "      <td>plymouth satellite</td>\n",
              "    </tr>\n",
              "    <tr>\n",
              "      <th>3</th>\n",
              "      <td>16.0</td>\n",
              "      <td>1557</td>\n",
              "      <td>8</td>\n",
              "      <td>304.0</td>\n",
              "      <td>150.0</td>\n",
              "      <td>3433</td>\n",
              "      <td>12.0</td>\n",
              "      <td>70</td>\n",
              "      <td>1</td>\n",
              "      <td>amc rebel sst</td>\n",
              "    </tr>\n",
              "    <tr>\n",
              "      <th>4</th>\n",
              "      <td>17.0</td>\n",
              "      <td>1564</td>\n",
              "      <td>8</td>\n",
              "      <td>302.0</td>\n",
              "      <td>140.0</td>\n",
              "      <td>3449</td>\n",
              "      <td>10.5</td>\n",
              "      <td>70</td>\n",
              "      <td>1</td>\n",
              "      <td>ford torino</td>\n",
              "    </tr>\n",
              "    <tr>\n",
              "      <th>...</th>\n",
              "      <td>...</td>\n",
              "      <td>...</td>\n",
              "      <td>...</td>\n",
              "      <td>...</td>\n",
              "      <td>...</td>\n",
              "      <td>...</td>\n",
              "      <td>...</td>\n",
              "      <td>...</td>\n",
              "      <td>...</td>\n",
              "      <td>...</td>\n",
              "    </tr>\n",
              "    <tr>\n",
              "      <th>393</th>\n",
              "      <td>27.0</td>\n",
              "      <td>1265</td>\n",
              "      <td>4</td>\n",
              "      <td>140.0</td>\n",
              "      <td>86.0</td>\n",
              "      <td>2790</td>\n",
              "      <td>15.6</td>\n",
              "      <td>82</td>\n",
              "      <td>1</td>\n",
              "      <td>ford mustang gl</td>\n",
              "    </tr>\n",
              "    <tr>\n",
              "      <th>394</th>\n",
              "      <td>44.0</td>\n",
              "      <td>966</td>\n",
              "      <td>4</td>\n",
              "      <td>97.0</td>\n",
              "      <td>52.0</td>\n",
              "      <td>2130</td>\n",
              "      <td>24.6</td>\n",
              "      <td>82</td>\n",
              "      <td>2</td>\n",
              "      <td>vw pickup</td>\n",
              "    </tr>\n",
              "    <tr>\n",
              "      <th>395</th>\n",
              "      <td>32.0</td>\n",
              "      <td>1040</td>\n",
              "      <td>4</td>\n",
              "      <td>135.0</td>\n",
              "      <td>84.0</td>\n",
              "      <td>2295</td>\n",
              "      <td>11.6</td>\n",
              "      <td>82</td>\n",
              "      <td>1</td>\n",
              "      <td>dodge rampage</td>\n",
              "    </tr>\n",
              "    <tr>\n",
              "      <th>396</th>\n",
              "      <td>28.0</td>\n",
              "      <td>1190</td>\n",
              "      <td>4</td>\n",
              "      <td>120.0</td>\n",
              "      <td>79.0</td>\n",
              "      <td>2625</td>\n",
              "      <td>18.6</td>\n",
              "      <td>82</td>\n",
              "      <td>1</td>\n",
              "      <td>ford ranger</td>\n",
              "    </tr>\n",
              "    <tr>\n",
              "      <th>397</th>\n",
              "      <td>31.0</td>\n",
              "      <td>1233</td>\n",
              "      <td>4</td>\n",
              "      <td>119.0</td>\n",
              "      <td>82.0</td>\n",
              "      <td>2720</td>\n",
              "      <td>19.4</td>\n",
              "      <td>82</td>\n",
              "      <td>1</td>\n",
              "      <td>chevy s-10</td>\n",
              "    </tr>\n",
              "  </tbody>\n",
              "</table>\n",
              "<p>398 rows × 10 columns</p>\n",
              "</div>"
            ],
            "text/plain": [
              "      mpg  weight_kg  cylinders  ...  year  origin                       name\n",
              "0    18.0       1589          8  ...    70       1  chevrolet chevelle malibu\n",
              "1    15.0       1675          8  ...    70       1          buick skylark 320\n",
              "2    18.0       1558          8  ...    70       1         plymouth satellite\n",
              "3    16.0       1557          8  ...    70       1              amc rebel sst\n",
              "4    17.0       1564          8  ...    70       1                ford torino\n",
              "..    ...        ...        ...  ...   ...     ...                        ...\n",
              "393  27.0       1265          4  ...    82       1            ford mustang gl\n",
              "394  44.0        966          4  ...    82       2                  vw pickup\n",
              "395  32.0       1040          4  ...    82       1              dodge rampage\n",
              "396  28.0       1190          4  ...    82       1                ford ranger\n",
              "397  31.0       1233          4  ...    82       1                 chevy s-10\n",
              "\n",
              "[398 rows x 10 columns]"
            ]
          },
          "metadata": {
            "tags": []
          },
          "execution_count": 2
        }
      ]
    },
    {
      "cell_type": "code",
      "metadata": {
        "colab": {
          "base_uri": "https://localhost:8080/"
        },
        "id": "f4tPFlhsYCRU",
        "outputId": "8247ef62-72c7-46a7-d0f5-23ebed1caf4f"
      },
      "source": [
        "import tensorflow as tf\r\n",
        "matrix1=tf.constant([[3.,3.]])\r\n",
        "matrix2=tf.constant([[2.],[2.]])\r\n",
        "product=tf.matmul(matrix1,matrix2)\r\n",
        "print(product)\r\n",
        "print(product.numpy())\r\n",
        "print(float(product))"
      ],
      "execution_count": null,
      "outputs": [
        {
          "output_type": "stream",
          "text": [
            "tf.Tensor([[12.]], shape=(1, 1), dtype=float32)\n",
            "[[12.]]\n",
            "12.0\n"
          ],
          "name": "stdout"
        }
      ]
    },
    {
      "cell_type": "code",
      "metadata": {
        "colab": {
          "base_uri": "https://localhost:8080/"
        },
        "id": "9CVnvIGbZEpc",
        "outputId": "c05f1bb0-9e2a-4dad-ec05-0588e0ef10d0"
      },
      "source": [
        "import tensorflow as tf\r\n",
        "x=tf.Variable([1.0,2.0])\r\n",
        "a=tf.Variable([3.0,3.0])\r\n",
        "sub=tf.subtract(x,a)\r\n",
        "print(sub)\r\n",
        "print(sub.numpy())"
      ],
      "execution_count": null,
      "outputs": [
        {
          "output_type": "stream",
          "text": [
            "tf.Tensor([-2. -1.], shape=(2,), dtype=float32)\n",
            "[-2. -1.]\n"
          ],
          "name": "stdout"
        }
      ]
    },
    {
      "cell_type": "code",
      "metadata": {
        "colab": {
          "base_uri": "https://localhost:8080/"
        },
        "id": "0cVBdhszZxxk",
        "outputId": "e17d6b1a-7940-43ce-f204-4c19f0993cd4"
      },
      "source": [
        "x.assign([4.0,6.0]) #changing values in variable\r\n",
        "print(x.numpy())"
      ],
      "execution_count": null,
      "outputs": [
        {
          "output_type": "stream",
          "text": [
            "[4. 6.]\n"
          ],
          "name": "stdout"
        }
      ]
    },
    {
      "cell_type": "code",
      "metadata": {
        "id": "psrYWEkyMV0I"
      },
      "source": [
        "from tensorflow.keras.models import Sequential\r\n",
        "from tensorflow.keras.layers import Dense, Activation\r\n",
        "import pandas as pd\r\n",
        "import io\r\n",
        "import os\r\n",
        "import requests\r\n",
        "import numpy as np\r\n",
        "from sklearn import metrics"
      ],
      "execution_count": null,
      "outputs": []
    },
    {
      "cell_type": "code",
      "metadata": {
        "colab": {
          "base_uri": "https://localhost:8080/"
        },
        "id": "tpPQk9USN-3R",
        "outputId": "399d9711-8780-40a7-97e6-cc1ebaa9beda"
      },
      "source": [
        "df=pd.read_csv(\"https://data.heatonresearch.com/data/t81-558/auto-mpg.csv\",na_values=['NA','?'])\r\n",
        "cars=df['name']\r\n",
        "#print(df.horsepower.median())\r\n",
        "df['horsepower']=df['horsepower'].fillna(df['horsepower'].median())\r\n",
        "\r\n",
        "#pandas to numpy\r\n",
        "x=df[['cylinders','displacement','horsepower','weight','acceleration','year','origin']].values\r\n",
        "\r\n",
        "y=df['mpg'].values #regression\r\n",
        "\r\n",
        "print(x,x.shape[1],x.shape[0])"
      ],
      "execution_count": null,
      "outputs": [
        {
          "output_type": "stream",
          "text": [
            "[[  8.  307.  130.  ...  12.   70.    1. ]\n",
            " [  8.  350.  165.  ...  11.5  70.    1. ]\n",
            " [  8.  318.  150.  ...  11.   70.    1. ]\n",
            " ...\n",
            " [  4.  135.   84.  ...  11.6  82.    1. ]\n",
            " [  4.  120.   79.  ...  18.6  82.    1. ]\n",
            " [  4.  119.   82.  ...  19.4  82.    1. ]] 7 398\n"
          ],
          "name": "stdout"
        }
      ]
    },
    {
      "cell_type": "code",
      "metadata": {
        "colab": {
          "base_uri": "https://localhost:8080/"
        },
        "id": "jrpybr3qQ8ca",
        "outputId": "38810b7f-afa0-445f-dfd5-71958032fbb7"
      },
      "source": [
        "#NN\r\n",
        "model=Sequential()\r\n",
        "model.add(Dense(25, input_dim=x.shape[1], activation='relu')) #hidden 1\r\n",
        "model.add(Dense(15, activation='relu')) #hidden 2\r\n",
        "model.add(Dense(1)) #output\r\n",
        "model.compile(loss='mean_squared_error', optimizer='adam')\r\n",
        "model.fit(x,y,verbose=0,epochs=100)"
      ],
      "execution_count": null,
      "outputs": [
        {
          "output_type": "execute_result",
          "data": {
            "text/plain": [
              "<tensorflow.python.keras.callbacks.History at 0x7f3bdaf6f590>"
            ]
          },
          "metadata": {
            "tags": []
          },
          "execution_count": 19
        }
      ]
    },
    {
      "cell_type": "code",
      "metadata": {
        "colab": {
          "base_uri": "https://localhost:8080/"
        },
        "id": "rPx2PuMMb0Rw",
        "outputId": "c44c6428-1d0c-4063-87fd-3d5c3adedae3"
      },
      "source": [
        "result=model.predict(x)\r\n",
        "print(result.shape,result.shape[0],result.shape[1])\r\n",
        "\r\n",
        "print(result[:10])"
      ],
      "execution_count": null,
      "outputs": [
        {
          "output_type": "stream",
          "text": [
            "(398, 1) 398 1\n",
            "[[21.556221]\n",
            " [14.775004]\n",
            " [15.990094]\n",
            " [15.334012]\n",
            " [18.38503 ]\n",
            " [13.383064]\n",
            " [ 8.355928]\n",
            " [ 9.015114]\n",
            " [ 7.384372]\n",
            " [10.790929]]\n"
          ],
          "name": "stdout"
        }
      ]
    },
    {
      "cell_type": "code",
      "metadata": {
        "colab": {
          "base_uri": "https://localhost:8080/"
        },
        "id": "WhVOTsbGcklS",
        "outputId": "c3afaf2f-9468-4500-b115-f8d18ad9a1e8"
      },
      "source": [
        "score=np.sqrt(metrics.mean_squared_error(result,y))\r\n",
        "score"
      ],
      "execution_count": null,
      "outputs": [
        {
          "output_type": "execute_result",
          "data": {
            "text/plain": [
              "8.645305260101134"
            ]
          },
          "metadata": {
            "tags": []
          },
          "execution_count": 21
        }
      ]
    },
    {
      "cell_type": "code",
      "metadata": {
        "colab": {
          "base_uri": "https://localhost:8080/"
        },
        "id": "L14gWEMndpAR",
        "outputId": "12c4ad12-836d-4fd7-f5ab-e6746e9e5d0e"
      },
      "source": [
        "for i in range(5):\r\n",
        "  print(cars[i],y[i],'predicted result='+str(result[i]))"
      ],
      "execution_count": null,
      "outputs": [
        {
          "output_type": "stream",
          "text": [
            "chevrolet chevelle malibu 18.0 predicted result=[21.556221]\n",
            "buick skylark 320 15.0 predicted result=[14.775004]\n",
            "plymouth satellite 18.0 predicted result=[15.990094]\n",
            "amc rebel sst 16.0 predicted result=[15.334012]\n",
            "ford torino 17.0 predicted result=[18.38503]\n"
          ],
          "name": "stdout"
        }
      ]
    },
    {
      "cell_type": "code",
      "metadata": {
        "id": "fR5wTbTuhgse"
      },
      "source": [
        "#iris classification\r\n",
        "import pandas as pd\r\n",
        "import io\r\n",
        "import requests\r\n",
        "import numpy as np\r\n",
        "from sklearn import metrics\r\n",
        "from tensorflow.keras.models import Sequential\r\n",
        "from tensorflow.keras.layers import Dense, Activation\r\n",
        "from tensorflow.keras.callbacks import EarlyStopping\r\n"
      ],
      "execution_count": 1,
      "outputs": []
    },
    {
      "cell_type": "code",
      "metadata": {
        "colab": {
          "base_uri": "https://localhost:8080/"
        },
        "id": "EgWXKW-miSM2",
        "outputId": "6e6787c9-eb4c-4a15-9992-07b63512f83b"
      },
      "source": [
        "df=pd.read_csv(\"https://data.heatonresearch.com/data/t81-558/iris.csv\",na_values=['NA','?'])\r\n",
        "\r\n",
        "x=df[['sepal_l','sepal_w','petal_l','petal_w']].values\r\n",
        "dummies=pd.get_dummies(df['species'])\r\n",
        "print(dummies)\r\n",
        "species=dummies.columns\r\n",
        "print('x=>',x.shape[1],x.shape[0])\r\n",
        "y=dummies.values\r\n",
        "#print('y=>',y)\r\n",
        "dummies.columns\r\n",
        "\r\n"
      ],
      "execution_count": 2,
      "outputs": [
        {
          "output_type": "stream",
          "text": [
            "     Iris-setosa  Iris-versicolor  Iris-virginica\n",
            "0              1                0               0\n",
            "1              1                0               0\n",
            "2              1                0               0\n",
            "3              1                0               0\n",
            "4              1                0               0\n",
            "..           ...              ...             ...\n",
            "145            0                0               1\n",
            "146            0                0               1\n",
            "147            0                0               1\n",
            "148            0                0               1\n",
            "149            0                0               1\n",
            "\n",
            "[150 rows x 3 columns]\n",
            "x=> 4 150\n"
          ],
          "name": "stdout"
        },
        {
          "output_type": "execute_result",
          "data": {
            "text/plain": [
              "Index(['Iris-setosa', 'Iris-versicolor', 'Iris-virginica'], dtype='object')"
            ]
          },
          "metadata": {
            "tags": []
          },
          "execution_count": 2
        }
      ]
    },
    {
      "cell_type": "code",
      "metadata": {
        "colab": {
          "base_uri": "https://localhost:8080/"
        },
        "id": "IqChOP6btzLm",
        "outputId": "77ebd94c-a59a-455d-a3ae-2ff629bfc97f"
      },
      "source": [
        "a=np.array([1,2,3,4])\r\n",
        "b=np.array([2,4,6,8])\r\n",
        "c=np.array([[1,2,3],[4,5,6]])\r\n",
        "d=np.array([[1],[2],[3]])\r\n",
        "print(a.shape,b.shape,c.shape,d.shape)\r\n",
        "print(c[1:])\r\n",
        "print(y.shape[1])\r\n",
        "a*b"
      ],
      "execution_count": 4,
      "outputs": [
        {
          "output_type": "stream",
          "text": [
            "(4,) (4,) (2, 3) (3, 1)\n",
            "[[4 5 6]]\n",
            "3\n"
          ],
          "name": "stdout"
        },
        {
          "output_type": "execute_result",
          "data": {
            "text/plain": [
              "array([ 2,  8, 18, 32])"
            ]
          },
          "metadata": {
            "tags": []
          },
          "execution_count": 4
        }
      ]
    },
    {
      "cell_type": "code",
      "metadata": {
        "id": "XDnwEkVpvg3-",
        "colab": {
          "base_uri": "https://localhost:8080/"
        },
        "outputId": "8a61afc8-306a-4c11-c966-d85b4fef23f7"
      },
      "source": [
        "model=Sequential()\r\n",
        "print(x.shape[1])\r\n",
        "model.add(Dense(50,input_dim=x.shape[1],activation='relu')) #hidden\r\n",
        "model.add(Dense(25,activation='relu')) #hidden 2\r\n",
        "print(y.shape[1])\r\n",
        "model.add(Dense(y.shape[1],activation='softmax')) #output\r\n",
        "\r\n",
        "model.compile(loss='categorical_crossentropy',optimizer='adam')\r\n",
        "model.fit(x,y,verbose=0,epochs=100)"
      ],
      "execution_count": 5,
      "outputs": [
        {
          "output_type": "stream",
          "text": [
            "4\n",
            "3\n"
          ],
          "name": "stdout"
        },
        {
          "output_type": "execute_result",
          "data": {
            "text/plain": [
              "<tensorflow.python.keras.callbacks.History at 0x7f04853b5350>"
            ]
          },
          "metadata": {
            "tags": []
          },
          "execution_count": 5
        }
      ]
    },
    {
      "cell_type": "code",
      "metadata": {
        "id": "GkhKbIWOyKuS"
      },
      "source": [
        "np.set_printoptions(suppress=True)\r\n",
        "#used to round up the values\r\n",
        "#to turn off scientific notation"
      ],
      "execution_count": 7,
      "outputs": []
    },
    {
      "cell_type": "code",
      "metadata": {
        "colab": {
          "base_uri": "https://localhost:8080/"
        },
        "id": "vQlgdo4cxxPf",
        "outputId": "673e9acc-6a3b-4670-9708-6dcd03e660e0"
      },
      "source": [
        "pred=model.predict(x)\r\n",
        "pred[:10]"
      ],
      "execution_count": 8,
      "outputs": [
        {
          "output_type": "execute_result",
          "data": {
            "text/plain": [
              "array([[0.9940017 , 0.00598287, 0.0000154 ],\n",
              "       [0.9866303 , 0.01332838, 0.00004128],\n",
              "       [0.9909232 , 0.0090426 , 0.00003413],\n",
              "       [0.9866948 , 0.0132532 , 0.00005194],\n",
              "       [0.99465114, 0.00533414, 0.00001476],\n",
              "       [0.9954346 , 0.00455674, 0.00000861],\n",
              "       [0.99223447, 0.0077341 , 0.00003149],\n",
              "       [0.99235326, 0.00762558, 0.00002113],\n",
              "       [0.9832187 , 0.01670092, 0.00008029],\n",
              "       [0.9878664 , 0.01209767, 0.00003591]], dtype=float32)"
            ]
          },
          "metadata": {
            "tags": []
          },
          "execution_count": 8
        }
      ]
    },
    {
      "cell_type": "code",
      "metadata": {
        "colab": {
          "base_uri": "https://localhost:8080/"
        },
        "id": "Uo2gOxkjy_Kg",
        "outputId": "5fb4bc3a-ca2c-4449-a087-bbe99b481ae3"
      },
      "source": [
        "print(y[:10])\r\n",
        "predicted=np.argmax(pred,axis=1)\r\n",
        "expected=np.argmax(y,axis=1)\r\n",
        "print(expected,'\\n',predicted)\r\n",
        "#argmax finds index of max prediction for each row"
      ],
      "execution_count": 9,
      "outputs": [
        {
          "output_type": "stream",
          "text": [
            "[[1 0 0]\n",
            " [1 0 0]\n",
            " [1 0 0]\n",
            " [1 0 0]\n",
            " [1 0 0]\n",
            " [1 0 0]\n",
            " [1 0 0]\n",
            " [1 0 0]\n",
            " [1 0 0]\n",
            " [1 0 0]]\n",
            "[0 0 0 0 0 0 0 0 0 0 0 0 0 0 0 0 0 0 0 0 0 0 0 0 0 0 0 0 0 0 0 0 0 0 0 0 0\n",
            " 0 0 0 0 0 0 0 0 0 0 0 0 0 1 1 1 1 1 1 1 1 1 1 1 1 1 1 1 1 1 1 1 1 1 1 1 1\n",
            " 1 1 1 1 1 1 1 1 1 1 1 1 1 1 1 1 1 1 1 1 1 1 1 1 1 1 2 2 2 2 2 2 2 2 2 2 2\n",
            " 2 2 2 2 2 2 2 2 2 2 2 2 2 2 2 2 2 2 2 2 2 2 2 2 2 2 2 2 2 2 2 2 2 2 2 2 2\n",
            " 2 2] \n",
            " [0 0 0 0 0 0 0 0 0 0 0 0 0 0 0 0 0 0 0 0 0 0 0 0 0 0 0 0 0 0 0 0 0 0 0 0 0\n",
            " 0 0 0 0 0 0 0 0 0 0 0 0 0 1 1 1 1 1 1 1 1 1 1 1 1 1 1 1 1 1 1 1 1 2 1 2 1\n",
            " 1 1 1 1 1 1 1 1 1 2 1 1 1 1 1 1 1 1 1 1 1 1 1 1 1 1 2 2 2 2 2 2 2 2 2 2 2\n",
            " 2 2 2 2 2 2 2 2 2 2 2 2 2 2 2 2 2 2 2 2 2 2 2 2 2 2 2 2 2 2 2 2 2 2 2 2 2\n",
            " 2 2]\n"
          ],
          "name": "stdout"
        }
      ]
    },
    {
      "cell_type": "code",
      "metadata": {
        "colab": {
          "base_uri": "https://localhost:8080/",
          "height": 69
        },
        "id": "kSV0N_NR09IX",
        "outputId": "0e8fc630-7ea6-4eef-8714-091f3c759acc"
      },
      "source": [
        "print('class for',x[:1],'=',species[predicted[1]])\r\n",
        "print(model.predict(x[:1]))\r\n",
        "species[np.argmax(model.predict(x[:1]))]"
      ],
      "execution_count": 15,
      "outputs": [
        {
          "output_type": "stream",
          "text": [
            "class for [[5.1 3.5 1.4 0.2]] = Iris-setosa\n",
            "[[0.9940017  0.00598287 0.0000154 ]]\n"
          ],
          "name": "stdout"
        },
        {
          "output_type": "execute_result",
          "data": {
            "application/vnd.google.colaboratory.intrinsic+json": {
              "type": "string"
            },
            "text/plain": [
              "'Iris-setosa'"
            ]
          },
          "metadata": {
            "tags": []
          },
          "execution_count": 15
        }
      ]
    },
    {
      "cell_type": "code",
      "metadata": {
        "colab": {
          "base_uri": "https://localhost:8080/"
        },
        "id": "3kBQYQDL2DeG",
        "outputId": "72fd4faa-7da3-41ec-fa74-2b2197d7104a"
      },
      "source": [
        "from sklearn.metrics import accuracy_score\r\n",
        "asc=accuracy_score(expected,predicted)\r\n",
        "print(asc)"
      ],
      "execution_count": 16,
      "outputs": [
        {
          "output_type": "stream",
          "text": [
            "0.98\n"
          ],
          "name": "stdout"
        }
      ]
    },
    {
      "cell_type": "code",
      "metadata": {
        "colab": {
          "base_uri": "https://localhost:8080/"
        },
        "id": "zauHAQ8puJgE",
        "outputId": "82537b50-cc2b-493a-9cf4-b96731e7e07a"
      },
      "source": [
        "sample_flower = np.array( [[5.0,3.0,4.0,2.0]], dtype=float)\r\n",
        "pred = model.predict(sample_flower)\r\n",
        "print(pred)\r\n",
        "pred = np.argmax(pred)\r\n",
        "print(f\"Predict that {sample_flower} is: {species[pred]}\")"
      ],
      "execution_count": 17,
      "outputs": [
        {
          "output_type": "stream",
          "text": [
            "[[0.00355842 0.40489268 0.59154886]]\n",
            "Predict that [[5. 3. 4. 2.]] is: Iris-virginica\n"
          ],
          "name": "stdout"
        }
      ]
    },
    {
      "cell_type": "code",
      "metadata": {
        "colab": {
          "base_uri": "https://localhost:8080/"
        },
        "id": "l_5FiO2Zumtn",
        "outputId": "28ee9426-39b9-4196-f976-40daefe219cb"
      },
      "source": [
        "sample_flower = np.array( [[5.0,3.0,4.0,2.0],[5.2,3.5,1.5,0.8]],\\\r\n",
        "        dtype=float)\r\n",
        "pred = model.predict(sample_flower)\r\n",
        "print(pred)\r\n",
        "print(np.argmax(pred,axis=1),'this')\r\n",
        "pred = np.argmax(pred,axis=1)\r\n",
        "print(f\"Predict that these two flowers {sample_flower} \")\r\n",
        "print(f\"are: {species[pred]}\")"
      ],
      "execution_count": 21,
      "outputs": [
        {
          "output_type": "stream",
          "text": [
            "[[0.00355842 0.40489268 0.59154886]\n",
            " [0.98912126 0.01085195 0.00002681]]\n",
            "[2 0] this\n",
            "Predict that these two flowers [[5.  3.  4.  2. ]\n",
            " [5.2 3.5 1.5 0.8]] \n",
            "are: Index(['Iris-virginica', 'Iris-setosa'], dtype='object')\n"
          ],
          "name": "stdout"
        }
      ]
    }
  ]
}