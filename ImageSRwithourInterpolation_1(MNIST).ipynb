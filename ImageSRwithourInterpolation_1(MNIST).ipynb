{
  "nbformat": 4,
  "nbformat_minor": 0,
  "metadata": {
    "colab": {
      "name": "ImageSRwithourInterpolation-1(MNIST).ipynb",
      "provenance": [],
      "authorship_tag": "ABX9TyNbyq1fJWcBSzOH0OHaeVYL",
      "include_colab_link": true
    },
    "kernelspec": {
      "name": "python3",
      "display_name": "Python 3"
    },
    "language_info": {
      "name": "python"
    }
  },
  "cells": [
    {
      "cell_type": "markdown",
      "metadata": {
        "id": "view-in-github",
        "colab_type": "text"
      },
      "source": [
        "<a href=\"https://colab.research.google.com/github/shivendr7/ml/blob/assignments/ImageSRwithourInterpolation_1(MNIST).ipynb\" target=\"_parent\"><img src=\"https://colab.research.google.com/assets/colab-badge.svg\" alt=\"Open In Colab\"/></a>"
      ]
    },
    {
      "cell_type": "code",
      "metadata": {
        "id": "JWVg07qTme7_"
      },
      "source": [
        "import tensorflow as tf\n",
        "import matplotlib.pyplot as plt"
      ],
      "execution_count": 36,
      "outputs": []
    },
    {
      "cell_type": "code",
      "metadata": {
        "id": "fkiqOiqgSC2K"
      },
      "source": [
        "from tensorflow.keras.layers import Conv2D, BatchNormalization, LeakyReLU, Reshape, Flatten, Input, MaxPooling2D, Dense, Lambda\n",
        "from tensorflow.keras.models import Sequential, Model\n",
        "from tensorflow.keras.optimizers import Adam\n",
        "from keras.utils.vis_utils import plot_model"
      ],
      "execution_count": 20,
      "outputs": []
    },
    {
      "cell_type": "code",
      "metadata": {
        "id": "XtxLlF1ow8lO"
      },
      "source": [
        "bsize=2;a=28;b=28;c=tf.cast(64/4, tf.int32)\n",
        "shape=tf.stack([bsize,a,b,2,2,c])"
      ],
      "execution_count": 40,
      "outputs": []
    },
    {
      "cell_type": "code",
      "metadata": {
        "colab": {
          "base_uri": "https://localhost:8080/"
        },
        "id": "aey-p71nxVyt",
        "outputId": "d9efe4ad-d461-42ab-9efd-9d2574faa5ac"
      },
      "source": [
        "shape.get_shape(), shape"
      ],
      "execution_count": 44,
      "outputs": [
        {
          "output_type": "execute_result",
          "data": {
            "text/plain": [
              "(TensorShape([6]),\n",
              " <tf.Tensor: shape=(6,), dtype=int32, numpy=array([ 2, 28, 28,  2,  2, 16], dtype=int32)>)"
            ]
          },
          "metadata": {
            "tags": []
          },
          "execution_count": 44
        }
      ]
    },
    {
      "cell_type": "code",
      "metadata": {
        "colab": {
          "base_uri": "https://localhost:8080/"
        },
        "id": "JTHCiycMxiTa",
        "outputId": "63d42f99-4709-4aec-85c5-33dbe764aa61"
      },
      "source": [
        "I=np.ones(shape=(100352,))\n",
        "X=tf.reshape(tensor=I, shape=shape)\n",
        "print(X.shape)\n",
        "X=tf.transpose(X, (0,1,2,4,3,5))\n",
        "print(X.shape)"
      ],
      "execution_count": 60,
      "outputs": [
        {
          "output_type": "stream",
          "text": [
            "(2, 28, 28, 2, 2, 16)\n",
            "(2, 28, 28, 2, 2, 16)\n"
          ],
          "name": "stdout"
        }
      ]
    },
    {
      "cell_type": "code",
      "metadata": {
        "id": "0UBPq0a400J6"
      },
      "source": [
        "X=tf.split(X, 28, axis=1)"
      ],
      "execution_count": 61,
      "outputs": []
    },
    {
      "cell_type": "code",
      "metadata": {
        "colab": {
          "base_uri": "https://localhost:8080/"
        },
        "id": "ZPTh7e6B1RMd",
        "outputId": "a0077139-3a4f-4387-e03e-d2e45a481787"
      },
      "source": [
        "type(X)"
      ],
      "execution_count": 65,
      "outputs": [
        {
          "output_type": "execute_result",
          "data": {
            "text/plain": [
              "list"
            ]
          },
          "metadata": {
            "tags": []
          },
          "execution_count": 65
        }
      ]
    },
    {
      "cell_type": "code",
      "metadata": {
        "id": "DwkMkOP1f-TA"
      },
      "source": [
        "def _phase_shift(I, r):  # defines periodical shuffling to upscale image\n",
        "    input_shape = tf.shape(I)\n",
        "    bsize = input_shape[0]\n",
        "    a = input_shape[1]\n",
        "    b = input_shape[2]\n",
        "    c = tf.cast(input_shape[3]/(r ** 2),tf.int32)\n",
        "    shape = tf.stack([bsize,a,b,r,r,c])\n",
        " \n",
        "    input_shape_as_numbers = I.get_shape()\n",
        " \n",
        "    X = tf.reshape(tensor=I, shape=shape)\n",
        "    X = tf.transpose(X, (0, 1, 2, 4, 3,5))  \n",
        "    X = tf.split(X, input_shape_as_numbers[1], axis=1)  \n",
        "    X = tf.concat([tf.squeeze(x) for x in X], axis=2)  \n",
        "    X = tf.split(X,input_shape_as_numbers[2], axis=1) \n",
        "    X = tf.concat([tf.squeeze(x) for x in X], axis=2) \n",
        " \n",
        "    return tf.reshape(X, (bsize, a*r, b*r, c))\n",
        " \n",
        "def PS(input_shape, r, name, color=False):\n",
        " \n",
        "    def subpixel_shape(input_shape):\n",
        "        dims = [input_shape[0],\n",
        "            input_shape[1] * r,\n",
        "            input_shape[2] * r,\n",
        "            int(input_shape[3] / (r ** 2))]\n",
        "        output_shape = tuple(dims)\n",
        "        return output_shape\n",
        "  \n",
        "    def subpixel(x):\n",
        "        if color:\n",
        "            Xc = tf.split(3, 3, X)\n",
        "            X = tf.concat(3, [_phase_shift(x, r) for x in Xc])\n",
        "        else:\n",
        "            x_upsampled = _phase_shift(x, r)\n",
        "        return x_upsampled\n",
        " \n",
        "    return Lambda(subpixel, output_shape=subpixel_shape, name=name)\n",
        " \n",
        " \n",
        "# encoder layers\n",
        "encoder_inputs = Input(shape = (14,14,1))\n",
        "conv1 = Conv2D(16, (3,3), activation = 'relu', padding = \"SAME\")(encoder_inputs)\n",
        "#pool1 = MaxPooling2D(pool_size = (2,2), strides = 2)(conv1)\n",
        "conv2 = Conv2D(32, (3,3), activation = 'relu', padding = \"SAME\")(conv1)\n",
        "#pool2 = MaxPooling2D(pool_size = (2,2), strides = 2)(conv2)\n",
        "#flat = Flatten()(pool2)\n",
        "conv3 = Conv2D(32, (3,3), activation = 'relu', padding = \"SAME\")(conv2)\n",
        "#decoder layer\n",
        "#dense_layer_d = Dense(7*7*32, activation = 'relu')(flat)\n",
        "#output_from_d = Reshape((7,7,32))(dense_layer_d)\n",
        "conv4 = Conv2D(4, (3,3), activation = 'relu', padding = \"SAME\")(conv3)\n",
        "# convolution then periodical shuffling to upscale image\n",
        "#sub_up = Conv2D(128, (2,2), activation = 'relu', padding = \"SAME\")(output_from_d)\n",
        "upSampled_1 = PS(sub_up.shape, 2, name = 'subpixel1', color=False)(conv4)\n",
        "\n",
        "#output_from_upSampled_1 = Reshape((14,14,32))(upSampled_1)\n",
        " \n",
        "# convolution then periodical shuffling to upscale image\n",
        "#sub_up_2 = Conv2D(4, (2,2), activation = 'relu', padding = \"SAME\")(output_from_upSampled_1)\n",
        "#output = PS(sub_up_2.shape, 2, name = 'subpixel2', color=False)(sub_up_2)\n",
        " \n",
        "autoencoder = Model(encoder_inputs, upSampled_1)\n",
        " \n",
        "# training of model\n",
        "m = 256\n",
        "n_epoch = 25\n",
        "autoencoder.compile(optimizer='adam', loss='mse')"
      ],
      "execution_count": 71,
      "outputs": []
    },
    {
      "cell_type": "code",
      "metadata": {
        "id": "gL7lZycm6RQk"
      },
      "source": [
        "from skimage import data, color\n",
        "from skimage.transform import rescale, resize, downscale_local_mean"
      ],
      "execution_count": 72,
      "outputs": []
    },
    {
      "cell_type": "code",
      "metadata": {
        "colab": {
          "base_uri": "https://localhost:8080/"
        },
        "id": "0IzYYs7Yq8-c",
        "outputId": "4fe95359-dd07-4fbf-d245-3053762a61f6"
      },
      "source": [
        "from tensorflow.keras.datasets import mnist\n",
        "(train_images, _),(_,_)=mnist.load_data()"
      ],
      "execution_count": 24,
      "outputs": [
        {
          "output_type": "stream",
          "text": [
            "Downloading data from https://storage.googleapis.com/tensorflow/tf-keras-datasets/mnist.npz\n",
            "11493376/11490434 [==============================] - 0s 0us/step\n"
          ],
          "name": "stdout"
        }
      ]
    },
    {
      "cell_type": "code",
      "metadata": {
        "id": "hKkx5NpEra3o"
      },
      "source": [
        "X=np.expand_dims(train_images, axis=-1)"
      ],
      "execution_count": 73,
      "outputs": []
    },
    {
      "cell_type": "code",
      "metadata": {
        "id": "1j0pEw5e6S9y"
      },
      "source": [
        "feed=[]\n",
        "for i in X:\n",
        "  image=i\n",
        "  image_resized = resize(image, (image.shape[0] // 2, image.shape[1] // 2),\n",
        "                        anti_aliasing=True)\n",
        "  feed.append(image_resized)\n",
        "feed=np.array(feed)"
      ],
      "execution_count": 74,
      "outputs": []
    },
    {
      "cell_type": "code",
      "metadata": {
        "colab": {
          "base_uri": "https://localhost:8080/"
        },
        "id": "Dw7_Kktj7U6C",
        "outputId": "19f31faf-a2de-468c-b756-b58cb038800d"
      },
      "source": [
        "feed.shape"
      ],
      "execution_count": 79,
      "outputs": [
        {
          "output_type": "execute_result",
          "data": {
            "text/plain": [
              "(60000, 14, 14, 1)"
            ]
          },
          "metadata": {
            "tags": []
          },
          "execution_count": 79
        }
      ]
    },
    {
      "cell_type": "code",
      "metadata": {
        "colab": {
          "base_uri": "https://localhost:8080/"
        },
        "id": "jfdGK8pYqt0I",
        "outputId": "6e3c1bd9-cef7-4f53-e835-6d46ee4cfc46"
      },
      "source": [
        "autoencoder.summary()"
      ],
      "execution_count": 83,
      "outputs": [
        {
          "output_type": "stream",
          "text": [
            "Model: \"model_3\"\n",
            "_________________________________________________________________\n",
            "Layer (type)                 Output Shape              Param #   \n",
            "=================================================================\n",
            "input_9 (InputLayer)         [(None, 14, 14, 1)]       0         \n",
            "_________________________________________________________________\n",
            "conv2d_31 (Conv2D)           (None, 14, 14, 16)        160       \n",
            "_________________________________________________________________\n",
            "conv2d_32 (Conv2D)           (None, 14, 14, 32)        4640      \n",
            "_________________________________________________________________\n",
            "conv2d_33 (Conv2D)           (None, 14, 14, 32)        9248      \n",
            "_________________________________________________________________\n",
            "conv2d_34 (Conv2D)           (None, 14, 14, 4)         1156      \n",
            "_________________________________________________________________\n",
            "subpixel1 (Lambda)           (None, None, None, None)  0         \n",
            "=================================================================\n",
            "Total params: 15,204\n",
            "Trainable params: 15,204\n",
            "Non-trainable params: 0\n",
            "_________________________________________________________________\n"
          ],
          "name": "stdout"
        }
      ]
    },
    {
      "cell_type": "code",
      "metadata": {
        "colab": {
          "base_uri": "https://localhost:8080/",
          "height": 218
        },
        "id": "JQI44-ZVunT-",
        "outputId": "e5b87f4e-7274-4e39-9294-d85ba2bcafc1"
      },
      "source": [
        "out=autoencoder.predict(feed[:5])\n",
        "plt.subplot(1,2,1)\n",
        "plt.imshow(out[0].reshape(28,28))\n",
        "plt.subplot(1,2,2)\n",
        "plt.imshow(feed[0].reshape(14,14))"
      ],
      "execution_count": 80,
      "outputs": [
        {
          "output_type": "execute_result",
          "data": {
            "text/plain": [
              "<matplotlib.image.AxesImage at 0x7fc090aed290>"
            ]
          },
          "metadata": {
            "tags": []
          },
          "execution_count": 80
        },
        {
          "output_type": "display_data",
          "data": {
            "image/png": "[encoded data removed]",
            "text/plain": [
              "<Figure size 432x288 with 2 Axes>"
            ]
          },
          "metadata": {
            "tags": [],
            "needs_background": "light"
          }
        }
      ]
    },
    {
      "cell_type": "code",
      "metadata": {
        "colab": {
          "base_uri": "https://localhost:8080/"
        },
        "id": "AXG5CU9CqlQP",
        "outputId": "ffba90d6-de40-4ae4-9808-ff1f8ceaa2ee"
      },
      "source": [
        "autoencoder.fit(feed,X, epochs=n_epoch, batch_size=m, shuffle=True, verbose=2)"
      ],
      "execution_count": 81,
      "outputs": [
        {
          "output_type": "stream",
          "text": [
            "Epoch 1/25\n",
            "235/235 - 58s - loss: 2964.4341\n",
            "Epoch 2/25\n",
            "235/235 - 57s - loss: 574.1174\n",
            "Epoch 3/25\n",
            "235/235 - 57s - loss: 378.2800\n",
            "Epoch 4/25\n",
            "235/235 - 57s - loss: 313.6636\n",
            "Epoch 5/25\n",
            "235/235 - 57s - loss: 270.2267\n",
            "Epoch 6/25\n",
            "235/235 - 57s - loss: 236.4022\n",
            "Epoch 7/25\n",
            "235/235 - 57s - loss: 220.5173\n",
            "Epoch 8/25\n",
            "235/235 - 57s - loss: 210.0678\n",
            "Epoch 9/25\n",
            "235/235 - 57s - loss: 202.2092\n",
            "Epoch 10/25\n",
            "235/235 - 57s - loss: 196.0414\n",
            "Epoch 11/25\n",
            "235/235 - 57s - loss: 191.1207\n",
            "Epoch 12/25\n",
            "235/235 - 57s - loss: 186.9029\n",
            "Epoch 13/25\n",
            "235/235 - 57s - loss: 182.9632\n",
            "Epoch 14/25\n",
            "235/235 - 57s - loss: 178.8963\n",
            "Epoch 15/25\n",
            "235/235 - 57s - loss: 174.9149\n",
            "Epoch 16/25\n",
            "235/235 - 57s - loss: 171.3615\n",
            "Epoch 17/25\n",
            "235/235 - 57s - loss: 167.8103\n",
            "Epoch 18/25\n",
            "235/235 - 57s - loss: 164.4273\n",
            "Epoch 19/25\n",
            "235/235 - 57s - loss: 161.3748\n",
            "Epoch 20/25\n",
            "235/235 - 57s - loss: 158.9906\n",
            "Epoch 21/25\n",
            "235/235 - 57s - loss: 156.9950\n",
            "Epoch 22/25\n",
            "235/235 - 57s - loss: 155.5607\n",
            "Epoch 23/25\n",
            "235/235 - 57s - loss: 154.1837\n",
            "Epoch 24/25\n",
            "235/235 - 57s - loss: 153.1017\n",
            "Epoch 25/25\n",
            "235/235 - 57s - loss: 152.1180\n"
          ],
          "name": "stdout"
        },
        {
          "output_type": "execute_result",
          "data": {
            "text/plain": [
              "<tensorflow.python.keras.callbacks.History at 0x7fc090a4d810>"
            ]
          },
          "metadata": {
            "tags": []
          },
          "execution_count": 81
        }
      ]
    },
    {
      "cell_type": "code",
      "metadata": {
        "id": "G5BSUMozBkpd"
      },
      "source": [
        "out=autoencoder.predict(feed)"
      ],
      "execution_count": 86,
      "outputs": []
    },
    {
      "cell_type": "code",
      "metadata": {
        "colab": {
          "base_uri": "https://localhost:8080/",
          "height": 218
        },
        "id": "f23vikequrfK",
        "outputId": "380a3bd3-3c28-4743-915e-3b11b7288fb5"
      },
      "source": [
        "i=np.random.randint(0,10,1)\n",
        "plt.subplot(1,2,1)\n",
        "plt.imshow(out[i].reshape(28,28))\n",
        "plt.subplot(1,2,2)\n",
        "plt.imshow(feed[i].reshape(14,14))"
      ],
      "execution_count": 91,
      "outputs": [
        {
          "output_type": "execute_result",
          "data": {
            "text/plain": [
              "<matplotlib.image.AxesImage at 0x7fc095bc26d0>"
            ]
          },
          "metadata": {
            "tags": []
          },
          "execution_count": 91
        },
        {
          "output_type": "display_data",
          "data": {
            "image/png": "[encoded data removed]",
            "text/plain": [
              "<Figure size 432x288 with 2 Axes>"
            ]
          },
          "metadata": {
            "tags": [],
            "needs_background": "light"
          }
        }
      ]
    }
  ]
}