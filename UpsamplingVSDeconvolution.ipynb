{
  "nbformat": 4,
  "nbformat_minor": 0,
  "metadata": {
    "colab": {
      "name": "UpsamplingVSDeconvolution.ipynb",
      "provenance": [],
      "authorship_tag": "ABX9TyN+9Jp/3Qucl5oBVYSvwo79",
      "include_colab_link": true
    },
    "kernelspec": {
      "name": "python3",
      "display_name": "Python 3"
    },
    "language_info": {
      "name": "python"
    }
  },
  "cells": [
    {
      "cell_type": "markdown",
      "metadata": {
        "id": "view-in-github",
        "colab_type": "text"
      },
      "source": [
        "<a href=\"https://colab.research.google.com/github/shivendr7/ml/blob/GANs/UpsamplingVSDeconvolution.ipynb\" target=\"_parent\"><img src=\"https://colab.research.google.com/assets/colab-badge.svg\" alt=\"Open In Colab\"/></a>"
      ]
    },
    {
      "cell_type": "markdown",
      "metadata": {
        "id": "SPsDCA7B91qV"
      },
      "source": [
        "link-https://machinelearningmastery.com/upsampling-and-transpose-convolution-layers-for-generative-adversarial-networks/\n"
      ]
    },
    {
      "cell_type": "code",
      "metadata": {
        "id": "UT_XlgT7-Jgp"
      },
      "source": [
        "from numpy import asarray\n",
        "from keras.models import Sequential\n",
        "from keras.layers import UpSampling2D"
      ],
      "execution_count": 1,
      "outputs": []
    },
    {
      "cell_type": "code",
      "metadata": {
        "colab": {
          "base_uri": "https://localhost:8080/"
        },
        "id": "QiEApHXS5Yh0",
        "outputId": "94f15430-f05d-454b-87f2-a586705ef8cc"
      },
      "source": [
        "# upsampling2D\n",
        "X=asarray([[1,2],\n",
        "           [3,4]])\n",
        "print(X)\n",
        "X=X.reshape((1,2,2,1))\n",
        "model=Sequential()\n",
        "model.add(UpSampling2D(input_shape=(2,2,1)))\n",
        "model.summary()\n",
        "yhat=model.predict(X)\n",
        "Y=yhat.reshape(4,4)\n",
        "Y"
      ],
      "execution_count": 2,
      "outputs": [
        {
          "output_type": "stream",
          "text": [
            "[[1 2]\n",
            " [3 4]]\n",
            "Model: \"sequential\"\n",
            "_________________________________________________________________\n",
            "Layer (type)                 Output Shape              Param #   \n",
            "=================================================================\n",
            "up_sampling2d (UpSampling2D) (None, 4, 4, 1)           0         \n",
            "=================================================================\n",
            "Total params: 0\n",
            "Trainable params: 0\n",
            "Non-trainable params: 0\n",
            "_________________________________________________________________\n"
          ],
          "name": "stdout"
        },
        {
          "output_type": "execute_result",
          "data": {
            "text/plain": [
              "array([[1., 1., 2., 2.],\n",
              "       [1., 1., 2., 2.],\n",
              "       [3., 3., 4., 4.],\n",
              "       [3., 3., 4., 4.]], dtype=float32)"
            ]
          },
          "metadata": {
            "tags": []
          },
          "execution_count": 2
        }
      ]
    },
    {
      "cell_type": "code",
      "metadata": {
        "colab": {
          "base_uri": "https://localhost:8080/"
        },
        "id": "imBeO9HcAGJq",
        "outputId": "446a8d1d-9ab0-43ab-d303-19a960f8ac94"
      },
      "source": [
        "#doubling width tripling height\n",
        "model2=Sequential()\n",
        "model2.add(UpSampling2D(size=(2,3), input_shape=(2,2,1)))\n",
        "model2.summary()\n",
        "Y_n=model2.predict(X)\n",
        "Y_n.shape"
      ],
      "execution_count": 6,
      "outputs": [
        {
          "output_type": "stream",
          "text": [
            "Model: \"sequential_4\"\n",
            "_________________________________________________________________\n",
            "Layer (type)                 Output Shape              Param #   \n",
            "=================================================================\n",
            "up_sampling2d_4 (UpSampling2 (None, 4, 6, 1)           0         \n",
            "=================================================================\n",
            "Total params: 0\n",
            "Trainable params: 0\n",
            "Non-trainable params: 0\n",
            "_________________________________________________________________\n"
          ],
          "name": "stdout"
        },
        {
          "output_type": "execute_result",
          "data": {
            "text/plain": [
              "(1, 4, 6, 1)"
            ]
          },
          "metadata": {
            "tags": []
          },
          "execution_count": 6
        }
      ]
    },
    {
      "cell_type": "markdown",
      "metadata": {
        "id": "hVfCoE_RBotC"
      },
      "source": [
        "Simple generator"
      ]
    },
    {
      "cell_type": "code",
      "metadata": {
        "id": "yxvCr7eKBmwS"
      },
      "source": [
        "from tensorflow.keras.models import Sequential\n",
        "from tensorflow.keras.layers import Dense, Reshape, UpSampling2D, Conv2D"
      ],
      "execution_count": 7,
      "outputs": []
    },
    {
      "cell_type": "code",
      "metadata": {
        "id": "QZvdFqGfB-li",
        "outputId": "38049df4-690f-4795-dd7b-c892c0329768",
        "colab": {
          "base_uri": "https://localhost:8080/"
        }
      },
      "source": [
        "model=Sequential()\n",
        "model.add(Dense(128*5*5, input_dim=100))\n",
        "model.add(Reshape((5,5,128)))\n",
        "model.add(UpSampling2D())\n",
        "model.add(Conv2D(1,(3,3), padding='same'))\n",
        "model.summary()"
      ],
      "execution_count": 8,
      "outputs": [
        {
          "output_type": "stream",
          "text": [
            "Model: \"sequential_5\"\n",
            "_________________________________________________________________\n",
            "Layer (type)                 Output Shape              Param #   \n",
            "=================================================================\n",
            "dense (Dense)                (None, 3200)              323200    \n",
            "_________________________________________________________________\n",
            "reshape (Reshape)            (None, 5, 5, 128)         0         \n",
            "_________________________________________________________________\n",
            "up_sampling2d_5 (UpSampling2 (None, 10, 10, 128)       0         \n",
            "_________________________________________________________________\n",
            "conv2d (Conv2D)              (None, 10, 10, 1)         1153      \n",
            "=================================================================\n",
            "Total params: 324,353\n",
            "Trainable params: 324,353\n",
            "Non-trainable params: 0\n",
            "_________________________________________________________________\n"
          ],
          "name": "stdout"
        }
      ]
    },
    {
      "cell_type": "markdown",
      "metadata": {
        "id": "xK_QfcFsCxc5"
      },
      "source": [
        "more about conv layer (1x1)- https://machinelearningmastery.com/introduction-to-1×1-convolutions-to-reduce-the-complexity-of-convolutional-neural-networks/"
      ]
    },
    {
      "cell_type": "code",
      "metadata": {
        "id": "c8UEVSYLC2ry"
      },
      "source": [
        "#upsampling with Conv2DTranspose\n",
        "from numpy import asarray\n",
        "from keras.models import Sequential\n",
        "from keras.layers import Conv2DTranspose "
      ],
      "execution_count": 9,
      "outputs": []
    },
    {
      "cell_type": "code",
      "metadata": {
        "id": "BsqLsQbADjDC",
        "outputId": "f211160f-0a9d-460b-bb03-e8af24e0cdc8",
        "colab": {
          "base_uri": "https://localhost:8080/"
        }
      },
      "source": [
        "X=asarray([[1,2],\n",
        "           [3,4]])\n",
        "print(X)\n",
        "X=X.reshape((1,2,2,1))\n",
        "\n",
        "model=Sequential()\n",
        "model.add(Conv2DTranspose(1, (1,1), strides=(2,2), input_shape=(2,2,1)))\n",
        "model.summary()\n",
        "\n",
        "weights=[asarray([[[[1]]]]),asarray([0])]\n",
        "model.set_weights(weights)\n",
        "\n",
        "yhat=model.predict(X)\n",
        "Y=yhat.reshape((4,4))\n",
        "print(Y)"
      ],
      "execution_count": 10,
      "outputs": [
        {
          "output_type": "stream",
          "text": [
            "[[1 2]\n",
            " [3 4]]\n",
            "Model: \"sequential_6\"\n",
            "_________________________________________________________________\n",
            "Layer (type)                 Output Shape              Param #   \n",
            "=================================================================\n",
            "conv2d_transpose (Conv2DTran (None, 4, 4, 1)           2         \n",
            "=================================================================\n",
            "Total params: 2\n",
            "Trainable params: 2\n",
            "Non-trainable params: 0\n",
            "_________________________________________________________________\n",
            "WARNING:tensorflow:5 out of the last 5 calls to <function Model.make_predict_function.<locals>.predict_function at 0x7fdd5352e170> triggered tf.function retracing. Tracing is expensive and the excessive number of tracings could be due to (1) creating @tf.function repeatedly in a loop, (2) passing tensors with different shapes, (3) passing Python objects instead of tensors. For (1), please define your @tf.function outside of the loop. For (2), @tf.function has experimental_relax_shapes=True option that relaxes argument shapes that can avoid unnecessary retracing. For (3), please refer to https://www.tensorflow.org/guide/function#controlling_retracing and https://www.tensorflow.org/api_docs/python/tf/function for  more details.\n",
            "[[1. 0. 2. 0.]\n",
            " [0. 0. 0. 0.]\n",
            " [3. 0. 4. 0.]\n",
            " [0. 0. 0. 0.]]\n"
          ],
          "name": "stdout"
        }
      ]
    },
    {
      "cell_type": "markdown",
      "metadata": {
        "id": "45MbbGjRE2DH"
      },
      "source": [
        "Generator with Conv2DTranspose"
      ]
    },
    {
      "cell_type": "code",
      "metadata": {
        "id": "acrXhdRyE5qB"
      },
      "source": [
        "from keras.models import Sequential\n",
        "from keras.layers import Dense, Reshape, Conv2D, Conv2DTranspose"
      ],
      "execution_count": 11,
      "outputs": []
    },
    {
      "cell_type": "code",
      "metadata": {
        "id": "pJc-YN2tFIJw",
        "outputId": "ed5d2c63-cf18-402c-c88a-0be73b494150",
        "colab": {
          "base_uri": "https://localhost:8080/"
        }
      },
      "source": [
        "model=Sequential()\n",
        "model.add(Dense(128*5*5, input_dim=100))\n",
        "model.add(Reshape((5,5,128)))\n",
        "model.add(Conv2DTranspose(1, (3,3), padding='same'))\n",
        "model.summary()"
      ],
      "execution_count": 12,
      "outputs": [
        {
          "output_type": "stream",
          "text": [
            "Model: \"sequential_7\"\n",
            "_________________________________________________________________\n",
            "Layer (type)                 Output Shape              Param #   \n",
            "=================================================================\n",
            "dense_1 (Dense)              (None, 3200)              323200    \n",
            "_________________________________________________________________\n",
            "reshape_1 (Reshape)          (None, 5, 5, 128)         0         \n",
            "_________________________________________________________________\n",
            "conv2d_transpose_1 (Conv2DTr (None, 5, 5, 1)           1153      \n",
            "=================================================================\n",
            "Total params: 324,353\n",
            "Trainable params: 324,353\n",
            "Non-trainable params: 0\n",
            "_________________________________________________________________\n"
          ],
          "name": "stdout"
        }
      ]
    },
    {
      "cell_type": "markdown",
      "metadata": {
        "id": "Ck17VK7jFmyK"
      },
      "source": [
        "Conv2DTranspose = UpSampling2D + Conv2D"
      ]
    }
  ]
}