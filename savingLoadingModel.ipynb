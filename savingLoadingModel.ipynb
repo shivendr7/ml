{
  "nbformat": 4,
  "nbformat_minor": 0,
  "metadata": {
    "colab": {
      "name": "savingLoadingModel.ipynb",
      "provenance": [],
      "authorship_tag": "ABX9TyM5yr+q5I61IJe8k8yg7I7d",
      "include_colab_link": true
    },
    "kernelspec": {
      "name": "python3",
      "display_name": "Python 3"
    }
  },
  "cells": [
    {
      "cell_type": "markdown",
      "metadata": {
        "id": "view-in-github",
        "colab_type": "text"
      },
      "source": [
        "<a href=\"https://colab.research.google.com/github/shivendr7/ml/blob/main/savingLoadingModel.ipynb\" target=\"_parent\"><img src=\"https://colab.research.google.com/assets/colab-badge.svg\" alt=\"Open In Colab\"/></a>"
      ]
    },
    {
      "cell_type": "code",
      "metadata": {
        "id": "heHVRFvWMn3q"
      },
      "source": [
        "from tensorflow.keras.models import Sequential\r\n",
        "from tensorflow.keras.layers import Dense,Activation\r\n",
        "import pandas as pd\r\n",
        "import io\r\n",
        "import os\r\n",
        "import requests\r\n",
        "import numpy as np\r\n",
        "from sklearn import metrics\r\n",
        "\r\n",
        "save_path='.'\r\n",
        "\r\n",
        "df=pd.read_csv(\"https://data.heatonresearch.com/data/t81-558/auto-mpg.csv\",na_values=['NA','?'])\r\n",
        "cars=df['name']\r\n",
        "\r\n",
        "df['horsepower']=df['horsepower'].fillna(df['horsepower'].median())\r\n",
        "\r\n",
        "x=df[['cylinders','displacement','horsepower','weight','acceleration','year','origin']].values\r\n",
        "y=df['mpg']\r\n",
        "\r\n"
      ],
      "execution_count": 4,
      "outputs": []
    },
    {
      "cell_type": "code",
      "metadata": {
        "colab": {
          "base_uri": "https://localhost:8080/"
        },
        "id": "W6mgD-M_N-UA",
        "outputId": "4be73dbe-1840-4304-9ad6-287f93721c5d"
      },
      "source": [
        "model=Sequential()\r\n",
        "model.add(Dense(25,input_dim=x.shape[1],activation='relu')) #hidden \r\n",
        "model.add(Dense(10,activation='relu')) #hidden 2\r\n",
        "model.add(Dense(1)) #output\r\n",
        "\r\n",
        "model.compile(loss='mean_squared_error',optimizer='adam')\r\n",
        "model.fit(x,y,verbose=0,epochs=100)\r\n",
        "\r\n",
        "pred=model.predict(x)\r\n",
        "score=np.sqrt(metrics.mean_squared_error(pred,y))\r\n",
        "print('score',score)\r\n"
      ],
      "execution_count": 22,
      "outputs": [
        {
          "output_type": "stream",
          "text": [
            "score 3.9737725643306616\n"
          ],
          "name": "stdout"
        }
      ]
    },
    {
      "cell_type": "code",
      "metadata": {
        "id": "sVNT11SGPwmI"
      },
      "source": [
        "#saving\r\n",
        "model_json=model.to_json()\r\n",
        "with open(os.path.join(save_path,'network.json'),'w') as json_file:\r\n",
        "  json_file.write(model_json)\r\n",
        "\r\n",
        "model_yaml=model.to_yaml()\r\n",
        "with open(os.path.join(save_path,'network.yaml'),'w') as yaml_file:\r\n",
        "  yaml_file.write(model_yaml)\r\n",
        "\r\n",
        "model.save(os.path.join(save_path,'network.h5'))"
      ],
      "execution_count": 23,
      "outputs": []
    },
    {
      "cell_type": "code",
      "metadata": {
        "colab": {
          "base_uri": "https://localhost:8080/"
        },
        "id": "E9YJDfsVRVDM",
        "outputId": "771aac3c-6963-4e0d-90ab-c3f6dc587db1"
      },
      "source": [
        "from tensorflow.keras.models import load_model\r\n",
        "model2=load_model(os.path.join(save_path,'network.h5'))\r\n",
        "pred=model2.predict(x)\r\n",
        "score=np.sqrt(metrics.mean_squared_error(pred,y))\r\n",
        "print('score',score)"
      ],
      "execution_count": 24,
      "outputs": [
        {
          "output_type": "stream",
          "text": [
            "score 3.9737725643306616\n"
          ],
          "name": "stdout"
        }
      ]
    }
  ]
}