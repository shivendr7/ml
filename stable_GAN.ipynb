{
  "nbformat": 4,
  "nbformat_minor": 0,
  "metadata": {
    "colab": {
      "name": "stable_GAN.ipynb",
      "provenance": [],
      "authorship_tag": "ABX9TyPKko8x4uvu410OuNP+ovgB",
      "include_colab_link": true
    },
    "kernelspec": {
      "name": "python3",
      "display_name": "Python 3"
    },
    "language_info": {
      "name": "python"
    },
    "accelerator": "GPU"
  },
  "cells": [
    {
      "cell_type": "markdown",
      "metadata": {
        "id": "view-in-github",
        "colab_type": "text"
      },
      "source": [
        "<a href=\"https://colab.research.google.com/github/shivendr7/ml/blob/GANs/stable_GAN.ipynb\" target=\"_parent\"><img src=\"https://colab.research.google.com/assets/colab-badge.svg\" alt=\"Open In Colab\"/></a>"
      ]
    },
    {
      "cell_type": "code",
      "metadata": {
        "id": "NGDfhtuF0ijS"
      },
      "source": [
        "from tensorflow.keras.datasets import mnist\n",
        "(train_images, train_labels), (test_images, test_labels)=mnist.load_data()"
      ],
      "execution_count": 1,
      "outputs": []
    },
    {
      "cell_type": "code",
      "metadata": {
        "id": "bC3YXpwREpMT"
      },
      "source": [
        "import numpy as np\n",
        "import matplotlib.pyplot as plt\n",
        "from tensorflow.keras.initializers import RandomNormal\n",
        "from tensorflow.keras.layers import Conv2D, Dense, Conv2DTranspose, BatchNormalization, LeakyReLU, Flatten, Reshape\n",
        "from tensorflow.keras.optimizers import Adam\n",
        "from tensorflow.keras.models import Sequential"
      ],
      "execution_count": 2,
      "outputs": []
    },
    {
      "cell_type": "code",
      "metadata": {
        "id": "lncNDQx-FR_I"
      },
      "source": [
        "def build_discriminator():\n",
        "  init=RandomNormal(stddev=0.2)\n",
        "  model=Sequential()\n",
        "  model.add(Conv2D(64, kernel_size=(4,4), strides=(2,2), padding='same', kernel_initializer=init, input_shape=(28,28,1)))\n",
        "  model.add(BatchNormalization())\n",
        "  model.add(LeakyReLU(alpha=0.2))\n",
        "  model.add(Conv2D(64, kernel_size=(4,4), strides=(2,2), padding='same', kernel_initializer=init))\n",
        "  model.add(BatchNormalization())\n",
        "  model.add(LeakyReLU(alpha=0.2))\n",
        "  model.add(Flatten())\n",
        "  model.add(Dense(1, activation='sigmoid'))\n",
        "  opt=Adam(learning_rate=0.0002, beta_1=0.5)\n",
        "  model.compile(loss='binary_crossentropy', optimizer=opt, metrics=['accuracy'])\n",
        "  return model\n",
        "disc=build_discriminator()"
      ],
      "execution_count": 3,
      "outputs": []
    },
    {
      "cell_type": "code",
      "metadata": {
        "colab": {
          "base_uri": "https://localhost:8080/"
        },
        "id": "yI6sG-_qGaV9",
        "outputId": "064f5b4d-974b-4b28-cafb-a6ee85ec93ca"
      },
      "source": [
        "disc.summary()"
      ],
      "execution_count": 4,
      "outputs": [
        {
          "output_type": "stream",
          "text": [
            "Model: \"sequential\"\n",
            "_________________________________________________________________\n",
            "Layer (type)                 Output Shape              Param #   \n",
            "=================================================================\n",
            "conv2d (Conv2D)              (None, 14, 14, 64)        1088      \n",
            "_________________________________________________________________\n",
            "batch_normalization (BatchNo (None, 14, 14, 64)        256       \n",
            "_________________________________________________________________\n",
            "leaky_re_lu (LeakyReLU)      (None, 14, 14, 64)        0         \n",
            "_________________________________________________________________\n",
            "conv2d_1 (Conv2D)            (None, 7, 7, 64)          65600     \n",
            "_________________________________________________________________\n",
            "batch_normalization_1 (Batch (None, 7, 7, 64)          256       \n",
            "_________________________________________________________________\n",
            "leaky_re_lu_1 (LeakyReLU)    (None, 7, 7, 64)          0         \n",
            "_________________________________________________________________\n",
            "flatten (Flatten)            (None, 3136)              0         \n",
            "_________________________________________________________________\n",
            "dense (Dense)                (None, 1)                 3137      \n",
            "=================================================================\n",
            "Total params: 70,337\n",
            "Trainable params: 70,081\n",
            "Non-trainable params: 256\n",
            "_________________________________________________________________\n"
          ],
          "name": "stdout"
        }
      ]
    },
    {
      "cell_type": "code",
      "metadata": {
        "id": "gT_I6fIzGhDS"
      },
      "source": [
        "def build_generator(latent_dim):\n",
        "  init=RandomNormal(stddev=0.2)\n",
        "  model=Sequential()\n",
        "  model.add(Dense(128*7*7, input_shape=latent_dim))\n",
        "  model.add(LeakyReLU(alpha=0.2))\n",
        "  model.add(Reshape(target_shape=(7,7,128)))\n",
        "  model.add(Conv2DTranspose(128, kernel_size=(4,4), strides=(2,2), padding='same', kernel_initializer=init))\n",
        "  model.add(BatchNormalization())\n",
        "  model.add(LeakyReLU(alpha=0.2))\n",
        "  model.add(Conv2DTranspose(128, kernel_size=(4,4), strides=(2,2), padding='same', kernel_initializer=init))\n",
        "  model.add(BatchNormalization())\n",
        "  model.add(LeakyReLU(alpha=0.2))\n",
        "  model.add(Conv2D(1, kernel_size=(7,7), padding='same', activation='tanh', kernel_initializer=init))\n",
        "  return model\n",
        "gen=build_generator(latent_dim=(100,))"
      ],
      "execution_count": 5,
      "outputs": []
    },
    {
      "cell_type": "code",
      "metadata": {
        "colab": {
          "base_uri": "https://localhost:8080/"
        },
        "id": "KmMkwH0zItgX",
        "outputId": "df34a607-0e50-4afa-ee2c-393dde0795a5"
      },
      "source": [
        "gen.summary()"
      ],
      "execution_count": 6,
      "outputs": [
        {
          "output_type": "stream",
          "text": [
            "Model: \"sequential_1\"\n",
            "_________________________________________________________________\n",
            "Layer (type)                 Output Shape              Param #   \n",
            "=================================================================\n",
            "dense_1 (Dense)              (None, 6272)              633472    \n",
            "_________________________________________________________________\n",
            "leaky_re_lu_2 (LeakyReLU)    (None, 6272)              0         \n",
            "_________________________________________________________________\n",
            "reshape (Reshape)            (None, 7, 7, 128)         0         \n",
            "_________________________________________________________________\n",
            "conv2d_transpose (Conv2DTran (None, 14, 14, 128)       262272    \n",
            "_________________________________________________________________\n",
            "batch_normalization_2 (Batch (None, 14, 14, 128)       512       \n",
            "_________________________________________________________________\n",
            "leaky_re_lu_3 (LeakyReLU)    (None, 14, 14, 128)       0         \n",
            "_________________________________________________________________\n",
            "conv2d_transpose_1 (Conv2DTr (None, 28, 28, 128)       262272    \n",
            "_________________________________________________________________\n",
            "batch_normalization_3 (Batch (None, 28, 28, 128)       512       \n",
            "_________________________________________________________________\n",
            "leaky_re_lu_4 (LeakyReLU)    (None, 28, 28, 128)       0         \n",
            "_________________________________________________________________\n",
            "conv2d_2 (Conv2D)            (None, 28, 28, 1)         6273      \n",
            "=================================================================\n",
            "Total params: 1,165,313\n",
            "Trainable params: 1,164,801\n",
            "Non-trainable params: 512\n",
            "_________________________________________________________________\n"
          ],
          "name": "stdout"
        }
      ]
    },
    {
      "cell_type": "code",
      "metadata": {
        "colab": {
          "base_uri": "https://localhost:8080/",
          "height": 282
        },
        "id": "0AaqdJziJFJA",
        "outputId": "c6fbf1af-3c2e-498f-e87b-ac4bdd06e35a"
      },
      "source": [
        "im=gen.predict(np.random.randn(100).reshape(1,100))\n",
        "plt.imshow(im.reshape(28,28), cmap='gray_r')"
      ],
      "execution_count": 7,
      "outputs": [
        {
          "output_type": "execute_result",
          "data": {
            "text/plain": [
              "<matplotlib.image.AxesImage at 0x7fcad0049e50>"
            ]
          },
          "metadata": {
            "tags": []
          },
          "execution_count": 7
        },
        {
          "output_type": "display_data",
          "data": {
            "image/png": "[encoded data removed]",
            "text/plain": [
              "<Figure size 432x288 with 1 Axes>"
            ]
          },
          "metadata": {
            "tags": [],
            "needs_background": "light"
          }
        }
      ]
    },
    {
      "cell_type": "code",
      "metadata": {
        "id": "FCul7pI8Jf6-"
      },
      "source": [
        "def build_gan():\n",
        "  disc.trainable=False\n",
        "  model=Sequential()\n",
        "  model.add(gen)\n",
        "  model.add(disc)\n",
        "  opt=Adam(learning_rate=0.0002, beta_1=0.5)\n",
        "  model.compile(loss='binary_crossentropy', optimizer=opt, metrics=['accuracy'])\n",
        "  return model\n",
        "gan=build_gan()"
      ],
      "execution_count": 8,
      "outputs": []
    },
    {
      "cell_type": "code",
      "metadata": {
        "colab": {
          "base_uri": "https://localhost:8080/"
        },
        "id": "dboajCDaJ-wa",
        "outputId": "9dad2668-b721-428d-d6d9-a945d3b6f1a6"
      },
      "source": [
        "gan.summary()"
      ],
      "execution_count": 9,
      "outputs": [
        {
          "output_type": "stream",
          "text": [
            "Model: \"sequential_2\"\n",
            "_________________________________________________________________\n",
            "Layer (type)                 Output Shape              Param #   \n",
            "=================================================================\n",
            "sequential_1 (Sequential)    (None, 28, 28, 1)         1165313   \n",
            "_________________________________________________________________\n",
            "sequential (Sequential)      (None, 1)                 70337     \n",
            "=================================================================\n",
            "Total params: 1,235,650\n",
            "Trainable params: 1,164,801\n",
            "Non-trainable params: 70,849\n",
            "_________________________________________________________________\n"
          ],
          "name": "stdout"
        }
      ]
    },
    {
      "cell_type": "code",
      "metadata": {
        "id": "JoA_tVlxKXuJ"
      },
      "source": [
        "X=np.expand_dims(train_images, axis=-1)\n",
        "images_with_class8=train_labels==8\n",
        "X=X[images_with_class8]"
      ],
      "execution_count": 10,
      "outputs": []
    },
    {
      "cell_type": "code",
      "metadata": {
        "id": "4Kye2losKuVJ"
      },
      "source": [
        "Xf=X.astype('float32')\n",
        "Xf=(Xf-127.5)/127.5"
      ],
      "execution_count": 11,
      "outputs": []
    },
    {
      "cell_type": "code",
      "metadata": {
        "colab": {
          "base_uri": "https://localhost:8080/"
        },
        "id": "MuegtQcTK4ar",
        "outputId": "16fcd3df-0a94-40d7-9519-4387bcb0ab1e"
      },
      "source": [
        "def generate_real_samples(n):\n",
        "  ix=np.random.randint(0, Xf.shape[0], n)\n",
        "  x=Xf[ix]\n",
        "  y=np.ones(shape=(n,1))\n",
        "  return x,y\n",
        "x_1, y_1=generate_real_samples(10)\n",
        "x_1.shape, y_1.shape"
      ],
      "execution_count": 12,
      "outputs": [
        {
          "output_type": "execute_result",
          "data": {
            "text/plain": [
              "((10, 28, 28, 1), (10, 1))"
            ]
          },
          "metadata": {
            "tags": []
          },
          "execution_count": 12
        }
      ]
    },
    {
      "cell_type": "code",
      "metadata": {
        "colab": {
          "base_uri": "https://localhost:8080/"
        },
        "id": "w7bvwoLYLj5I",
        "outputId": "3afcbea8-c2c2-4465-e5c7-dd3e4f0386b1"
      },
      "source": [
        "def generate_latent_points(n):\n",
        "  return np.random.randn(100*n).reshape(n,100)\n",
        "def generate_fake_samples(n):\n",
        "  x=generate_latent_points(n)\n",
        "  x=gen.predict(x)\n",
        "  y=np.zeros(shape=(n,1))\n",
        "  return x,y\n",
        "x_1, y_1=generate_fake_samples(10)\n",
        "x_1.shape, y_1.shape"
      ],
      "execution_count": 13,
      "outputs": [
        {
          "output_type": "execute_result",
          "data": {
            "text/plain": [
              "((10, 28, 28, 1), (10, 1))"
            ]
          },
          "metadata": {
            "tags": []
          },
          "execution_count": 13
        }
      ]
    },
    {
      "cell_type": "code",
      "metadata": {
        "colab": {
          "base_uri": "https://localhost:8080/",
          "height": 89
        },
        "id": "o5jF9vyMMPOU",
        "outputId": "8124f84a-9040-49ff-8bf7-835bce00e5b9"
      },
      "source": [
        "def summarise_performance():\n",
        "  x,_ =generate_fake_samples(5)\n",
        "  x=(x+1)/2 #[-1,1]->[0,1]\n",
        "  for i in range(5):\n",
        "    plt.subplot(1,5,i+1)\n",
        "    plt.axis('off')\n",
        "    plt.imshow(x[i,:,:,0], cmap='gray_r')\n",
        "  \n",
        "summarise_performance()"
      ],
      "execution_count": 14,
      "outputs": [
        {
          "output_type": "display_data",
          "data": {
            "image/png": "[encoded data removed]",
            "text/plain": [
              "<Figure size 432x288 with 5 Axes>"
            ]
          },
          "metadata": {
            "tags": [],
            "needs_background": "light"
          }
        }
      ]
    },
    {
      "cell_type": "code",
      "metadata": {
        "id": "-MzKP9sgOPBM"
      },
      "source": [
        "def plot_history(d1_hist, d2_hist, g_hist, a1_hist, a2_hist):\n",
        "  plt.subplot(2,1,1)\n",
        "  plt.plot(d1_hist, label='d_real')\n",
        "  plt.plot(d2_hist, label='d_fake')\n",
        "  plt.plot(g_hist, label='gen')\n",
        "  plt.legend()\n",
        "  plt.subplot(2,1,2) \n",
        "  plt.plot(a1_hist, label='acc_real')\n",
        "  plt.plot(a2_hist, label='acc_fake')\n",
        "  plt.legend()\n",
        "  plt.close()"
      ],
      "execution_count": 15,
      "outputs": []
    },
    {
      "cell_type": "code",
      "metadata": {
        "id": "v0baWIAhRnqj"
      },
      "source": [
        "def train(n_epochs=100, n_batch=128):\n",
        "  batch_per_epoch=Xf.shape[0]//n_batch\n",
        "  half_batch=n_batch//2\n",
        "  n=batch_per_epoch*n_epochs\n",
        "  d1_hist=[];d2_hist=[];g_hist=[];a1_hist=[];a2_hist=[]\n",
        "  for i in range(n):\n",
        "    x_r, y_r=generate_real_samples(half_batch)\n",
        "    d_loss1, d_acc1=disc.train_on_batch(x_r, y_r)\n",
        "    x_f, y_f=generate_fake_samples(half_batch)\n",
        "    d_loss2, d_acc2=disc.train_on_batch(x_f, y_f)\n",
        "    x_g=generate_latent_points(n_batch)\n",
        "    y_g=np.ones(shape=(n_batch,1))\n",
        "    g_loss, _ =gan.train_on_batch(x_g, y_g)\n",
        "    print('%d d1=[%.3f] d2=[%.3f] g=[%.3f] a1=[%d] a2=[%d]'%(i+1,d_loss1, d_loss2, g_loss, d_acc1, d_acc2))\n",
        "    d1_hist.append(d_loss1)\n",
        "    d2_hist.append(d_loss2)\n",
        "    g_hist.append(g_loss)\n",
        "    a1_hist.append(d_acc1)\n",
        "    a2_hist.append(d_acc2)\n",
        "    \"\"\"\n",
        "    if((i+1)%5==0):\n",
        "      summarise_performance() \"\"\"\n",
        "  plot_history(d1_hist, d2_hist, g_hist, a1_hist, a2_hist)"
      ],
      "execution_count": 16,
      "outputs": []
    },
    {
      "cell_type": "code",
      "metadata": {
        "colab": {
          "base_uri": "https://localhost:8080/",
          "height": 1000
        },
        "id": "liNNXi7oVesa",
        "outputId": "54c5b9e2-58c4-46e3-e9f0-039fd052482c"
      },
      "source": [
        "train()"
      ],
      "execution_count": 19,
      "outputs": [
        {
          "output_type": "stream",
          "text": [
            "1 d1=[0.037] d2=[0.026] g=[0.745] a1=[1] a2=[1]\n",
            "2 d1=[0.017] d2=[0.031] g=[1.600] a1=[1] a2=[1]\n",
            "3 d1=[0.025] d2=[0.020] g=[1.582] a1=[1] a2=[1]\n",
            "4 d1=[0.024] d2=[0.020] g=[1.505] a1=[1] a2=[1]\n",
            "5 d1=[0.013] d2=[0.023] g=[1.615] a1=[1] a2=[1]\n",
            "6 d1=[0.021] d2=[0.017] g=[1.657] a1=[1] a2=[1]\n",
            "7 d1=[0.013] d2=[0.016] g=[1.578] a1=[1] a2=[1]\n",
            "8 d1=[0.016] d2=[0.023] g=[1.606] a1=[1] a2=[1]\n",
            "9 d1=[0.021] d2=[0.012] g=[1.618] a1=[1] a2=[1]\n",
            "10 d1=[0.012] d2=[0.011] g=[1.527] a1=[1] a2=[1]\n",
            "11 d1=[0.023] d2=[0.015] g=[1.411] a1=[1] a2=[1]\n",
            "12 d1=[0.018] d2=[0.018] g=[1.379] a1=[1] a2=[1]\n",
            "13 d1=[0.032] d2=[0.016] g=[1.224] a1=[1] a2=[1]\n",
            "14 d1=[0.022] d2=[0.015] g=[1.079] a1=[1] a2=[1]\n",
            "15 d1=[0.018] d2=[0.019] g=[1.095] a1=[1] a2=[1]\n",
            "16 d1=[0.015] d2=[0.019] g=[1.190] a1=[1] a2=[1]\n",
            "17 d1=[0.024] d2=[0.022] g=[1.123] a1=[1] a2=[1]\n",
            "18 d1=[0.021] d2=[0.015] g=[1.097] a1=[1] a2=[1]\n",
            "19 d1=[0.013] d2=[0.017] g=[1.119] a1=[1] a2=[1]\n",
            "20 d1=[0.019] d2=[0.017] g=[1.186] a1=[1] a2=[1]\n",
            "21 d1=[0.016] d2=[0.015] g=[1.134] a1=[1] a2=[1]\n",
            "22 d1=[0.011] d2=[0.008] g=[1.159] a1=[1] a2=[1]\n",
            "23 d1=[0.017] d2=[0.010] g=[1.074] a1=[1] a2=[1]\n",
            "24 d1=[0.014] d2=[0.014] g=[1.065] a1=[1] a2=[1]\n",
            "25 d1=[0.028] d2=[0.032] g=[1.084] a1=[1] a2=[1]\n",
            "26 d1=[0.022] d2=[0.018] g=[1.113] a1=[1] a2=[1]\n",
            "27 d1=[0.023] d2=[0.019] g=[1.188] a1=[1] a2=[1]\n",
            "28 d1=[0.008] d2=[0.032] g=[1.341] a1=[1] a2=[1]\n",
            "29 d1=[0.010] d2=[0.027] g=[1.635] a1=[1] a2=[1]\n",
            "30 d1=[0.020] d2=[0.017] g=[1.705] a1=[1] a2=[1]\n",
            "31 d1=[0.021] d2=[0.013] g=[1.588] a1=[1] a2=[1]\n",
            "32 d1=[0.029] d2=[0.009] g=[1.335] a1=[1] a2=[1]\n",
            "33 d1=[0.018] d2=[0.014] g=[1.219] a1=[1] a2=[1]\n",
            "34 d1=[0.014] d2=[0.011] g=[1.142] a1=[1] a2=[1]\n",
            "35 d1=[0.012] d2=[0.014] g=[1.164] a1=[1] a2=[1]\n",
            "36 d1=[0.010] d2=[0.011] g=[1.110] a1=[1] a2=[1]\n",
            "37 d1=[0.010] d2=[0.020] g=[1.208] a1=[1] a2=[1]\n",
            "38 d1=[0.018] d2=[0.032] g=[1.358] a1=[1] a2=[1]\n",
            "39 d1=[0.009] d2=[0.009] g=[1.390] a1=[1] a2=[1]\n",
            "40 d1=[0.016] d2=[0.009] g=[1.409] a1=[1] a2=[1]\n",
            "41 d1=[0.015] d2=[0.015] g=[1.412] a1=[1] a2=[1]\n",
            "42 d1=[0.022] d2=[0.010] g=[1.243] a1=[1] a2=[1]\n",
            "43 d1=[0.025] d2=[0.016] g=[1.141] a1=[1] a2=[1]\n",
            "44 d1=[0.013] d2=[0.013] g=[1.143] a1=[1] a2=[1]\n",
            "45 d1=[0.014] d2=[0.010] g=[1.139] a1=[1] a2=[1]\n",
            "46 d1=[0.015] d2=[0.013] g=[1.106] a1=[1] a2=[1]\n",
            "47 d1=[0.006] d2=[0.012] g=[1.143] a1=[1] a2=[1]\n",
            "48 d1=[0.007] d2=[0.007] g=[1.192] a1=[1] a2=[1]\n",
            "49 d1=[0.007] d2=[0.011] g=[1.256] a1=[1] a2=[1]\n",
            "50 d1=[0.018] d2=[0.004] g=[1.130] a1=[1] a2=[1]\n",
            "51 d1=[0.015] d2=[0.007] g=[1.060] a1=[1] a2=[1]\n",
            "52 d1=[0.008] d2=[0.009] g=[0.955] a1=[1] a2=[1]\n",
            "53 d1=[0.013] d2=[0.005] g=[0.949] a1=[1] a2=[1]\n",
            "54 d1=[0.008] d2=[0.006] g=[0.975] a1=[1] a2=[1]\n",
            "55 d1=[0.011] d2=[0.005] g=[0.864] a1=[1] a2=[1]\n",
            "56 d1=[0.004] d2=[0.005] g=[0.879] a1=[1] a2=[1]\n",
            "57 d1=[0.009] d2=[0.006] g=[0.886] a1=[1] a2=[1]\n",
            "58 d1=[0.011] d2=[0.004] g=[0.890] a1=[1] a2=[1]\n",
            "59 d1=[0.013] d2=[0.004] g=[0.754] a1=[1] a2=[1]\n",
            "60 d1=[0.005] d2=[0.003] g=[0.693] a1=[1] a2=[1]\n",
            "61 d1=[0.005] d2=[0.005] g=[0.758] a1=[1] a2=[1]\n",
            "62 d1=[0.005] d2=[0.007] g=[0.723] a1=[1] a2=[1]\n",
            "63 d1=[0.007] d2=[0.003] g=[0.753] a1=[1] a2=[1]\n",
            "64 d1=[0.005] d2=[0.005] g=[0.734] a1=[1] a2=[1]\n",
            "65 d1=[0.004] d2=[0.004] g=[0.739] a1=[1] a2=[1]\n",
            "66 d1=[0.009] d2=[0.003] g=[0.723] a1=[1] a2=[1]\n",
            "67 d1=[0.007] d2=[0.003] g=[0.661] a1=[1] a2=[1]\n",
            "68 d1=[0.005] d2=[0.004] g=[0.757] a1=[1] a2=[1]\n",
            "69 d1=[0.008] d2=[0.004] g=[0.720] a1=[1] a2=[1]\n",
            "70 d1=[0.004] d2=[0.005] g=[0.619] a1=[1] a2=[1]\n",
            "71 d1=[0.005] d2=[0.006] g=[0.705] a1=[1] a2=[1]\n",
            "72 d1=[0.005] d2=[0.008] g=[0.764] a1=[1] a2=[1]\n",
            "73 d1=[0.006] d2=[0.003] g=[0.767] a1=[1] a2=[1]\n",
            "74 d1=[0.006] d2=[0.007] g=[0.744] a1=[1] a2=[1]\n",
            "75 d1=[0.004] d2=[0.005] g=[0.787] a1=[1] a2=[1]\n",
            "76 d1=[0.004] d2=[0.007] g=[0.858] a1=[1] a2=[1]\n",
            "77 d1=[0.007] d2=[0.004] g=[0.831] a1=[1] a2=[1]\n",
            "78 d1=[0.009] d2=[0.004] g=[0.792] a1=[1] a2=[1]\n",
            "79 d1=[0.009] d2=[0.005] g=[0.797] a1=[1] a2=[1]\n",
            "80 d1=[0.004] d2=[0.005] g=[0.833] a1=[1] a2=[1]\n",
            "81 d1=[0.013] d2=[0.004] g=[0.747] a1=[1] a2=[1]\n",
            "82 d1=[0.006] d2=[0.006] g=[0.773] a1=[1] a2=[1]\n",
            "83 d1=[0.005] d2=[0.008] g=[0.789] a1=[1] a2=[1]\n",
            "84 d1=[0.005] d2=[0.005] g=[0.807] a1=[1] a2=[1]\n",
            "85 d1=[0.009] d2=[0.007] g=[0.845] a1=[1] a2=[1]\n",
            "86 d1=[0.009] d2=[0.005] g=[0.818] a1=[1] a2=[1]\n",
            "87 d1=[0.003] d2=[0.006] g=[0.849] a1=[1] a2=[1]\n",
            "88 d1=[0.002] d2=[0.007] g=[0.887] a1=[1] a2=[1]\n",
            "89 d1=[0.003] d2=[0.004] g=[0.971] a1=[1] a2=[1]\n",
            "90 d1=[0.006] d2=[0.003] g=[0.965] a1=[1] a2=[1]\n",
            "91 d1=[0.003] d2=[0.005] g=[0.945] a1=[1] a2=[1]\n",
            "92 d1=[0.007] d2=[0.005] g=[0.935] a1=[1] a2=[1]\n",
            "93 d1=[0.003] d2=[0.006] g=[0.976] a1=[1] a2=[1]\n",
            "94 d1=[0.015] d2=[0.006] g=[0.912] a1=[1] a2=[1]\n",
            "95 d1=[0.005] d2=[0.006] g=[0.908] a1=[1] a2=[1]\n",
            "96 d1=[0.006] d2=[0.007] g=[0.962] a1=[1] a2=[1]\n",
            "97 d1=[0.003] d2=[0.006] g=[1.011] a1=[1] a2=[1]\n",
            "98 d1=[0.006] d2=[0.005] g=[1.037] a1=[1] a2=[1]\n",
            "99 d1=[0.010] d2=[0.008] g=[1.011] a1=[1] a2=[1]\n",
            "100 d1=[0.003] d2=[0.005] g=[1.079] a1=[1] a2=[1]\n",
            "101 d1=[0.004] d2=[0.007] g=[1.171] a1=[1] a2=[1]\n",
            "102 d1=[0.004] d2=[0.004] g=[1.122] a1=[1] a2=[1]\n",
            "103 d1=[0.009] d2=[0.004] g=[1.079] a1=[1] a2=[1]\n",
            "104 d1=[0.004] d2=[0.004] g=[1.101] a1=[1] a2=[1]\n",
            "105 d1=[0.007] d2=[0.007] g=[1.019] a1=[1] a2=[1]\n",
            "106 d1=[0.006] d2=[0.004] g=[1.047] a1=[1] a2=[1]\n",
            "107 d1=[0.005] d2=[0.005] g=[1.094] a1=[1] a2=[1]\n",
            "108 d1=[0.006] d2=[0.004] g=[1.120] a1=[1] a2=[1]\n",
            "109 d1=[0.006] d2=[0.006] g=[1.065] a1=[1] a2=[1]\n",
            "110 d1=[0.004] d2=[0.004] g=[1.128] a1=[1] a2=[1]\n",
            "111 d1=[0.007] d2=[0.005] g=[1.175] a1=[1] a2=[1]\n",
            "112 d1=[0.003] d2=[0.004] g=[1.167] a1=[1] a2=[1]\n",
            "113 d1=[0.004] d2=[0.003] g=[1.145] a1=[1] a2=[1]\n",
            "114 d1=[0.009] d2=[0.003] g=[1.078] a1=[1] a2=[1]\n",
            "115 d1=[0.007] d2=[0.005] g=[1.016] a1=[1] a2=[1]\n",
            "116 d1=[0.004] d2=[0.006] g=[1.051] a1=[1] a2=[1]\n",
            "117 d1=[0.003] d2=[0.004] g=[1.096] a1=[1] a2=[1]\n",
            "118 d1=[0.004] d2=[0.004] g=[1.096] a1=[1] a2=[1]\n",
            "119 d1=[0.003] d2=[0.004] g=[1.176] a1=[1] a2=[1]\n",
            "120 d1=[0.006] d2=[0.003] g=[1.114] a1=[1] a2=[1]\n",
            "121 d1=[0.004] d2=[0.004] g=[1.054] a1=[1] a2=[1]\n",
            "122 d1=[0.011] d2=[0.003] g=[1.039] a1=[1] a2=[1]\n",
            "123 d1=[0.005] d2=[0.004] g=[1.025] a1=[1] a2=[1]\n",
            "124 d1=[0.006] d2=[0.005] g=[1.006] a1=[1] a2=[1]\n",
            "125 d1=[0.007] d2=[0.003] g=[0.960] a1=[1] a2=[1]\n",
            "126 d1=[0.005] d2=[0.005] g=[0.961] a1=[1] a2=[1]\n",
            "127 d1=[0.003] d2=[0.006] g=[1.045] a1=[1] a2=[1]\n",
            "128 d1=[0.004] d2=[0.004] g=[1.057] a1=[1] a2=[1]\n",
            "129 d1=[0.004] d2=[0.006] g=[1.178] a1=[1] a2=[1]\n",
            "130 d1=[0.004] d2=[0.003] g=[1.169] a1=[1] a2=[1]\n",
            "131 d1=[0.003] d2=[0.005] g=[1.265] a1=[1] a2=[1]\n",
            "132 d1=[0.005] d2=[0.005] g=[1.263] a1=[1] a2=[1]\n",
            "133 d1=[0.004] d2=[0.007] g=[1.298] a1=[1] a2=[1]\n",
            "134 d1=[0.006] d2=[0.004] g=[1.262] a1=[1] a2=[1]\n",
            "135 d1=[0.004] d2=[0.004] g=[1.346] a1=[1] a2=[1]\n",
            "136 d1=[0.005] d2=[0.004] g=[1.424] a1=[1] a2=[1]\n",
            "137 d1=[0.010] d2=[0.003] g=[1.224] a1=[1] a2=[1]\n",
            "138 d1=[0.006] d2=[0.006] g=[1.266] a1=[1] a2=[1]\n",
            "139 d1=[0.003] d2=[0.008] g=[1.402] a1=[1] a2=[1]\n",
            "140 d1=[0.004] d2=[0.008] g=[1.447] a1=[1] a2=[1]\n",
            "141 d1=[0.008] d2=[0.004] g=[1.550] a1=[1] a2=[1]\n",
            "142 d1=[0.004] d2=[0.004] g=[1.570] a1=[1] a2=[1]\n",
            "143 d1=[0.004] d2=[0.005] g=[1.494] a1=[1] a2=[1]\n",
            "144 d1=[0.004] d2=[0.005] g=[1.487] a1=[1] a2=[1]\n",
            "145 d1=[0.006] d2=[0.004] g=[1.571] a1=[1] a2=[1]\n",
            "146 d1=[0.003] d2=[0.005] g=[1.666] a1=[1] a2=[1]\n",
            "147 d1=[0.003] d2=[0.004] g=[1.635] a1=[1] a2=[1]\n",
            "148 d1=[0.004] d2=[0.003] g=[1.554] a1=[1] a2=[1]\n",
            "149 d1=[0.005] d2=[0.003] g=[1.542] a1=[1] a2=[1]\n",
            "150 d1=[0.007] d2=[0.006] g=[1.505] a1=[1] a2=[1]\n",
            "151 d1=[0.002] d2=[0.004] g=[1.542] a1=[1] a2=[1]\n",
            "152 d1=[0.006] d2=[0.003] g=[1.528] a1=[1] a2=[1]\n",
            "153 d1=[0.005] d2=[0.004] g=[1.400] a1=[1] a2=[1]\n",
            "154 d1=[0.004] d2=[0.004] g=[1.510] a1=[1] a2=[1]\n",
            "155 d1=[0.005] d2=[0.004] g=[1.495] a1=[1] a2=[1]\n",
            "156 d1=[0.006] d2=[0.004] g=[1.507] a1=[1] a2=[1]\n",
            "157 d1=[0.010] d2=[0.006] g=[1.361] a1=[1] a2=[1]\n",
            "158 d1=[0.006] d2=[0.005] g=[1.436] a1=[1] a2=[1]\n",
            "159 d1=[0.003] d2=[0.005] g=[1.376] a1=[1] a2=[1]\n",
            "160 d1=[0.004] d2=[0.004] g=[1.480] a1=[1] a2=[1]\n",
            "161 d1=[0.004] d2=[0.005] g=[1.468] a1=[1] a2=[1]\n",
            "162 d1=[0.003] d2=[0.004] g=[1.527] a1=[1] a2=[1]\n",
            "163 d1=[0.004] d2=[0.004] g=[1.557] a1=[1] a2=[1]\n",
            "164 d1=[0.003] d2=[0.005] g=[1.497] a1=[1] a2=[1]\n",
            "165 d1=[0.006] d2=[0.005] g=[1.449] a1=[1] a2=[1]\n",
            "166 d1=[0.005] d2=[0.006] g=[1.534] a1=[1] a2=[1]\n",
            "167 d1=[0.007] d2=[0.005] g=[1.545] a1=[1] a2=[1]\n",
            "168 d1=[0.004] d2=[0.005] g=[1.523] a1=[1] a2=[1]\n",
            "169 d1=[0.006] d2=[0.005] g=[1.664] a1=[1] a2=[1]\n",
            "170 d1=[0.004] d2=[0.007] g=[1.615] a1=[1] a2=[1]\n",
            "171 d1=[0.005] d2=[0.004] g=[1.515] a1=[1] a2=[1]\n",
            "172 d1=[0.007] d2=[0.003] g=[1.532] a1=[1] a2=[1]\n",
            "173 d1=[0.003] d2=[0.003] g=[1.592] a1=[1] a2=[1]\n",
            "174 d1=[0.004] d2=[0.004] g=[1.469] a1=[1] a2=[1]\n",
            "175 d1=[0.010] d2=[0.007] g=[1.486] a1=[1] a2=[1]\n",
            "176 d1=[0.010] d2=[0.006] g=[1.426] a1=[1] a2=[1]\n",
            "177 d1=[0.003] d2=[0.006] g=[1.493] a1=[1] a2=[1]\n",
            "178 d1=[0.004] d2=[0.008] g=[1.464] a1=[1] a2=[1]\n",
            "179 d1=[0.009] d2=[0.007] g=[1.471] a1=[1] a2=[1]\n",
            "180 d1=[0.005] d2=[0.009] g=[1.613] a1=[1] a2=[1]\n",
            "181 d1=[0.003] d2=[0.004] g=[1.718] a1=[1] a2=[1]\n",
            "182 d1=[0.002] d2=[0.006] g=[1.832] a1=[1] a2=[1]\n",
            "183 d1=[0.006] d2=[0.006] g=[1.703] a1=[1] a2=[1]\n",
            "184 d1=[0.007] d2=[0.006] g=[1.652] a1=[1] a2=[1]\n",
            "185 d1=[0.005] d2=[0.006] g=[1.731] a1=[1] a2=[1]\n",
            "186 d1=[0.010] d2=[0.005] g=[1.525] a1=[1] a2=[1]\n",
            "187 d1=[0.008] d2=[0.008] g=[1.568] a1=[1] a2=[1]\n",
            "188 d1=[0.003] d2=[0.011] g=[1.603] a1=[1] a2=[1]\n",
            "189 d1=[0.006] d2=[0.006] g=[1.666] a1=[1] a2=[1]\n",
            "190 d1=[0.005] d2=[0.007] g=[1.674] a1=[1] a2=[1]\n",
            "191 d1=[0.007] d2=[0.007] g=[1.595] a1=[1] a2=[1]\n",
            "192 d1=[0.004] d2=[0.005] g=[1.622] a1=[1] a2=[1]\n",
            "193 d1=[0.003] d2=[0.007] g=[1.740] a1=[1] a2=[1]\n",
            "194 d1=[0.005] d2=[0.005] g=[1.665] a1=[1] a2=[1]\n",
            "195 d1=[0.014] d2=[0.007] g=[1.603] a1=[1] a2=[1]\n",
            "196 d1=[0.006] d2=[0.008] g=[1.503] a1=[1] a2=[1]\n",
            "197 d1=[0.010] d2=[0.008] g=[1.334] a1=[1] a2=[1]\n",
            "198 d1=[0.006] d2=[0.004] g=[1.358] a1=[1] a2=[1]\n",
            "199 d1=[0.011] d2=[0.007] g=[1.235] a1=[1] a2=[1]\n",
            "200 d1=[0.004] d2=[0.008] g=[1.290] a1=[1] a2=[1]\n",
            "201 d1=[0.003] d2=[0.011] g=[1.430] a1=[1] a2=[1]\n",
            "202 d1=[0.011] d2=[0.006] g=[1.419] a1=[1] a2=[1]\n",
            "203 d1=[0.004] d2=[0.010] g=[1.422] a1=[1] a2=[1]\n",
            "204 d1=[0.007] d2=[0.005] g=[1.369] a1=[1] a2=[1]\n",
            "205 d1=[0.007] d2=[0.006] g=[1.438] a1=[1] a2=[1]\n",
            "206 d1=[0.005] d2=[0.008] g=[1.355] a1=[1] a2=[1]\n",
            "207 d1=[0.007] d2=[0.010] g=[1.427] a1=[1] a2=[1]\n",
            "208 d1=[0.006] d2=[0.005] g=[1.542] a1=[1] a2=[1]\n",
            "209 d1=[0.006] d2=[0.005] g=[1.437] a1=[1] a2=[1]\n",
            "210 d1=[0.004] d2=[0.004] g=[1.321] a1=[1] a2=[1]\n",
            "211 d1=[0.007] d2=[0.005] g=[1.284] a1=[1] a2=[1]\n",
            "212 d1=[0.005] d2=[0.003] g=[1.162] a1=[1] a2=[1]\n",
            "213 d1=[0.004] d2=[0.006] g=[1.178] a1=[1] a2=[1]\n",
            "214 d1=[0.004] d2=[0.005] g=[0.998] a1=[1] a2=[1]\n",
            "215 d1=[0.005] d2=[0.004] g=[1.001] a1=[1] a2=[1]\n",
            "216 d1=[0.003] d2=[0.003] g=[0.949] a1=[1] a2=[1]\n",
            "217 d1=[0.005] d2=[0.003] g=[0.876] a1=[1] a2=[1]\n",
            "218 d1=[0.003] d2=[0.003] g=[0.826] a1=[1] a2=[1]\n",
            "219 d1=[0.004] d2=[0.003] g=[0.844] a1=[1] a2=[1]\n",
            "220 d1=[0.003] d2=[0.002] g=[0.734] a1=[1] a2=[1]\n",
            "221 d1=[0.006] d2=[0.003] g=[0.646] a1=[1] a2=[1]\n",
            "222 d1=[0.007] d2=[0.002] g=[0.571] a1=[1] a2=[1]\n",
            "223 d1=[0.006] d2=[0.002] g=[0.485] a1=[1] a2=[1]\n",
            "224 d1=[0.004] d2=[0.003] g=[0.498] a1=[1] a2=[1]\n",
            "225 d1=[0.002] d2=[0.002] g=[0.454] a1=[1] a2=[1]\n",
            "226 d1=[0.003] d2=[0.003] g=[0.493] a1=[1] a2=[1]\n",
            "227 d1=[0.003] d2=[0.003] g=[0.495] a1=[1] a2=[1]\n",
            "228 d1=[0.003] d2=[0.003] g=[0.504] a1=[1] a2=[1]\n",
            "229 d1=[0.003] d2=[0.002] g=[0.459] a1=[1] a2=[1]\n",
            "230 d1=[0.003] d2=[0.003] g=[0.442] a1=[1] a2=[1]\n",
            "231 d1=[0.005] d2=[0.002] g=[0.465] a1=[1] a2=[1]\n",
            "232 d1=[0.003] d2=[0.002] g=[0.441] a1=[1] a2=[1]\n",
            "233 d1=[0.002] d2=[0.002] g=[0.373] a1=[1] a2=[1]\n",
            "234 d1=[0.003] d2=[0.002] g=[0.396] a1=[1] a2=[1]\n",
            "235 d1=[0.003] d2=[0.002] g=[0.352] a1=[1] a2=[1]\n",
            "236 d1=[0.006] d2=[0.002] g=[0.361] a1=[1] a2=[1]\n",
            "237 d1=[0.002] d2=[0.002] g=[0.368] a1=[1] a2=[1]\n",
            "238 d1=[0.002] d2=[0.002] g=[0.375] a1=[1] a2=[1]\n",
            "239 d1=[0.001] d2=[0.002] g=[0.358] a1=[1] a2=[1]\n",
            "240 d1=[0.001] d2=[0.002] g=[0.349] a1=[1] a2=[1]\n",
            "241 d1=[0.002] d2=[0.002] g=[0.307] a1=[1] a2=[1]\n",
            "242 d1=[0.002] d2=[0.001] g=[0.317] a1=[1] a2=[1]\n",
            "243 d1=[0.003] d2=[0.002] g=[0.322] a1=[1] a2=[1]\n",
            "244 d1=[0.001] d2=[0.001] g=[0.302] a1=[1] a2=[1]\n",
            "245 d1=[0.003] d2=[0.001] g=[0.265] a1=[1] a2=[1]\n",
            "246 d1=[0.004] d2=[0.002] g=[0.312] a1=[1] a2=[1]\n",
            "247 d1=[0.002] d2=[0.002] g=[0.299] a1=[1] a2=[1]\n",
            "248 d1=[0.002] d2=[0.001] g=[0.303] a1=[1] a2=[1]\n",
            "249 d1=[0.001] d2=[0.001] g=[0.263] a1=[1] a2=[1]\n",
            "250 d1=[0.002] d2=[0.001] g=[0.256] a1=[1] a2=[1]\n",
            "251 d1=[0.003] d2=[0.001] g=[0.300] a1=[1] a2=[1]\n",
            "252 d1=[0.001] d2=[0.002] g=[0.259] a1=[1] a2=[1]\n",
            "253 d1=[0.001] d2=[0.001] g=[0.290] a1=[1] a2=[1]\n",
            "254 d1=[0.001] d2=[0.001] g=[0.268] a1=[1] a2=[1]\n",
            "255 d1=[0.004] d2=[0.002] g=[0.253] a1=[1] a2=[1]\n",
            "256 d1=[0.001] d2=[0.002] g=[0.274] a1=[1] a2=[1]\n",
            "257 d1=[0.003] d2=[0.001] g=[0.267] a1=[1] a2=[1]\n",
            "258 d1=[0.003] d2=[0.002] g=[0.266] a1=[1] a2=[1]\n",
            "259 d1=[0.001] d2=[0.002] g=[0.263] a1=[1] a2=[1]\n",
            "260 d1=[0.001] d2=[0.001] g=[0.239] a1=[1] a2=[1]\n",
            "261 d1=[0.001] d2=[0.001] g=[0.258] a1=[1] a2=[1]\n",
            "262 d1=[0.001] d2=[0.001] g=[0.259] a1=[1] a2=[1]\n",
            "263 d1=[0.003] d2=[0.001] g=[0.255] a1=[1] a2=[1]\n",
            "264 d1=[0.002] d2=[0.002] g=[0.253] a1=[1] a2=[1]\n",
            "265 d1=[0.001] d2=[0.001] g=[0.238] a1=[1] a2=[1]\n",
            "266 d1=[0.001] d2=[0.002] g=[0.268] a1=[1] a2=[1]\n",
            "267 d1=[0.001] d2=[0.001] g=[0.269] a1=[1] a2=[1]\n",
            "268 d1=[0.001] d2=[0.001] g=[0.243] a1=[1] a2=[1]\n",
            "269 d1=[0.003] d2=[0.002] g=[0.257] a1=[1] a2=[1]\n",
            "270 d1=[0.003] d2=[0.001] g=[0.251] a1=[1] a2=[1]\n",
            "271 d1=[0.002] d2=[0.001] g=[0.255] a1=[1] a2=[1]\n",
            "272 d1=[0.001] d2=[0.002] g=[0.236] a1=[1] a2=[1]\n",
            "273 d1=[0.002] d2=[0.001] g=[0.253] a1=[1] a2=[1]\n",
            "274 d1=[0.001] d2=[0.001] g=[0.244] a1=[1] a2=[1]\n",
            "275 d1=[0.002] d2=[0.002] g=[0.255] a1=[1] a2=[1]\n",
            "276 d1=[0.001] d2=[0.001] g=[0.261] a1=[1] a2=[1]\n",
            "277 d1=[0.001] d2=[0.001] g=[0.272] a1=[1] a2=[1]\n",
            "278 d1=[0.001] d2=[0.002] g=[0.272] a1=[1] a2=[1]\n",
            "279 d1=[0.001] d2=[0.001] g=[0.251] a1=[1] a2=[1]\n",
            "280 d1=[0.001] d2=[0.001] g=[0.266] a1=[1] a2=[1]\n",
            "281 d1=[0.001] d2=[0.001] g=[0.258] a1=[1] a2=[1]\n",
            "282 d1=[0.001] d2=[0.001] g=[0.272] a1=[1] a2=[1]\n",
            "283 d1=[0.002] d2=[0.001] g=[0.269] a1=[1] a2=[1]\n",
            "284 d1=[0.002] d2=[0.001] g=[0.274] a1=[1] a2=[1]\n",
            "285 d1=[0.001] d2=[0.001] g=[0.279] a1=[1] a2=[1]\n",
            "286 d1=[0.001] d2=[0.001] g=[0.294] a1=[1] a2=[1]\n",
            "287 d1=[0.001] d2=[0.001] g=[0.254] a1=[1] a2=[1]\n",
            "288 d1=[0.001] d2=[0.002] g=[0.276] a1=[1] a2=[1]\n",
            "289 d1=[0.001] d2=[0.001] g=[0.266] a1=[1] a2=[1]\n",
            "290 d1=[0.000] d2=[0.001] g=[0.279] a1=[1] a2=[1]\n",
            "291 d1=[0.001] d2=[0.001] g=[0.276] a1=[1] a2=[1]\n",
            "292 d1=[0.001] d2=[0.001] g=[0.291] a1=[1] a2=[1]\n",
            "293 d1=[0.001] d2=[0.001] g=[0.307] a1=[1] a2=[1]\n",
            "294 d1=[0.002] d2=[0.001] g=[0.280] a1=[1] a2=[1]\n",
            "295 d1=[0.001] d2=[0.001] g=[0.267] a1=[1] a2=[1]\n",
            "296 d1=[0.001] d2=[0.001] g=[0.287] a1=[1] a2=[1]\n",
            "297 d1=[0.002] d2=[0.001] g=[0.291] a1=[1] a2=[1]\n",
            "298 d1=[0.002] d2=[0.001] g=[0.274] a1=[1] a2=[1]\n",
            "299 d1=[0.002] d2=[0.001] g=[0.276] a1=[1] a2=[1]\n",
            "300 d1=[0.001] d2=[0.001] g=[0.274] a1=[1] a2=[1]\n",
            "301 d1=[0.002] d2=[0.001] g=[0.269] a1=[1] a2=[1]\n",
            "302 d1=[0.001] d2=[0.001] g=[0.282] a1=[1] a2=[1]\n",
            "303 d1=[0.001] d2=[0.001] g=[0.298] a1=[1] a2=[1]\n",
            "304 d1=[0.001] d2=[0.001] g=[0.289] a1=[1] a2=[1]\n",
            "305 d1=[0.001] d2=[0.001] g=[0.285] a1=[1] a2=[1]\n",
            "306 d1=[0.001] d2=[0.001] g=[0.286] a1=[1] a2=[1]\n",
            "307 d1=[0.001] d2=[0.001] g=[0.302] a1=[1] a2=[1]\n",
            "308 d1=[0.001] d2=[0.001] g=[0.296] a1=[1] a2=[1]\n",
            "309 d1=[0.002] d2=[0.001] g=[0.307] a1=[1] a2=[1]\n",
            "310 d1=[0.001] d2=[0.001] g=[0.297] a1=[1] a2=[1]\n",
            "311 d1=[0.002] d2=[0.001] g=[0.306] a1=[1] a2=[1]\n",
            "312 d1=[0.002] d2=[0.001] g=[0.310] a1=[1] a2=[1]\n",
            "313 d1=[0.001] d2=[0.001] g=[0.295] a1=[1] a2=[1]\n",
            "314 d1=[0.001] d2=[0.001] g=[0.290] a1=[1] a2=[1]\n",
            "315 d1=[0.001] d2=[0.001] g=[0.306] a1=[1] a2=[1]\n",
            "316 d1=[0.001] d2=[0.001] g=[0.302] a1=[1] a2=[1]\n",
            "317 d1=[0.001] d2=[0.001] g=[0.336] a1=[1] a2=[1]\n",
            "318 d1=[0.001] d2=[0.001] g=[0.309] a1=[1] a2=[1]\n",
            "319 d1=[0.001] d2=[0.001] g=[0.310] a1=[1] a2=[1]\n",
            "320 d1=[0.001] d2=[0.001] g=[0.301] a1=[1] a2=[1]\n",
            "321 d1=[0.001] d2=[0.001] g=[0.320] a1=[1] a2=[1]\n",
            "322 d1=[0.001] d2=[0.001] g=[0.331] a1=[1] a2=[1]\n",
            "323 d1=[0.000] d2=[0.001] g=[0.331] a1=[1] a2=[1]\n",
            "324 d1=[0.002] d2=[0.001] g=[0.314] a1=[1] a2=[1]\n",
            "325 d1=[0.002] d2=[0.001] g=[0.334] a1=[1] a2=[1]\n",
            "326 d1=[0.001] d2=[0.001] g=[0.307] a1=[1] a2=[1]\n",
            "327 d1=[0.002] d2=[0.001] g=[0.334] a1=[1] a2=[1]\n",
            "328 d1=[0.002] d2=[0.001] g=[0.309] a1=[1] a2=[1]\n",
            "329 d1=[0.001] d2=[0.001] g=[0.341] a1=[1] a2=[1]\n",
            "330 d1=[0.002] d2=[0.001] g=[0.320] a1=[1] a2=[1]\n",
            "331 d1=[0.001] d2=[0.001] g=[0.301] a1=[1] a2=[1]\n",
            "332 d1=[0.001] d2=[0.001] g=[0.337] a1=[1] a2=[1]\n",
            "333 d1=[0.001] d2=[0.001] g=[0.334] a1=[1] a2=[1]\n",
            "334 d1=[0.001] d2=[0.001] g=[0.342] a1=[1] a2=[1]\n",
            "335 d1=[0.001] d2=[0.001] g=[0.339] a1=[1] a2=[1]\n",
            "336 d1=[0.001] d2=[0.001] g=[0.345] a1=[1] a2=[1]\n",
            "337 d1=[0.001] d2=[0.001] g=[0.342] a1=[1] a2=[1]\n",
            "338 d1=[0.001] d2=[0.002] g=[0.351] a1=[1] a2=[1]\n",
            "339 d1=[0.001] d2=[0.001] g=[0.350] a1=[1] a2=[1]\n",
            "340 d1=[0.001] d2=[0.001] g=[0.368] a1=[1] a2=[1]\n",
            "341 d1=[0.001] d2=[0.001] g=[0.363] a1=[1] a2=[1]\n",
            "342 d1=[0.001] d2=[0.001] g=[0.339] a1=[1] a2=[1]\n",
            "343 d1=[0.001] d2=[0.001] g=[0.374] a1=[1] a2=[1]\n",
            "344 d1=[0.001] d2=[0.002] g=[0.355] a1=[1] a2=[1]\n",
            "345 d1=[0.001] d2=[0.001] g=[0.362] a1=[1] a2=[1]\n",
            "346 d1=[0.001] d2=[0.001] g=[0.355] a1=[1] a2=[1]\n",
            "347 d1=[0.001] d2=[0.001] g=[0.351] a1=[1] a2=[1]\n",
            "348 d1=[0.001] d2=[0.001] g=[0.361] a1=[1] a2=[1]\n",
            "349 d1=[0.001] d2=[0.001] g=[0.356] a1=[1] a2=[1]\n",
            "350 d1=[0.001] d2=[0.001] g=[0.386] a1=[1] a2=[1]\n",
            "351 d1=[0.001] d2=[0.001] g=[0.363] a1=[1] a2=[1]\n",
            "352 d1=[0.001] d2=[0.001] g=[0.347] a1=[1] a2=[1]\n",
            "353 d1=[0.001] d2=[0.001] g=[0.382] a1=[1] a2=[1]\n",
            "354 d1=[0.001] d2=[0.001] g=[0.365] a1=[1] a2=[1]\n",
            "355 d1=[0.001] d2=[0.001] g=[0.366] a1=[1] a2=[1]\n",
            "356 d1=[0.000] d2=[0.001] g=[0.378] a1=[1] a2=[1]\n",
            "357 d1=[0.001] d2=[0.001] g=[0.376] a1=[1] a2=[1]\n",
            "358 d1=[0.001] d2=[0.001] g=[0.363] a1=[1] a2=[1]\n",
            "359 d1=[0.001] d2=[0.001] g=[0.384] a1=[1] a2=[1]\n",
            "360 d1=[0.000] d2=[0.001] g=[0.370] a1=[1] a2=[1]\n",
            "361 d1=[0.001] d2=[0.001] g=[0.391] a1=[1] a2=[1]\n",
            "362 d1=[0.001] d2=[0.001] g=[0.363] a1=[1] a2=[1]\n",
            "363 d1=[0.001] d2=[0.001] g=[0.387] a1=[1] a2=[1]\n",
            "364 d1=[0.001] d2=[0.001] g=[0.389] a1=[1] a2=[1]\n",
            "365 d1=[0.002] d2=[0.001] g=[0.402] a1=[1] a2=[1]\n",
            "366 d1=[0.001] d2=[0.001] g=[0.382] a1=[1] a2=[1]\n",
            "367 d1=[0.001] d2=[0.001] g=[0.363] a1=[1] a2=[1]\n",
            "368 d1=[0.001] d2=[0.001] g=[0.416] a1=[1] a2=[1]\n",
            "369 d1=[0.001] d2=[0.001] g=[0.373] a1=[1] a2=[1]\n",
            "370 d1=[0.000] d2=[0.001] g=[0.384] a1=[1] a2=[1]\n",
            "371 d1=[0.001] d2=[0.001] g=[0.386] a1=[1] a2=[1]\n",
            "372 d1=[0.001] d2=[0.001] g=[0.406] a1=[1] a2=[1]\n",
            "373 d1=[0.001] d2=[0.001] g=[0.397] a1=[1] a2=[1]\n",
            "374 d1=[0.001] d2=[0.001] g=[0.399] a1=[1] a2=[1]\n",
            "375 d1=[0.001] d2=[0.001] g=[0.411] a1=[1] a2=[1]\n",
            "376 d1=[0.001] d2=[0.001] g=[0.372] a1=[1] a2=[1]\n",
            "377 d1=[0.001] d2=[0.001] g=[0.403] a1=[1] a2=[1]\n",
            "378 d1=[0.001] d2=[0.001] g=[0.393] a1=[1] a2=[1]\n",
            "379 d1=[0.001] d2=[0.001] g=[0.424] a1=[1] a2=[1]\n",
            "380 d1=[0.001] d2=[0.001] g=[0.404] a1=[1] a2=[1]\n",
            "381 d1=[0.001] d2=[0.001] g=[0.408] a1=[1] a2=[1]\n",
            "382 d1=[0.001] d2=[0.001] g=[0.387] a1=[1] a2=[1]\n",
            "383 d1=[0.001] d2=[0.001] g=[0.377] a1=[1] a2=[1]\n",
            "384 d1=[0.002] d2=[0.001] g=[0.403] a1=[1] a2=[1]\n",
            "385 d1=[0.002] d2=[0.001] g=[0.383] a1=[1] a2=[1]\n",
            "386 d1=[0.001] d2=[0.001] g=[0.391] a1=[1] a2=[1]\n",
            "387 d1=[0.000] d2=[0.001] g=[0.393] a1=[1] a2=[1]\n",
            "388 d1=[0.003] d2=[0.001] g=[0.387] a1=[1] a2=[1]\n",
            "389 d1=[0.001] d2=[0.001] g=[0.414] a1=[1] a2=[1]\n",
            "390 d1=[0.001] d2=[0.001] g=[0.418] a1=[1] a2=[1]\n",
            "391 d1=[0.001] d2=[0.001] g=[0.407] a1=[1] a2=[1]\n",
            "392 d1=[0.000] d2=[0.001] g=[0.390] a1=[1] a2=[1]\n",
            "393 d1=[0.000] d2=[0.001] g=[0.401] a1=[1] a2=[1]\n",
            "394 d1=[0.001] d2=[0.001] g=[0.395] a1=[1] a2=[1]\n",
            "395 d1=[0.001] d2=[0.001] g=[0.397] a1=[1] a2=[1]\n",
            "396 d1=[0.001] d2=[0.001] g=[0.396] a1=[1] a2=[1]\n",
            "397 d1=[0.002] d2=[0.001] g=[0.399] a1=[1] a2=[1]\n",
            "398 d1=[0.001] d2=[0.001] g=[0.390] a1=[1] a2=[1]\n",
            "399 d1=[0.001] d2=[0.001] g=[0.407] a1=[1] a2=[1]\n",
            "400 d1=[0.001] d2=[0.001] g=[0.367] a1=[1] a2=[1]\n",
            "401 d1=[0.001] d2=[0.001] g=[0.399] a1=[1] a2=[1]\n",
            "402 d1=[0.000] d2=[0.001] g=[0.408] a1=[1] a2=[1]\n",
            "403 d1=[0.000] d2=[0.001] g=[0.418] a1=[1] a2=[1]\n",
            "404 d1=[0.001] d2=[0.001] g=[0.430] a1=[1] a2=[1]\n",
            "405 d1=[0.001] d2=[0.001] g=[0.439] a1=[1] a2=[1]\n",
            "406 d1=[0.002] d2=[0.001] g=[0.409] a1=[1] a2=[1]\n",
            "407 d1=[0.001] d2=[0.001] g=[0.447] a1=[1] a2=[1]\n",
            "408 d1=[0.001] d2=[0.001] g=[0.415] a1=[1] a2=[1]\n",
            "409 d1=[0.000] d2=[0.001] g=[0.434] a1=[1] a2=[1]\n",
            "410 d1=[0.001] d2=[0.001] g=[0.426] a1=[1] a2=[1]\n",
            "411 d1=[0.002] d2=[0.001] g=[0.426] a1=[1] a2=[1]\n",
            "412 d1=[0.001] d2=[0.001] g=[0.401] a1=[1] a2=[1]\n",
            "413 d1=[0.001] d2=[0.001] g=[0.394] a1=[1] a2=[1]\n",
            "414 d1=[0.001] d2=[0.001] g=[0.404] a1=[1] a2=[1]\n",
            "415 d1=[0.001] d2=[0.001] g=[0.417] a1=[1] a2=[1]\n",
            "416 d1=[0.001] d2=[0.001] g=[0.414] a1=[1] a2=[1]\n",
            "417 d1=[0.001] d2=[0.001] g=[0.392] a1=[1] a2=[1]\n",
            "418 d1=[0.000] d2=[0.001] g=[0.385] a1=[1] a2=[1]\n",
            "419 d1=[0.001] d2=[0.001] g=[0.433] a1=[1] a2=[1]\n",
            "420 d1=[0.001] d2=[0.001] g=[0.436] a1=[1] a2=[1]\n",
            "421 d1=[0.001] d2=[0.001] g=[0.462] a1=[1] a2=[1]\n",
            "422 d1=[0.001] d2=[0.001] g=[0.424] a1=[1] a2=[1]\n",
            "423 d1=[0.000] d2=[0.001] g=[0.417] a1=[1] a2=[1]\n",
            "424 d1=[0.001] d2=[0.001] g=[0.415] a1=[1] a2=[1]\n",
            "425 d1=[0.001] d2=[0.001] g=[0.401] a1=[1] a2=[1]\n",
            "426 d1=[0.001] d2=[0.001] g=[0.428] a1=[1] a2=[1]\n",
            "427 d1=[0.000] d2=[0.001] g=[0.432] a1=[1] a2=[1]\n",
            "428 d1=[0.000] d2=[0.001] g=[0.426] a1=[1] a2=[1]\n",
            "429 d1=[0.001] d2=[0.001] g=[0.422] a1=[1] a2=[1]\n",
            "430 d1=[0.001] d2=[0.001] g=[0.423] a1=[1] a2=[1]\n",
            "431 d1=[0.001] d2=[0.001] g=[0.426] a1=[1] a2=[1]\n",
            "432 d1=[0.001] d2=[0.001] g=[0.427] a1=[1] a2=[1]\n",
            "433 d1=[0.001] d2=[0.001] g=[0.418] a1=[1] a2=[1]\n",
            "434 d1=[0.001] d2=[0.001] g=[0.442] a1=[1] a2=[1]\n",
            "435 d1=[0.001] d2=[0.001] g=[0.435] a1=[1] a2=[1]\n",
            "436 d1=[0.001] d2=[0.001] g=[0.418] a1=[1] a2=[1]\n",
            "437 d1=[0.001] d2=[0.001] g=[0.455] a1=[1] a2=[1]\n",
            "438 d1=[0.001] d2=[0.001] g=[0.443] a1=[1] a2=[1]\n",
            "439 d1=[0.001] d2=[0.001] g=[0.436] a1=[1] a2=[1]\n",
            "440 d1=[0.002] d2=[0.001] g=[0.446] a1=[1] a2=[1]\n",
            "441 d1=[0.001] d2=[0.001] g=[0.449] a1=[1] a2=[1]\n",
            "442 d1=[0.001] d2=[0.001] g=[0.444] a1=[1] a2=[1]\n",
            "443 d1=[0.001] d2=[0.001] g=[0.437] a1=[1] a2=[1]\n",
            "444 d1=[0.000] d2=[0.001] g=[0.439] a1=[1] a2=[1]\n",
            "445 d1=[0.001] d2=[0.001] g=[0.448] a1=[1] a2=[1]\n",
            "446 d1=[0.000] d2=[0.001] g=[0.451] a1=[1] a2=[1]\n",
            "447 d1=[0.000] d2=[0.001] g=[0.461] a1=[1] a2=[1]\n",
            "448 d1=[0.000] d2=[0.001] g=[0.456] a1=[1] a2=[1]\n",
            "449 d1=[0.001] d2=[0.001] g=[0.475] a1=[1] a2=[1]\n",
            "450 d1=[0.000] d2=[0.001] g=[0.449] a1=[1] a2=[1]\n",
            "451 d1=[0.000] d2=[0.001] g=[0.472] a1=[1] a2=[1]\n",
            "452 d1=[0.001] d2=[0.001] g=[0.458] a1=[1] a2=[1]\n",
            "453 d1=[0.001] d2=[0.001] g=[0.445] a1=[1] a2=[1]\n",
            "454 d1=[0.001] d2=[0.001] g=[0.449] a1=[1] a2=[1]\n",
            "455 d1=[0.000] d2=[0.001] g=[0.461] a1=[1] a2=[1]\n",
            "456 d1=[0.001] d2=[0.001] g=[0.457] a1=[1] a2=[1]\n",
            "457 d1=[0.001] d2=[0.001] g=[0.456] a1=[1] a2=[1]\n",
            "458 d1=[0.000] d2=[0.001] g=[0.432] a1=[1] a2=[1]\n",
            "459 d1=[0.001] d2=[0.001] g=[0.468] a1=[1] a2=[1]\n",
            "460 d1=[0.000] d2=[0.001] g=[0.445] a1=[1] a2=[1]\n",
            "461 d1=[0.000] d2=[0.001] g=[0.467] a1=[1] a2=[1]\n",
            "462 d1=[0.001] d2=[0.001] g=[0.478] a1=[1] a2=[1]\n",
            "463 d1=[0.001] d2=[0.001] g=[0.469] a1=[1] a2=[1]\n",
            "464 d1=[0.001] d2=[0.001] g=[0.481] a1=[1] a2=[1]\n",
            "465 d1=[0.001] d2=[0.001] g=[0.480] a1=[1] a2=[1]\n",
            "466 d1=[0.001] d2=[0.001] g=[0.460] a1=[1] a2=[1]\n",
            "467 d1=[0.000] d2=[0.001] g=[0.451] a1=[1] a2=[1]\n",
            "468 d1=[0.000] d2=[0.001] g=[0.486] a1=[1] a2=[1]\n",
            "469 d1=[0.001] d2=[0.001] g=[0.478] a1=[1] a2=[1]\n",
            "470 d1=[0.001] d2=[0.001] g=[0.475] a1=[1] a2=[1]\n",
            "471 d1=[0.001] d2=[0.001] g=[0.480] a1=[1] a2=[1]\n",
            "472 d1=[0.000] d2=[0.001] g=[0.481] a1=[1] a2=[1]\n",
            "473 d1=[0.001] d2=[0.001] g=[0.473] a1=[1] a2=[1]\n",
            "474 d1=[0.000] d2=[0.001] g=[0.479] a1=[1] a2=[1]\n",
            "475 d1=[0.000] d2=[0.001] g=[0.463] a1=[1] a2=[1]\n",
            "476 d1=[0.001] d2=[0.001] g=[0.471] a1=[1] a2=[1]\n",
            "477 d1=[0.000] d2=[0.001] g=[0.496] a1=[1] a2=[1]\n",
            "478 d1=[0.001] d2=[0.001] g=[0.508] a1=[1] a2=[1]\n",
            "479 d1=[0.001] d2=[0.001] g=[0.503] a1=[1] a2=[1]\n",
            "480 d1=[0.000] d2=[0.001] g=[0.475] a1=[1] a2=[1]\n",
            "481 d1=[0.001] d2=[0.001] g=[0.466] a1=[1] a2=[1]\n",
            "482 d1=[0.001] d2=[0.001] g=[0.503] a1=[1] a2=[1]\n",
            "483 d1=[0.000] d2=[0.001] g=[0.480] a1=[1] a2=[1]\n",
            "484 d1=[0.000] d2=[0.001] g=[0.495] a1=[1] a2=[1]\n",
            "485 d1=[0.001] d2=[0.001] g=[0.473] a1=[1] a2=[1]\n",
            "486 d1=[0.001] d2=[0.001] g=[0.462] a1=[1] a2=[1]\n",
            "487 d1=[0.000] d2=[0.001] g=[0.480] a1=[1] a2=[1]\n",
            "488 d1=[0.000] d2=[0.001] g=[0.515] a1=[1] a2=[1]\n",
            "489 d1=[0.000] d2=[0.001] g=[0.482] a1=[1] a2=[1]\n",
            "490 d1=[0.001] d2=[0.001] g=[0.502] a1=[1] a2=[1]\n",
            "491 d1=[0.001] d2=[0.001] g=[0.502] a1=[1] a2=[1]\n",
            "492 d1=[0.000] d2=[0.001] g=[0.482] a1=[1] a2=[1]\n",
            "493 d1=[0.000] d2=[0.001] g=[0.502] a1=[1] a2=[1]\n",
            "494 d1=[0.000] d2=[0.001] g=[0.472] a1=[1] a2=[1]\n",
            "495 d1=[0.000] d2=[0.001] g=[0.480] a1=[1] a2=[1]\n",
            "496 d1=[0.000] d2=[0.001] g=[0.506] a1=[1] a2=[1]\n",
            "497 d1=[0.000] d2=[0.001] g=[0.508] a1=[1] a2=[1]\n",
            "498 d1=[0.000] d2=[0.001] g=[0.529] a1=[1] a2=[1]\n",
            "499 d1=[0.001] d2=[0.001] g=[0.503] a1=[1] a2=[1]\n",
            "500 d1=[0.000] d2=[0.001] g=[0.514] a1=[1] a2=[1]\n",
            "501 d1=[0.001] d2=[0.001] g=[0.505] a1=[1] a2=[1]\n",
            "502 d1=[0.001] d2=[0.001] g=[0.510] a1=[1] a2=[1]\n",
            "503 d1=[0.000] d2=[0.001] g=[0.492] a1=[1] a2=[1]\n",
            "504 d1=[0.000] d2=[0.001] g=[0.527] a1=[1] a2=[1]\n",
            "505 d1=[0.000] d2=[0.001] g=[0.549] a1=[1] a2=[1]\n",
            "506 d1=[0.001] d2=[0.001] g=[0.489] a1=[1] a2=[1]\n",
            "507 d1=[0.001] d2=[0.001] g=[0.518] a1=[1] a2=[1]\n",
            "508 d1=[0.001] d2=[0.001] g=[0.529] a1=[1] a2=[1]\n",
            "509 d1=[0.000] d2=[0.001] g=[0.533] a1=[1] a2=[1]\n",
            "510 d1=[0.000] d2=[0.001] g=[0.526] a1=[1] a2=[1]\n",
            "511 d1=[0.001] d2=[0.001] g=[0.501] a1=[1] a2=[1]\n",
            "512 d1=[0.001] d2=[0.001] g=[0.509] a1=[1] a2=[1]\n",
            "513 d1=[0.000] d2=[0.001] g=[0.520] a1=[1] a2=[1]\n",
            "514 d1=[0.000] d2=[0.001] g=[0.526] a1=[1] a2=[1]\n",
            "515 d1=[0.001] d2=[0.001] g=[0.535] a1=[1] a2=[1]\n",
            "516 d1=[0.000] d2=[0.001] g=[0.512] a1=[1] a2=[1]\n",
            "517 d1=[0.000] d2=[0.001] g=[0.520] a1=[1] a2=[1]\n",
            "518 d1=[0.001] d2=[0.001] g=[0.504] a1=[1] a2=[1]\n",
            "519 d1=[0.000] d2=[0.001] g=[0.536] a1=[1] a2=[1]\n",
            "520 d1=[0.000] d2=[0.001] g=[0.515] a1=[1] a2=[1]\n",
            "521 d1=[0.001] d2=[0.001] g=[0.519] a1=[1] a2=[1]\n",
            "522 d1=[0.000] d2=[0.001] g=[0.543] a1=[1] a2=[1]\n",
            "523 d1=[0.001] d2=[0.001] g=[0.536] a1=[1] a2=[1]\n",
            "524 d1=[0.000] d2=[0.001] g=[0.527] a1=[1] a2=[1]\n",
            "525 d1=[0.000] d2=[0.001] g=[0.526] a1=[1] a2=[1]\n",
            "526 d1=[0.000] d2=[0.001] g=[0.514] a1=[1] a2=[1]\n",
            "527 d1=[0.001] d2=[0.001] g=[0.537] a1=[1] a2=[1]\n",
            "528 d1=[0.000] d2=[0.000] g=[0.521] a1=[1] a2=[1]\n",
            "529 d1=[0.001] d2=[0.001] g=[0.504] a1=[1] a2=[1]\n",
            "530 d1=[0.001] d2=[0.001] g=[0.559] a1=[1] a2=[1]\n",
            "531 d1=[0.000] d2=[0.001] g=[0.528] a1=[1] a2=[1]\n",
            "532 d1=[0.001] d2=[0.001] g=[0.507] a1=[1] a2=[1]\n",
            "533 d1=[0.000] d2=[0.001] g=[0.509] a1=[1] a2=[1]\n",
            "534 d1=[0.000] d2=[0.001] g=[0.545] a1=[1] a2=[1]\n",
            "535 d1=[0.000] d2=[0.001] g=[0.525] a1=[1] a2=[1]\n",
            "536 d1=[0.000] d2=[0.000] g=[0.531] a1=[1] a2=[1]\n",
            "537 d1=[0.000] d2=[0.001] g=[0.511] a1=[1] a2=[1]\n",
            "538 d1=[0.001] d2=[0.001] g=[0.527] a1=[1] a2=[1]\n",
            "539 d1=[0.000] d2=[0.001] g=[0.556] a1=[1] a2=[1]\n",
            "540 d1=[0.000] d2=[0.001] g=[0.502] a1=[1] a2=[1]\n",
            "541 d1=[0.000] d2=[0.001] g=[0.524] a1=[1] a2=[1]\n",
            "542 d1=[0.000] d2=[0.001] g=[0.526] a1=[1] a2=[1]\n",
            "543 d1=[0.000] d2=[0.001] g=[0.527] a1=[1] a2=[1]\n",
            "544 d1=[0.000] d2=[0.001] g=[0.551] a1=[1] a2=[1]\n",
            "545 d1=[0.000] d2=[0.001] g=[0.506] a1=[1] a2=[1]\n",
            "546 d1=[0.000] d2=[0.001] g=[0.537] a1=[1] a2=[1]\n",
            "547 d1=[0.000] d2=[0.001] g=[0.483] a1=[1] a2=[1]\n",
            "548 d1=[0.001] d2=[0.001] g=[0.552] a1=[1] a2=[1]\n",
            "549 d1=[0.001] d2=[0.001] g=[0.517] a1=[1] a2=[1]\n",
            "550 d1=[0.001] d2=[0.001] g=[0.522] a1=[1] a2=[1]\n",
            "551 d1=[0.000] d2=[0.001] g=[0.549] a1=[1] a2=[1]\n",
            "552 d1=[0.000] d2=[0.001] g=[0.527] a1=[1] a2=[1]\n",
            "553 d1=[0.000] d2=[0.001] g=[0.547] a1=[1] a2=[1]\n",
            "554 d1=[0.002] d2=[0.000] g=[0.512] a1=[1] a2=[1]\n",
            "555 d1=[0.001] d2=[0.001] g=[0.503] a1=[1] a2=[1]\n",
            "556 d1=[0.000] d2=[0.001] g=[0.537] a1=[1] a2=[1]\n"
          ],
          "name": "stdout"
        },
        {
          "output_type": "error",
          "ename": "KeyboardInterrupt",
          "evalue": "ignored",
          "traceback": [
            "\u001b[0;31m---------------------------------------------------------------------------\u001b[0m",
            "\u001b[0;31mKeyboardInterrupt\u001b[0m                         Traceback (most recent call last)",
            "\u001b[0;32m<ipython-input-19-2da0ffaf5447>\u001b[0m in \u001b[0;36m<module>\u001b[0;34m()\u001b[0m\n\u001b[0;32m----> 1\u001b[0;31m \u001b[0mtrain\u001b[0m\u001b[0;34m(\u001b[0m\u001b[0;34m)\u001b[0m\u001b[0;34m\u001b[0m\u001b[0;34m\u001b[0m\u001b[0m\n\u001b[0m",
            "\u001b[0;32m<ipython-input-16-0ba48da055ac>\u001b[0m in \u001b[0;36mtrain\u001b[0;34m(n_epochs, n_batch)\u001b[0m\n\u001b[1;32m      8\u001b[0m     \u001b[0md_loss1\u001b[0m\u001b[0;34m,\u001b[0m \u001b[0md_acc1\u001b[0m\u001b[0;34m=\u001b[0m\u001b[0mdisc\u001b[0m\u001b[0;34m.\u001b[0m\u001b[0mtrain_on_batch\u001b[0m\u001b[0;34m(\u001b[0m\u001b[0mx_r\u001b[0m\u001b[0;34m,\u001b[0m \u001b[0my_r\u001b[0m\u001b[0;34m)\u001b[0m\u001b[0;34m\u001b[0m\u001b[0;34m\u001b[0m\u001b[0m\n\u001b[1;32m      9\u001b[0m     \u001b[0mx_f\u001b[0m\u001b[0;34m,\u001b[0m \u001b[0my_f\u001b[0m\u001b[0;34m=\u001b[0m\u001b[0mgenerate_fake_samples\u001b[0m\u001b[0;34m(\u001b[0m\u001b[0mhalf_batch\u001b[0m\u001b[0;34m)\u001b[0m\u001b[0;34m\u001b[0m\u001b[0;34m\u001b[0m\u001b[0m\n\u001b[0;32m---> 10\u001b[0;31m     \u001b[0md_loss2\u001b[0m\u001b[0;34m,\u001b[0m \u001b[0md_acc2\u001b[0m\u001b[0;34m=\u001b[0m\u001b[0mdisc\u001b[0m\u001b[0;34m.\u001b[0m\u001b[0mtrain_on_batch\u001b[0m\u001b[0;34m(\u001b[0m\u001b[0mx_f\u001b[0m\u001b[0;34m,\u001b[0m \u001b[0my_f\u001b[0m\u001b[0;34m)\u001b[0m\u001b[0;34m\u001b[0m\u001b[0;34m\u001b[0m\u001b[0m\n\u001b[0m\u001b[1;32m     11\u001b[0m     \u001b[0mx_g\u001b[0m\u001b[0;34m=\u001b[0m\u001b[0mgenerate_latent_points\u001b[0m\u001b[0;34m(\u001b[0m\u001b[0mn_batch\u001b[0m\u001b[0;34m)\u001b[0m\u001b[0;34m\u001b[0m\u001b[0;34m\u001b[0m\u001b[0m\n\u001b[1;32m     12\u001b[0m     \u001b[0my_g\u001b[0m\u001b[0;34m=\u001b[0m\u001b[0mnp\u001b[0m\u001b[0;34m.\u001b[0m\u001b[0mones\u001b[0m\u001b[0;34m(\u001b[0m\u001b[0mshape\u001b[0m\u001b[0;34m=\u001b[0m\u001b[0;34m(\u001b[0m\u001b[0mn_batch\u001b[0m\u001b[0;34m,\u001b[0m\u001b[0;36m1\u001b[0m\u001b[0;34m)\u001b[0m\u001b[0;34m)\u001b[0m\u001b[0;34m\u001b[0m\u001b[0;34m\u001b[0m\u001b[0m\n",
            "\u001b[0;32m/usr/local/lib/python3.7/dist-packages/tensorflow/python/keras/engine/training.py\u001b[0m in \u001b[0;36mtrain_on_batch\u001b[0;34m(self, x, y, sample_weight, class_weight, reset_metrics, return_dict)\u001b[0m\n\u001b[1;32m   1725\u001b[0m                                                     class_weight)\n\u001b[1;32m   1726\u001b[0m       \u001b[0mself\u001b[0m\u001b[0;34m.\u001b[0m\u001b[0mtrain_function\u001b[0m \u001b[0;34m=\u001b[0m \u001b[0mself\u001b[0m\u001b[0;34m.\u001b[0m\u001b[0mmake_train_function\u001b[0m\u001b[0;34m(\u001b[0m\u001b[0;34m)\u001b[0m\u001b[0;34m\u001b[0m\u001b[0;34m\u001b[0m\u001b[0m\n\u001b[0;32m-> 1727\u001b[0;31m       \u001b[0mlogs\u001b[0m \u001b[0;34m=\u001b[0m \u001b[0mself\u001b[0m\u001b[0;34m.\u001b[0m\u001b[0mtrain_function\u001b[0m\u001b[0;34m(\u001b[0m\u001b[0miterator\u001b[0m\u001b[0;34m)\u001b[0m\u001b[0;34m\u001b[0m\u001b[0;34m\u001b[0m\u001b[0m\n\u001b[0m\u001b[1;32m   1728\u001b[0m \u001b[0;34m\u001b[0m\u001b[0m\n\u001b[1;32m   1729\u001b[0m     \u001b[0;32mif\u001b[0m \u001b[0mreset_metrics\u001b[0m\u001b[0;34m:\u001b[0m\u001b[0;34m\u001b[0m\u001b[0;34m\u001b[0m\u001b[0m\n",
            "\u001b[0;32m/usr/local/lib/python3.7/dist-packages/tensorflow/python/eager/def_function.py\u001b[0m in \u001b[0;36m__call__\u001b[0;34m(self, *args, **kwds)\u001b[0m\n\u001b[1;32m    826\u001b[0m     \u001b[0mtracing_count\u001b[0m \u001b[0;34m=\u001b[0m \u001b[0mself\u001b[0m\u001b[0;34m.\u001b[0m\u001b[0mexperimental_get_tracing_count\u001b[0m\u001b[0;34m(\u001b[0m\u001b[0;34m)\u001b[0m\u001b[0;34m\u001b[0m\u001b[0;34m\u001b[0m\u001b[0m\n\u001b[1;32m    827\u001b[0m     \u001b[0;32mwith\u001b[0m \u001b[0mtrace\u001b[0m\u001b[0;34m.\u001b[0m\u001b[0mTrace\u001b[0m\u001b[0;34m(\u001b[0m\u001b[0mself\u001b[0m\u001b[0;34m.\u001b[0m\u001b[0m_name\u001b[0m\u001b[0;34m)\u001b[0m \u001b[0;32mas\u001b[0m \u001b[0mtm\u001b[0m\u001b[0;34m:\u001b[0m\u001b[0;34m\u001b[0m\u001b[0;34m\u001b[0m\u001b[0m\n\u001b[0;32m--> 828\u001b[0;31m       \u001b[0mresult\u001b[0m \u001b[0;34m=\u001b[0m \u001b[0mself\u001b[0m\u001b[0;34m.\u001b[0m\u001b[0m_call\u001b[0m\u001b[0;34m(\u001b[0m\u001b[0;34m*\u001b[0m\u001b[0margs\u001b[0m\u001b[0;34m,\u001b[0m \u001b[0;34m**\u001b[0m\u001b[0mkwds\u001b[0m\u001b[0;34m)\u001b[0m\u001b[0;34m\u001b[0m\u001b[0;34m\u001b[0m\u001b[0m\n\u001b[0m\u001b[1;32m    829\u001b[0m       \u001b[0mcompiler\u001b[0m \u001b[0;34m=\u001b[0m \u001b[0;34m\"xla\"\u001b[0m \u001b[0;32mif\u001b[0m \u001b[0mself\u001b[0m\u001b[0;34m.\u001b[0m\u001b[0m_experimental_compile\u001b[0m \u001b[0;32melse\u001b[0m \u001b[0;34m\"nonXla\"\u001b[0m\u001b[0;34m\u001b[0m\u001b[0;34m\u001b[0m\u001b[0m\n\u001b[1;32m    830\u001b[0m       \u001b[0mnew_tracing_count\u001b[0m \u001b[0;34m=\u001b[0m \u001b[0mself\u001b[0m\u001b[0;34m.\u001b[0m\u001b[0mexperimental_get_tracing_count\u001b[0m\u001b[0;34m(\u001b[0m\u001b[0;34m)\u001b[0m\u001b[0;34m\u001b[0m\u001b[0;34m\u001b[0m\u001b[0m\n",
            "\u001b[0;32m/usr/local/lib/python3.7/dist-packages/tensorflow/python/eager/def_function.py\u001b[0m in \u001b[0;36m_call\u001b[0;34m(self, *args, **kwds)\u001b[0m\n\u001b[1;32m    853\u001b[0m       \u001b[0;31m# In this case we have created variables on the first call, so we run the\u001b[0m\u001b[0;34m\u001b[0m\u001b[0;34m\u001b[0m\u001b[0;34m\u001b[0m\u001b[0m\n\u001b[1;32m    854\u001b[0m       \u001b[0;31m# defunned version which is guaranteed to never create variables.\u001b[0m\u001b[0;34m\u001b[0m\u001b[0;34m\u001b[0m\u001b[0;34m\u001b[0m\u001b[0m\n\u001b[0;32m--> 855\u001b[0;31m       \u001b[0;32mreturn\u001b[0m \u001b[0mself\u001b[0m\u001b[0;34m.\u001b[0m\u001b[0m_stateless_fn\u001b[0m\u001b[0;34m(\u001b[0m\u001b[0;34m*\u001b[0m\u001b[0margs\u001b[0m\u001b[0;34m,\u001b[0m \u001b[0;34m**\u001b[0m\u001b[0mkwds\u001b[0m\u001b[0;34m)\u001b[0m  \u001b[0;31m# pylint: disable=not-callable\u001b[0m\u001b[0;34m\u001b[0m\u001b[0;34m\u001b[0m\u001b[0m\n\u001b[0m\u001b[1;32m    856\u001b[0m     \u001b[0;32melif\u001b[0m \u001b[0mself\u001b[0m\u001b[0;34m.\u001b[0m\u001b[0m_stateful_fn\u001b[0m \u001b[0;32mis\u001b[0m \u001b[0;32mnot\u001b[0m \u001b[0;32mNone\u001b[0m\u001b[0;34m:\u001b[0m\u001b[0;34m\u001b[0m\u001b[0;34m\u001b[0m\u001b[0m\n\u001b[1;32m    857\u001b[0m       \u001b[0;31m# Release the lock early so that multiple threads can perform the call\u001b[0m\u001b[0;34m\u001b[0m\u001b[0;34m\u001b[0m\u001b[0;34m\u001b[0m\u001b[0m\n",
            "\u001b[0;32m/usr/local/lib/python3.7/dist-packages/tensorflow/python/eager/function.py\u001b[0m in \u001b[0;36m__call__\u001b[0;34m(self, *args, **kwargs)\u001b[0m\n\u001b[1;32m   2941\u001b[0m        filtered_flat_args) = self._maybe_define_function(args, kwargs)\n\u001b[1;32m   2942\u001b[0m     return graph_function._call_flat(\n\u001b[0;32m-> 2943\u001b[0;31m         filtered_flat_args, captured_inputs=graph_function.captured_inputs)  # pylint: disable=protected-access\n\u001b[0m\u001b[1;32m   2944\u001b[0m \u001b[0;34m\u001b[0m\u001b[0m\n\u001b[1;32m   2945\u001b[0m   \u001b[0;34m@\u001b[0m\u001b[0mproperty\u001b[0m\u001b[0;34m\u001b[0m\u001b[0;34m\u001b[0m\u001b[0m\n",
            "\u001b[0;32m/usr/local/lib/python3.7/dist-packages/tensorflow/python/eager/function.py\u001b[0m in \u001b[0;36m_call_flat\u001b[0;34m(self, args, captured_inputs, cancellation_manager)\u001b[0m\n\u001b[1;32m   1917\u001b[0m       \u001b[0;31m# No tape is watching; skip to running the function.\u001b[0m\u001b[0;34m\u001b[0m\u001b[0;34m\u001b[0m\u001b[0;34m\u001b[0m\u001b[0m\n\u001b[1;32m   1918\u001b[0m       return self._build_call_outputs(self._inference_function.call(\n\u001b[0;32m-> 1919\u001b[0;31m           ctx, args, cancellation_manager=cancellation_manager))\n\u001b[0m\u001b[1;32m   1920\u001b[0m     forward_backward = self._select_forward_and_backward_functions(\n\u001b[1;32m   1921\u001b[0m         \u001b[0margs\u001b[0m\u001b[0;34m,\u001b[0m\u001b[0;34m\u001b[0m\u001b[0;34m\u001b[0m\u001b[0m\n",
            "\u001b[0;32m/usr/local/lib/python3.7/dist-packages/tensorflow/python/eager/function.py\u001b[0m in \u001b[0;36mcall\u001b[0;34m(self, ctx, args, cancellation_manager)\u001b[0m\n\u001b[1;32m    558\u001b[0m               \u001b[0minputs\u001b[0m\u001b[0;34m=\u001b[0m\u001b[0margs\u001b[0m\u001b[0;34m,\u001b[0m\u001b[0;34m\u001b[0m\u001b[0;34m\u001b[0m\u001b[0m\n\u001b[1;32m    559\u001b[0m               \u001b[0mattrs\u001b[0m\u001b[0;34m=\u001b[0m\u001b[0mattrs\u001b[0m\u001b[0;34m,\u001b[0m\u001b[0;34m\u001b[0m\u001b[0;34m\u001b[0m\u001b[0m\n\u001b[0;32m--> 560\u001b[0;31m               ctx=ctx)\n\u001b[0m\u001b[1;32m    561\u001b[0m         \u001b[0;32melse\u001b[0m\u001b[0;34m:\u001b[0m\u001b[0;34m\u001b[0m\u001b[0;34m\u001b[0m\u001b[0m\n\u001b[1;32m    562\u001b[0m           outputs = execute.execute_with_cancellation(\n",
            "\u001b[0;32m/usr/local/lib/python3.7/dist-packages/tensorflow/python/eager/execute.py\u001b[0m in \u001b[0;36mquick_execute\u001b[0;34m(op_name, num_outputs, inputs, attrs, ctx, name)\u001b[0m\n\u001b[1;32m     58\u001b[0m     \u001b[0mctx\u001b[0m\u001b[0;34m.\u001b[0m\u001b[0mensure_initialized\u001b[0m\u001b[0;34m(\u001b[0m\u001b[0;34m)\u001b[0m\u001b[0;34m\u001b[0m\u001b[0;34m\u001b[0m\u001b[0m\n\u001b[1;32m     59\u001b[0m     tensors = pywrap_tfe.TFE_Py_Execute(ctx._handle, device_name, op_name,\n\u001b[0;32m---> 60\u001b[0;31m                                         inputs, attrs, num_outputs)\n\u001b[0m\u001b[1;32m     61\u001b[0m   \u001b[0;32mexcept\u001b[0m \u001b[0mcore\u001b[0m\u001b[0;34m.\u001b[0m\u001b[0m_NotOkStatusException\u001b[0m \u001b[0;32mas\u001b[0m \u001b[0me\u001b[0m\u001b[0;34m:\u001b[0m\u001b[0;34m\u001b[0m\u001b[0;34m\u001b[0m\u001b[0m\n\u001b[1;32m     62\u001b[0m     \u001b[0;32mif\u001b[0m \u001b[0mname\u001b[0m \u001b[0;32mis\u001b[0m \u001b[0;32mnot\u001b[0m \u001b[0;32mNone\u001b[0m\u001b[0;34m:\u001b[0m\u001b[0;34m\u001b[0m\u001b[0;34m\u001b[0m\u001b[0m\n",
            "\u001b[0;31mKeyboardInterrupt\u001b[0m: "
          ]
        }
      ]
    },
    {
      "cell_type": "code",
      "metadata": {
        "colab": {
          "base_uri": "https://localhost:8080/",
          "height": 282
        },
        "id": "xi9IoEFTbLPs",
        "outputId": "67dca937-ade2-4787-ca49-8b11d1ed9389"
      },
      "source": [
        "im=gen.predict(np.random.randn(100).reshape(1,100))\n",
        "plt.imshow(im.reshape(28,28), cmap='gray_r')"
      ],
      "execution_count": 18,
      "outputs": [
        {
          "output_type": "execute_result",
          "data": {
            "text/plain": [
              "<matplotlib.image.AxesImage at 0x7fca2cd8e410>"
            ]
          },
          "metadata": {
            "tags": []
          },
          "execution_count": 18
        },
        {
          "output_type": "display_data",
          "data": {
            "image/png": "[encoded data removed]",
            "text/plain": [
              "<Figure size 432x288 with 1 Axes>"
            ]
          },
          "metadata": {
            "tags": [],
            "needs_background": "light"
          }
        }
      ]
    },
    {
      "cell_type": "code",
      "metadata": {
        "colab": {
          "base_uri": "https://localhost:8080/",
          "height": 282
        },
        "id": "0xfH1Ms-coo3",
        "outputId": "be57a7fe-7cea-4b04-de6a-40e63dabeca3"
      },
      "source": [
        "im=gen.predict(np.random.randn(100).reshape(1,100))\n",
        "plt.imshow(im.reshape(28,28), cmap='gray_r')"
      ],
      "execution_count": 20,
      "outputs": [
        {
          "output_type": "execute_result",
          "data": {
            "text/plain": [
              "<matplotlib.image.AxesImage at 0x7fca2abbadd0>"
            ]
          },
          "metadata": {
            "tags": []
          },
          "execution_count": 20
        },
        {
          "output_type": "display_data",
          "data": {
            "image/png": "[encoded data removed]",
            "text/plain": [
              "<Figure size 432x288 with 1 Axes>"
            ]
          },
          "metadata": {
            "tags": [],
            "needs_background": "light"
          }
        }
      ]
    }
  ]
}