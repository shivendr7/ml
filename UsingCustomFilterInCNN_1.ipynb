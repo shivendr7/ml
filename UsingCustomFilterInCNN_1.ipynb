{
  "nbformat": 4,
  "nbformat_minor": 0,
  "metadata": {
    "colab": {
      "name": "UsingCustomFilterInCNN-1.ipynb",
      "provenance": [],
      "authorship_tag": "ABX9TyPbM9vqMALbH2dUGHhh7RRj",
      "include_colab_link": true
    },
    "kernelspec": {
      "name": "python3",
      "display_name": "Python 3"
    },
    "language_info": {
      "name": "python"
    }
  },
  "cells": [
    {
      "cell_type": "markdown",
      "metadata": {
        "id": "view-in-github",
        "colab_type": "text"
      },
      "source": [
        "<a href=\"https://colab.research.google.com/github/shivendr7/ml/blob/main/UsingCustomFilterInCNN_1.ipynb\" target=\"_parent\"><img src=\"https://colab.research.google.com/assets/colab-badge.svg\" alt=\"Open In Colab\"/></a>"
      ]
    },
    {
      "cell_type": "code",
      "metadata": {
        "id": "RuqsyHH35DHC"
      },
      "source": [
        "from tensorflow.keras.layers import Conv2D, Input\n",
        "from tensorflow.keras.models import Model\n",
        "import keras.backend as K\n",
        "import numpy as np\n",
        "from tensorflow.keras.datasets import mnist\n",
        "import matplotlib.pyplot as plt\n"
      ],
      "execution_count": 11,
      "outputs": []
    },
    {
      "cell_type": "code",
      "metadata": {
        "colab": {
          "base_uri": "https://localhost:8080/"
        },
        "id": "w2HJRki25xJl",
        "outputId": "14de6975-53c1-4e1a-d850-f179b8bae690"
      },
      "source": [
        "(train_images,_),(_,_)=mnist.load_data()"
      ],
      "execution_count": 4,
      "outputs": [
        {
          "output_type": "stream",
          "text": [
            "Downloading data from https://storage.googleapis.com/tensorflow/tf-keras-datasets/mnist.npz\n",
            "11493376/11490434 [==============================] - 0s 0us/step\n"
          ],
          "name": "stdout"
        }
      ]
    },
    {
      "cell_type": "code",
      "metadata": {
        "id": "-jbFlvlD551E"
      },
      "source": [
        "def myfilter(shape, dtype=None):\n",
        "  f=np.array([\n",
        "      [[[1]],[[0]],[[-1]]],\n",
        "      [[[1]],[[0]],[[-1]]],\n",
        "      [[[1]],[[0]],[[-1]]]\n",
        "  ])\n",
        "  return K.variable(f, dtype='float32')\n",
        "\n",
        "inp=Input(shape=(28,28,1))\n",
        "out=Conv2D(filters=1, kernel_size=(3,3), padding='same', kernel_initializer=myfilter)(inp)\n",
        "model=Model(inputs=inp, outputs=out)\n",
        "model.compile()"
      ],
      "execution_count": 5,
      "outputs": []
    },
    {
      "cell_type": "code",
      "metadata": {
        "colab": {
          "base_uri": "https://localhost:8080/"
        },
        "id": "M7rfgjGeCilz",
        "outputId": "fc25574a-5070-4901-bf5c-120f618650d9"
      },
      "source": [
        "model.summary()"
      ],
      "execution_count": 6,
      "outputs": [
        {
          "output_type": "stream",
          "text": [
            "Model: \"model\"\n",
            "_________________________________________________________________\n",
            "Layer (type)                 Output Shape              Param #   \n",
            "=================================================================\n",
            "input_1 (InputLayer)         [(None, 28, 28, 1)]       0         \n",
            "_________________________________________________________________\n",
            "conv2d (Conv2D)              (None, 28, 28, 1)         10        \n",
            "=================================================================\n",
            "Total params: 10\n",
            "Trainable params: 10\n",
            "Non-trainable params: 0\n",
            "_________________________________________________________________\n"
          ],
          "name": "stdout"
        }
      ]
    },
    {
      "cell_type": "code",
      "metadata": {
        "id": "aIHSH5s9Csdv"
      },
      "source": [
        "X=np.expand_dims(train_images, axis=-1)"
      ],
      "execution_count": 8,
      "outputs": []
    },
    {
      "cell_type": "code",
      "metadata": {
        "id": "yiQf8kjmCk7G"
      },
      "source": [
        "out=model.predict(train_images[:5])"
      ],
      "execution_count": 10,
      "outputs": []
    },
    {
      "cell_type": "code",
      "metadata": {
        "colab": {
          "base_uri": "https://localhost:8080/",
          "height": 218
        },
        "id": "1mC40gWjC2sH",
        "outputId": "d76f0426-0c09-4d23-f085-a3ce3e5f0601"
      },
      "source": [
        "i=2\n",
        "plt.subplot(1,2,1)\n",
        "plt.imshow(out[i].reshape(28,28), cmap='gray_r')\n",
        "plt.subplot(1,2,2)\n",
        "plt.imshow(train_images[i], cmap='gray_r')"
      ],
      "execution_count": 15,
      "outputs": [
        {
          "output_type": "execute_result",
          "data": {
            "text/plain": [
              "<matplotlib.image.AxesImage at 0x7fbad51af450>"
            ]
          },
          "metadata": {
            "tags": []
          },
          "execution_count": 15
        },
        {
          "output_type": "display_data",
          "data": {
            "image/png": "[encoded data removed]",
            "text/plain": [
              "<Figure size 432x288 with 2 Axes>"
            ]
          },
          "metadata": {
            "tags": [],
            "needs_background": "light"
          }
        }
      ]
    }
  ]
}