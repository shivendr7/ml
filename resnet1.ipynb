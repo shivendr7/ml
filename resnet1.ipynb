{
  "nbformat": 4,
  "nbformat_minor": 0,
  "metadata": {
    "colab": {
      "name": "resnet1.ipynb",
      "provenance": [],
      "authorship_tag": "ABX9TyOFSVYFUxzAxNw57H67QDGW",
      "include_colab_link": true
    },
    "kernelspec": {
      "name": "python3",
      "display_name": "Python 3"
    },
    "language_info": {
      "name": "python"
    }
  },
  "cells": [
    {
      "cell_type": "markdown",
      "metadata": {
        "id": "view-in-github",
        "colab_type": "text"
      },
      "source": [
        "<a href=\"https://colab.research.google.com/github/shivendr7/ml/blob/assignments/resnet1.ipynb\" target=\"_parent\"><img src=\"https://colab.research.google.com/assets/colab-badge.svg\" alt=\"Open In Colab\"/></a>"
      ]
    },
    {
      "cell_type": "code",
      "metadata": {
        "id": "bOMbDTISOIe5"
      },
      "source": [
        "import tensorflow\n",
        "from tensorflow.keras.layers import Add, Flatten, Dense, MaxPooling2D, Conv2D, Input\n",
        "from tensorflow.keras.models import Model\n",
        "from tensorflow.keras.datasets.cifar10 import load_data\n",
        "import matplotlib.pyplot as plt"
      ],
      "execution_count": 1,
      "outputs": []
    },
    {
      "cell_type": "code",
      "metadata": {
        "colab": {
          "base_uri": "https://localhost:8080/"
        },
        "id": "ldDewfFGO9gn",
        "outputId": "a55b12d0-4f68-44bd-e25b-6eb717957689"
      },
      "source": [
        "(train_images, train_labels), (test_images, test_labels)=load_data()"
      ],
      "execution_count": 6,
      "outputs": [
        {
          "output_type": "stream",
          "text": [
            "Downloading data from https://www.cs.toronto.edu/~kriz/cifar-10-python.tar.gz\n",
            "170500096/170498071 [==============================] - 4s 0us/step\n"
          ],
          "name": "stdout"
        }
      ]
    },
    {
      "cell_type": "code",
      "metadata": {
        "colab": {
          "base_uri": "https://localhost:8080/",
          "height": 283
        },
        "id": "-ujYt1AUPF0I",
        "outputId": "b3be8308-1d45-4845-a3ce-4027611815dc"
      },
      "source": [
        "train_images.shape, plt.imshow(train_images[0])"
      ],
      "execution_count": 9,
      "outputs": [
        {
          "output_type": "execute_result",
          "data": {
            "text/plain": [
              "((50000, 32, 32, 3), <matplotlib.image.AxesImage at 0x7fbd2950ef90>)"
            ]
          },
          "metadata": {
            "tags": []
          },
          "execution_count": 9
        },
        {
          "output_type": "display_data",
          "data": {
            "image/png": "[encoded data removed]",
            "text/plain": [
              "<Figure size 432x288 with 1 Axes>"
            ]
          },
          "metadata": {
            "tags": [],
            "needs_background": "light"
          }
        }
      ]
    },
    {
      "cell_type": "code",
      "metadata": {
        "colab": {
          "base_uri": "https://localhost:8080/"
        },
        "id": "IC_F4UuzPbH-",
        "outputId": "0a1c725d-b3ea-4508-e48c-84218ccd53a5"
      },
      "source": [
        "#linking layers\n",
        "x1=Input(shape=(32,32,3))\n",
        "x2=Conv2D(64, kernel_size=(3,3), padding='same', activation='relu')(x1)\n",
        "x3=MaxPooling2D()(x2)\n",
        "x4=Conv2D(3, kernel_size=(3,3), padding='same')(x3)\n",
        "m1=Model(inputs=x1, outputs=x4)\n",
        "m1.compile()\n",
        "m1.summary()"
      ],
      "execution_count": 15,
      "outputs": [
        {
          "output_type": "stream",
          "text": [
            "Model: \"model_4\"\n",
            "_________________________________________________________________\n",
            "Layer (type)                 Output Shape              Param #   \n",
            "=================================================================\n",
            "input_5 (InputLayer)         [(None, 32, 32, 3)]       0         \n",
            "_________________________________________________________________\n",
            "conv2d_4 (Conv2D)            (None, 32, 32, 64)        1792      \n",
            "_________________________________________________________________\n",
            "max_pooling2d_4 (MaxPooling2 (None, 16, 16, 64)        0         \n",
            "_________________________________________________________________\n",
            "conv2d_5 (Conv2D)            (None, 16, 16, 3)         1731      \n",
            "=================================================================\n",
            "Total params: 3,523\n",
            "Trainable params: 3,523\n",
            "Non-trainable params: 0\n",
            "_________________________________________________________________\n"
          ],
          "name": "stdout"
        }
      ]
    },
    {
      "cell_type": "code",
      "metadata": {
        "colab": {
          "base_uri": "https://localhost:8080/",
          "height": 282
        },
        "id": "RKYltSB9RX__",
        "outputId": "b7e20f48-5c4e-49e0-eedc-43c091ba3ce5"
      },
      "source": [
        "Out=m1.predict(train_images[0].reshape(1,32,32,3))\n",
        "plt.imshow(Out.astype('uint8').reshape(16,16,3))"
      ],
      "execution_count": 24,
      "outputs": [
        {
          "output_type": "execute_result",
          "data": {
            "text/plain": [
              "<matplotlib.image.AxesImage at 0x7fbd226443d0>"
            ]
          },
          "metadata": {
            "tags": []
          },
          "execution_count": 24
        },
        {
          "output_type": "display_data",
          "data": {
            "image/png": "[encoded data removed]",
            "text/plain": [
              "<Figure size 432x288 with 1 Axes>"
            ]
          },
          "metadata": {
            "tags": [],
            "needs_background": "light"
          }
        }
      ]
    },
    {
      "cell_type": "code",
      "metadata": {
        "colab": {
          "base_uri": "https://localhost:8080/"
        },
        "id": "oV6SFsreSM4j",
        "outputId": "967cea99-741f-45c4-d59d-e5ea46d650a6"
      },
      "source": [
        "#first resnet [Convolution Block]\n",
        "x1=Input(shape=(32,32,3))\n",
        "x2=Conv2D(64, kernel_size=(1,1), activation='relu', padding='same')(x1)\n",
        "x3=Conv2D(64, kernel_size=(3,3), activation='relu', padding='same')(x2)\n",
        "x4=Conv2D(128, kernel_size=(1,1), activation='relu', padding='same')(x3)\n",
        "ConvBridge=Conv2D(128, kernel_size=(1,1), activation='relu', padding='same')(x1)\n",
        "\n",
        "\n",
        "x5=Add()([x4, ConvBridge])\n",
        "x7=Conv2D(1, kernel_size=(3,3), activation='relu', padding='same')(x5)\n",
        "x6=MaxPooling2D()(x7)\n",
        "Out2=Model(inputs=x1, outputs=x6)\n",
        "Out2.compile()\n",
        "Out2.summary()"
      ],
      "execution_count": 33,
      "outputs": [
        {
          "output_type": "stream",
          "text": [
            "Model: \"model_8\"\n",
            "__________________________________________________________________________________________________\n",
            "Layer (type)                    Output Shape         Param #     Connected to                     \n",
            "==================================================================================================\n",
            "input_14 (InputLayer)           [(None, 32, 32, 3)]  0                                            \n",
            "__________________________________________________________________________________________________\n",
            "conv2d_37 (Conv2D)              (None, 32, 32, 64)   256         input_14[0][0]                   \n",
            "__________________________________________________________________________________________________\n",
            "conv2d_38 (Conv2D)              (None, 32, 32, 64)   36928       conv2d_37[0][0]                  \n",
            "__________________________________________________________________________________________________\n",
            "conv2d_39 (Conv2D)              (None, 32, 32, 128)  8320        conv2d_38[0][0]                  \n",
            "__________________________________________________________________________________________________\n",
            "conv2d_40 (Conv2D)              (None, 32, 32, 128)  512         input_14[0][0]                   \n",
            "__________________________________________________________________________________________________\n",
            "add_8 (Add)                     (None, 32, 32, 128)  0           conv2d_39[0][0]                  \n",
            "                                                                 conv2d_40[0][0]                  \n",
            "__________________________________________________________________________________________________\n",
            "conv2d_41 (Conv2D)              (None, 32, 32, 1)    1153        add_8[0][0]                      \n",
            "__________________________________________________________________________________________________\n",
            "max_pooling2d_6 (MaxPooling2D)  (None, 16, 16, 1)    0           conv2d_41[0][0]                  \n",
            "==================================================================================================\n",
            "Total params: 47,169\n",
            "Trainable params: 47,169\n",
            "Non-trainable params: 0\n",
            "__________________________________________________________________________________________________\n"
          ],
          "name": "stdout"
        }
      ]
    },
    {
      "cell_type": "code",
      "metadata": {
        "colab": {
          "base_uri": "https://localhost:8080/",
          "height": 282
        },
        "id": "WJFa9tlPUweb",
        "outputId": "e47548f1-bfc3-47aa-9cf5-d225ed9d4884"
      },
      "source": [
        "out=Out2.predict(train_images[0].reshape(1,32,32,3))\n",
        "plt.imshow(out.reshape(16,16)), out.shape"
      ],
      "execution_count": 39,
      "outputs": [
        {
          "output_type": "execute_result",
          "data": {
            "text/plain": [
              "(<matplotlib.image.AxesImage at 0x7fbd21b37310>, (1, 16, 16, 1))"
            ]
          },
          "metadata": {
            "tags": []
          },
          "execution_count": 39
        },
        {
          "output_type": "display_data",
          "data": {
            "image/png": "[encoded data removed]",
            "text/plain": [
              "<Figure size 432x288 with 1 Axes>"
            ]
          },
          "metadata": {
            "tags": [],
            "needs_background": "light"
          }
        }
      ]
    },
    {
      "cell_type": "code",
      "metadata": {
        "colab": {
          "base_uri": "https://localhost:8080/"
        },
        "id": "mmE2kONiVmeq",
        "outputId": "55f3e228-2e60-4a4c-c011-4ee4cc787872"
      },
      "source": [
        "from tensorflow.keras.datasets import mnist\n",
        "(train_images, train_labels), (test_images, test_labels)=mnist.load_data()\n",
        "train_images.shape, train_labels.shape"
      ],
      "execution_count": 5,
      "outputs": [
        {
          "output_type": "execute_result",
          "data": {
            "text/plain": [
              "((60000, 28, 28), (60000,))"
            ]
          },
          "metadata": {
            "tags": []
          },
          "execution_count": 5
        }
      ]
    },
    {
      "cell_type": "code",
      "metadata": {
        "colab": {
          "base_uri": "https://localhost:8080/"
        },
        "id": "bzeJo4cZV2Yg",
        "outputId": "e56fdc76-3dac-4f0d-9836-b5d07d417dc2"
      },
      "source": [
        "train_labels=tensorflow.keras.utils.to_categorical(train_labels, 10)\n",
        "test_labels=tensorflow.keras.utils.to_categorical(test_labels, 10)\n",
        "train_labels.shape"
      ],
      "execution_count": 6,
      "outputs": [
        {
          "output_type": "execute_result",
          "data": {
            "text/plain": [
              "(60000, 10)"
            ]
          },
          "metadata": {
            "tags": []
          },
          "execution_count": 6
        }
      ]
    },
    {
      "cell_type": "code",
      "metadata": {
        "colab": {
          "base_uri": "https://localhost:8080/"
        },
        "id": "gJzexXhLX-Jj",
        "outputId": "3376595d-492e-4eaa-a40d-d4795b7c42cc"
      },
      "source": [
        "x1=Input(shape=(28,28,1))\n",
        "xConv=Conv2D(3, kernel_size=(3,3), strides=(2,2), padding='same', activation='relu')(x1)\n",
        "x6=Conv2D(6, kernel_size=(3,3), padding='same', activation='relu')(x1)\n",
        "x2=Conv2D(3, kernel_size=(3,3), padding='same', activation='relu')(x1)\n",
        "x3=MaxPooling2D()(x2)\n",
        "x4=Add()([xConv, x3])\n",
        "x5=Flatten()(x4)\n",
        "x6=Dense(10, activation='softmax')(x5)\n",
        "resnet_model=Model(inputs=x1, outputs=x6)\n",
        "resnet_model.compile(optimizer='adam', loss='categorical_crossentropy', metrics=['accuracy'])\n",
        "resnet_model.summary()"
      ],
      "execution_count": 11,
      "outputs": [
        {
          "output_type": "stream",
          "text": [
            "Model: \"model_2\"\n",
            "__________________________________________________________________________________________________\n",
            "Layer (type)                    Output Shape         Param #     Connected to                     \n",
            "==================================================================================================\n",
            "input_5 (InputLayer)            [(None, 28, 28, 1)]  0                                            \n",
            "__________________________________________________________________________________________________\n",
            "conv2d_10 (Conv2D)              (None, 28, 28, 3)    30          input_5[0][0]                    \n",
            "__________________________________________________________________________________________________\n",
            "conv2d_8 (Conv2D)               (None, 14, 14, 3)    30          input_5[0][0]                    \n",
            "__________________________________________________________________________________________________\n",
            "max_pooling2d_2 (MaxPooling2D)  (None, 14, 14, 3)    0           conv2d_10[0][0]                  \n",
            "__________________________________________________________________________________________________\n",
            "add_2 (Add)                     (None, 14, 14, 3)    0           conv2d_8[0][0]                   \n",
            "                                                                 max_pooling2d_2[0][0]            \n",
            "__________________________________________________________________________________________________\n",
            "flatten_2 (Flatten)             (None, 588)          0           add_2[0][0]                      \n",
            "__________________________________________________________________________________________________\n",
            "dense_2 (Dense)                 (None, 10)           5890        flatten_2[0][0]                  \n",
            "==================================================================================================\n",
            "Total params: 5,950\n",
            "Trainable params: 5,950\n",
            "Non-trainable params: 0\n",
            "__________________________________________________________________________________________________\n"
          ],
          "name": "stdout"
        }
      ]
    },
    {
      "cell_type": "code",
      "metadata": {
        "colab": {
          "base_uri": "https://localhost:8080/"
        },
        "id": "gDRBb-4gaCVc",
        "outputId": "cd9c7b15-ae0e-49b2-cbdb-dd98ac0ed44d"
      },
      "source": [
        "resnet_model.fit(train_images, train_labels, epochs=2, verbose=2)"
      ],
      "execution_count": 12,
      "outputs": [
        {
          "output_type": "stream",
          "text": [
            "Epoch 1/2\n",
            "1875/1875 - 21s - loss: 4.5211 - accuracy: 0.8223\n",
            "Epoch 2/2\n",
            "1875/1875 - 20s - loss: 0.4660 - accuracy: 0.9069\n"
          ],
          "name": "stdout"
        },
        {
          "output_type": "execute_result",
          "data": {
            "text/plain": [
              "<tensorflow.python.keras.callbacks.History at 0x7f31501e4450>"
            ]
          },
          "metadata": {
            "tags": []
          },
          "execution_count": 12
        }
      ]
    },
    {
      "cell_type": "code",
      "metadata": {
        "colab": {
          "base_uri": "https://localhost:8080/"
        },
        "id": "1fgVgtARarmz",
        "outputId": "00abef53-6c45-4709-a313-001790f66292"
      },
      "source": [
        "loss, accuracy=resnet_model.evaluate(test_images, test_labels)"
      ],
      "execution_count": 13,
      "outputs": [
        {
          "output_type": "stream",
          "text": [
            "313/313 [==============================] - 3s 8ms/step - loss: 0.2612 - accuracy: 0.9248\n"
          ],
          "name": "stdout"
        }
      ]
    },
    {
      "cell_type": "code",
      "metadata": {
        "colab": {
          "base_uri": "https://localhost:8080/"
        },
        "id": "5RSO1VL9a4CY",
        "outputId": "b6795ee4-4372-4d37-f740-7718a90327b2"
      },
      "source": [
        "loss, accuracy"
      ],
      "execution_count": 14,
      "outputs": [
        {
          "output_type": "execute_result",
          "data": {
            "text/plain": [
              "(0.26115113496780396, 0.9247999787330627)"
            ]
          },
          "metadata": {
            "tags": []
          },
          "execution_count": 14
        }
      ]
    },
    {
      "cell_type": "code",
      "metadata": {
        "id": "aHui-dDvbOJo"
      },
      "source": [
        "import numpy as np"
      ],
      "execution_count": 17,
      "outputs": []
    },
    {
      "cell_type": "code",
      "metadata": {
        "colab": {
          "base_uri": "https://localhost:8080/",
          "height": 282
        },
        "id": "tnRo9jSFa6RC",
        "outputId": "179f77ea-49e3-4673-cc38-9664bb28d490"
      },
      "source": [
        "plt.imshow(train_images[5].reshape(28,28)), np.argmax(resnet_model.predict(train_images[5].reshape(1,28,28,1)))"
      ],
      "execution_count": 18,
      "outputs": [
        {
          "output_type": "execute_result",
          "data": {
            "text/plain": [
              "(<matplotlib.image.AxesImage at 0x7f314c7e43d0>, 2)"
            ]
          },
          "metadata": {
            "tags": []
          },
          "execution_count": 18
        },
        {
          "output_type": "display_data",
          "data": {
            "image/png": "[encoded data removed]",
            "text/plain": [
              "<Figure size 432x288 with 1 Axes>"
            ]
          },
          "metadata": {
            "tags": [],
            "needs_background": "light"
          }
        }
      ]
    }
  ]
}