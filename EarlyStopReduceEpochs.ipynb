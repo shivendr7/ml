{
  "nbformat": 4,
  "nbformat_minor": 0,
  "metadata": {
    "colab": {
      "name": "EarlyStopReduceEpochs.ipynb",
      "provenance": [],
      "authorship_tag": "ABX9TyP9IKCweH+34LmMWhqiakHN",
      "include_colab_link": true
    },
    "kernelspec": {
      "name": "python3",
      "display_name": "Python 3"
    }
  },
  "cells": [
    {
      "cell_type": "markdown",
      "metadata": {
        "id": "view-in-github",
        "colab_type": "text"
      },
      "source": [
        "<a href=\"https://colab.research.google.com/github/shivendr7/ml/blob/main/EarlyStopReduceEpochs.ipynb\" target=\"_parent\"><img src=\"https://colab.research.google.com/assets/colab-badge.svg\" alt=\"Open In Colab\"/></a>"
      ]
    },
    {
      "cell_type": "code",
      "metadata": {
        "id": "3l724szPVD71"
      },
      "source": [
        "import pandas as pd\r\n",
        "import io\r\n",
        "import requests\r\n",
        "import numpy as np\r\n",
        "from sklearn import metrics\r\n",
        "from sklearn.model_selection import train_test_split\r\n",
        "from tensorflow.keras.models import Sequential\r\n",
        "from  tensorflow.keras.layers import Dense , Activation\r\n",
        "from tensorflow.keras.callbacks import EarlyStopping\r\n"
      ],
      "execution_count": 23,
      "outputs": []
    },
    {
      "cell_type": "code",
      "metadata": {
        "colab": {
          "base_uri": "https://localhost:8080/"
        },
        "id": "RnzghtchY5xv",
        "outputId": "a1f5070b-2bee-4b91-cd0b-643b10784421"
      },
      "source": [
        "df=pd.read_csv(\"https://data.heatonresearch.com/data/t81-558/iris.csv\",na_values=['NA','?'])\r\n",
        "x=df[['sepal_l','sepal_w','petal_l','petal_w']].values\r\n",
        "dummies=pd.get_dummies(df['species'])\r\n",
        "species=dummies.columns\r\n",
        "y=dummies.values\r\n",
        "print(y.shape,x.shape)\r\n",
        "\r\n",
        "x_train, x_test, y_train, y_test=train_test_split(x, y, test_size=.25, random_state=42)\r\n",
        "x_train1,x_test1,y_train1,y_test1=train_test_split(x_test, y_test, test_size=.25, random_state=35)\r\n",
        "print(x_train.shape,x_test.shape,y_train.shape,y_test.shape)\r\n",
        "print(x_train1.shape,x_test1.shape,y_train1.shape,y_test1.shape)"
      ],
      "execution_count": 38,
      "outputs": [
        {
          "output_type": "stream",
          "text": [
            "(150, 3) (150, 4)\n",
            "(112, 4) (38, 4) (112, 3) (38, 3)\n",
            "(28, 4) (10, 4) (28, 3) (10, 3)\n"
          ],
          "name": "stdout"
        }
      ]
    },
    {
      "cell_type": "code",
      "metadata": {
        "id": "t0WuJMk2atel"
      },
      "source": [
        "#EarlyStopping with classification\r\n",
        "model=Sequential()\r\n",
        "model.add(Dense(50,input_dim=x.shape[1],activation='relu'))\r\n",
        "model.add(Dense(25,activation='relu'))\r\n",
        "model.add(Dense(y.shape[1],activation='softmax'))\r\n",
        "model.compile(loss='categorical_crossentropy',optimizer='adam')\r\n",
        "\r\n",
        "monitor=EarlyStopping(monitor='val_loss',min_delta=1e-3,patience=5,verbose=0,\r\n",
        "                      mode='auto',restore_best_weights=True)\r\n",
        "model.fit(x_train,y_train,validation_data=(x_train1,y_train1),callbacks=[monitor],verbose=1\r\n",
        "          ,epochs=1000)"
      ],
      "execution_count": null,
      "outputs": []
    },
    {
      "cell_type": "markdown",
      "metadata": {
        "id": "B-aOorcGtag3"
      },
      "source": [
        "There are a number of parameters that are specified to the EarlyStopping object.\r\n",
        "\r\n",
        "**min_delta** This value should be kept small. It simply means the minimum \r\n",
        "change in error to be registered as an improvement. Setting it even smaller will not likely have a great deal of impact.\r\n",
        "\r\n",
        "**patience** How long should the training wait for the validation error to improve?\r\n",
        "\r\n",
        "**verbose** How much progress information do you want?\r\n",
        "\r\n",
        "**mode** In general, always set this to \"auto\". This allows you to specify if the error should be minimized or maximized. Consider accuracy, where higher numbers are desired vs log-loss/RMSE where lower numbers are desired.\r\n",
        "\r\n",
        "**restore_best_weights** This should always be set to true. This restores the weights to the values they were at when the validation set is the highest. Unless you are manually tracking the weights yourself (we do not use this technique in this course), you should have Keras perform this step for you.\r\n",
        "\r\n",
        "\r\n",
        "***As you can see from above, the entire number of requested epochs were not used. The neural network training stopped once the validation set no longer improved.***"
      ]
    },
    {
      "cell_type": "code",
      "metadata": {
        "colab": {
          "base_uri": "https://localhost:8080/"
        },
        "id": "8b9FhhOdcxzp",
        "outputId": "ee6992ad-e4f7-40d9-b98d-044368ff6b41"
      },
      "source": [
        "from sklearn.metrics import accuracy_score\r\n",
        "\r\n",
        "pred=model.predict(x_test1)\r\n",
        "predicted_classes=np.argmax(pred,axis=1)\r\n",
        "expected_classes=np.argmax(y_test1,axis=1)\r\n",
        "correct=accuracy_score(expected_classes,predicted_classes)\r\n",
        "print(correct)"
      ],
      "execution_count": 40,
      "outputs": [
        {
          "output_type": "stream",
          "text": [
            "1.0\n"
          ],
          "name": "stdout"
        }
      ]
    },
    {
      "cell_type": "code",
      "metadata": {
        "id": "RbkZDtzZusiP"
      },
      "source": [
        "#EARLY STOPPING WITH REGRESSION\r\n",
        "from tensorflow.keras.models import Sequential\r\n",
        "from tensorflow.keras.layers import Dense, Activation\r\n",
        "import pandas as pd\r\n",
        "import io\r\n",
        "import os\r\n",
        "import numpy as np\r\n",
        "from sklearn import metrics"
      ],
      "execution_count": 41,
      "outputs": []
    },
    {
      "cell_type": "code",
      "metadata": {
        "colab": {
          "base_uri": "https://localhost:8080/"
        },
        "id": "yp2Vr3Efwiam",
        "outputId": "5c0f7ef5-a137-49a5-b3a9-a301ab546b90"
      },
      "source": [
        "df=pd.read_csv(\"https://data.heatonresearch.com/data/t81-558/auto-mpg.csv\",na_values=['NA','?'])\r\n",
        "cars=df['name']\r\n",
        "df['horsepower']=df['horsepower'].fillna(df['horsepower'].median())\r\n",
        "\r\n",
        "x=df[['cylinders','displacement','horsepower','weight','acceleration','year','origin']].values\r\n",
        "y=df['mpg'].values\r\n",
        "\r\n",
        "x_train, x_test, y_train, y_test= train_test_split(x, y, test_size=.25, random_state=42)\r\n",
        "print(x_train.shape, x_test.shape, y_train.shape, y_test.shape)"
      ],
      "execution_count": 44,
      "outputs": [
        {
          "output_type": "stream",
          "text": [
            "(298, 7) (100, 7) (298,) (100,)\n"
          ],
          "name": "stdout"
        }
      ]
    },
    {
      "cell_type": "code",
      "metadata": {
        "id": "e0Yj5GiVxlM0"
      },
      "source": [
        "model=Sequential()\r\n",
        "model.add(Dense(25, input_dim=x.shape[1], activation='relu'))\r\n",
        "model.add(Dense(10, activation='relu'))\r\n",
        "model.add(Dense(1)) #output\r\n",
        "model.compile(loss='mean_squared_error', optimizer='adam')\r\n",
        "\r\n",
        "monitor=EarlyStopping(monitor='val_loss', min_delta=1e-3, patience=5, verbose=1, \r\n",
        "                      mode='auto', restore_best_weights=True)\r\n",
        "model.fit(x_train, y_train, validation_data=(x_test, y_test), callbacks=[monitor],\r\n",
        "          verbose=2, epochs=1000)"
      ],
      "execution_count": null,
      "outputs": []
    },
    {
      "cell_type": "code",
      "metadata": {
        "colab": {
          "base_uri": "https://localhost:8080/"
        },
        "id": "sjdGhExW3Tbv",
        "outputId": "03da76bb-bef4-4fa4-bc8d-f4cf51a30046"
      },
      "source": [
        "pred=model.predict(x_test)\r\n",
        "score=np.sqrt(metrics.mean_squared_error(pred, y_test))\r\n",
        "print(score)"
      ],
      "execution_count": 49,
      "outputs": [
        {
          "output_type": "stream",
          "text": [
            "3.111214030842278\n"
          ],
          "name": "stdout"
        }
      ]
    }
  ]
}