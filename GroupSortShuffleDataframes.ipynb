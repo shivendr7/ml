{
  "nbformat": 4,
  "nbformat_minor": 0,
  "metadata": {
    "colab": {
      "name": "GroupSortShuffleDataframes.ipynb",
      "provenance": [],
      "authorship_tag": "ABX9TyPULWsUgTokCa7iiajK2Ae0",
      "include_colab_link": true
    },
    "kernelspec": {
      "name": "python3",
      "display_name": "Python 3"
    }
  },
  "cells": [
    {
      "cell_type": "markdown",
      "metadata": {
        "id": "view-in-github",
        "colab_type": "text"
      },
      "source": [
        "<a href=\"https://colab.research.google.com/github/shivendr7/ml/blob/main/GroupSortShuffleDataframes.ipynb\" target=\"_parent\"><img src=\"https://colab.research.google.com/assets/colab-badge.svg\" alt=\"Open In Colab\"/></a>"
      ]
    },
    {
      "cell_type": "code",
      "metadata": {
        "colab": {
          "base_uri": "https://localhost:8080/",
          "height": 224
        },
        "id": "AnNvro5TqCwb",
        "outputId": "2dc05115-8518-4d6c-d39a-97ad80cbacb2"
      },
      "source": [
        "import os\r\n",
        "import pandas as pd\r\n",
        "import numpy as np\r\n",
        "\r\n",
        "df=pd.read_csv(\"https://data.heatonresearch.com/data/t81-558/auto-mpg.csv\",na_values=['NA','?'])\r\n",
        "\r\n",
        "#reindexing df\r\n",
        "df=df.reindex(np.random.permutation(df.index))\r\n",
        "\r\n",
        "pd.set_option('display.max_columns',7)\r\n",
        "pd.set_option('display.max_rows',5)\r\n",
        "display(df)"
      ],
      "execution_count": 3,
      "outputs": [
        {
          "output_type": "display_data",
          "data": {
            "text/html": [
              "<div>\n",
              "<style scoped>\n",
              "    .dataframe tbody tr th:only-of-type {\n",
              "        vertical-align: middle;\n",
              "    }\n",
              "\n",
              "    .dataframe tbody tr th {\n",
              "        vertical-align: top;\n",
              "    }\n",
              "\n",
              "    .dataframe thead th {\n",
              "        text-align: right;\n",
              "    }\n",
              "</style>\n",
              "<table border=\"1\" class=\"dataframe\">\n",
              "  <thead>\n",
              "    <tr style=\"text-align: right;\">\n",
              "      <th></th>\n",
              "      <th>mpg</th>\n",
              "      <th>cylinders</th>\n",
              "      <th>displacement</th>\n",
              "      <th>...</th>\n",
              "      <th>year</th>\n",
              "      <th>origin</th>\n",
              "      <th>name</th>\n",
              "    </tr>\n",
              "  </thead>\n",
              "  <tbody>\n",
              "    <tr>\n",
              "      <th>132</th>\n",
              "      <td>25.0</td>\n",
              "      <td>4</td>\n",
              "      <td>140.0</td>\n",
              "      <td>...</td>\n",
              "      <td>74</td>\n",
              "      <td>1</td>\n",
              "      <td>chevrolet vega</td>\n",
              "    </tr>\n",
              "    <tr>\n",
              "      <th>181</th>\n",
              "      <td>33.0</td>\n",
              "      <td>4</td>\n",
              "      <td>91.0</td>\n",
              "      <td>...</td>\n",
              "      <td>75</td>\n",
              "      <td>3</td>\n",
              "      <td>honda civic cvcc</td>\n",
              "    </tr>\n",
              "    <tr>\n",
              "      <th>...</th>\n",
              "      <td>...</td>\n",
              "      <td>...</td>\n",
              "      <td>...</td>\n",
              "      <td>...</td>\n",
              "      <td>...</td>\n",
              "      <td>...</td>\n",
              "      <td>...</td>\n",
              "    </tr>\n",
              "    <tr>\n",
              "      <th>34</th>\n",
              "      <td>16.0</td>\n",
              "      <td>6</td>\n",
              "      <td>225.0</td>\n",
              "      <td>...</td>\n",
              "      <td>71</td>\n",
              "      <td>1</td>\n",
              "      <td>plymouth satellite custom</td>\n",
              "    </tr>\n",
              "    <tr>\n",
              "      <th>77</th>\n",
              "      <td>22.0</td>\n",
              "      <td>4</td>\n",
              "      <td>121.0</td>\n",
              "      <td>...</td>\n",
              "      <td>72</td>\n",
              "      <td>2</td>\n",
              "      <td>volkswagen 411 (sw)</td>\n",
              "    </tr>\n",
              "  </tbody>\n",
              "</table>\n",
              "<p>398 rows × 9 columns</p>\n",
              "</div>"
            ],
            "text/plain": [
              "      mpg  cylinders  displacement  ...  year  origin  \\\n",
              "132  25.0          4         140.0  ...    74       1   \n",
              "181  33.0          4          91.0  ...    75       3   \n",
              "..    ...        ...           ...  ...   ...     ...   \n",
              "34   16.0          6         225.0  ...    71       1   \n",
              "77   22.0          4         121.0  ...    72       2   \n",
              "\n",
              "                          name  \n",
              "132             chevrolet vega  \n",
              "181           honda civic cvcc  \n",
              "..                         ...  \n",
              "34   plymouth satellite custom  \n",
              "77         volkswagen 411 (sw)  \n",
              "\n",
              "[398 rows x 9 columns]"
            ]
          },
          "metadata": {
            "tags": []
          }
        }
      ]
    },
    {
      "cell_type": "code",
      "metadata": {
        "colab": {
          "base_uri": "https://localhost:8080/",
          "height": 224
        },
        "id": "mnfkIcatrX6B",
        "outputId": "43f9a750-7fc7-4756-d60f-2314e030f9b1"
      },
      "source": [
        "#reseting indexes\r\n",
        "pd.set_option('display.max_columns',7)\r\n",
        "pd.set_option('display.max_rows',5)\r\n",
        "\r\n",
        "df.reset_index(inplace=True,drop=True)\r\n",
        "display(df)"
      ],
      "execution_count": 6,
      "outputs": [
        {
          "output_type": "display_data",
          "data": {
            "text/html": [
              "<div>\n",
              "<style scoped>\n",
              "    .dataframe tbody tr th:only-of-type {\n",
              "        vertical-align: middle;\n",
              "    }\n",
              "\n",
              "    .dataframe tbody tr th {\n",
              "        vertical-align: top;\n",
              "    }\n",
              "\n",
              "    .dataframe thead th {\n",
              "        text-align: right;\n",
              "    }\n",
              "</style>\n",
              "<table border=\"1\" class=\"dataframe\">\n",
              "  <thead>\n",
              "    <tr style=\"text-align: right;\">\n",
              "      <th></th>\n",
              "      <th>mpg</th>\n",
              "      <th>cylinders</th>\n",
              "      <th>displacement</th>\n",
              "      <th>...</th>\n",
              "      <th>year</th>\n",
              "      <th>origin</th>\n",
              "      <th>name</th>\n",
              "    </tr>\n",
              "  </thead>\n",
              "  <tbody>\n",
              "    <tr>\n",
              "      <th>0</th>\n",
              "      <td>25.0</td>\n",
              "      <td>4</td>\n",
              "      <td>140.0</td>\n",
              "      <td>...</td>\n",
              "      <td>74</td>\n",
              "      <td>1</td>\n",
              "      <td>chevrolet vega</td>\n",
              "    </tr>\n",
              "    <tr>\n",
              "      <th>1</th>\n",
              "      <td>33.0</td>\n",
              "      <td>4</td>\n",
              "      <td>91.0</td>\n",
              "      <td>...</td>\n",
              "      <td>75</td>\n",
              "      <td>3</td>\n",
              "      <td>honda civic cvcc</td>\n",
              "    </tr>\n",
              "    <tr>\n",
              "      <th>...</th>\n",
              "      <td>...</td>\n",
              "      <td>...</td>\n",
              "      <td>...</td>\n",
              "      <td>...</td>\n",
              "      <td>...</td>\n",
              "      <td>...</td>\n",
              "      <td>...</td>\n",
              "    </tr>\n",
              "    <tr>\n",
              "      <th>396</th>\n",
              "      <td>16.0</td>\n",
              "      <td>6</td>\n",
              "      <td>225.0</td>\n",
              "      <td>...</td>\n",
              "      <td>71</td>\n",
              "      <td>1</td>\n",
              "      <td>plymouth satellite custom</td>\n",
              "    </tr>\n",
              "    <tr>\n",
              "      <th>397</th>\n",
              "      <td>22.0</td>\n",
              "      <td>4</td>\n",
              "      <td>121.0</td>\n",
              "      <td>...</td>\n",
              "      <td>72</td>\n",
              "      <td>2</td>\n",
              "      <td>volkswagen 411 (sw)</td>\n",
              "    </tr>\n",
              "  </tbody>\n",
              "</table>\n",
              "<p>398 rows × 9 columns</p>\n",
              "</div>"
            ],
            "text/plain": [
              "      mpg  cylinders  displacement  ...  year  origin  \\\n",
              "0    25.0          4         140.0  ...    74       1   \n",
              "1    33.0          4          91.0  ...    75       3   \n",
              "..    ...        ...           ...  ...   ...     ...   \n",
              "396  16.0          6         225.0  ...    71       1   \n",
              "397  22.0          4         121.0  ...    72       2   \n",
              "\n",
              "                          name  \n",
              "0               chevrolet vega  \n",
              "1             honda civic cvcc  \n",
              "..                         ...  \n",
              "396  plymouth satellite custom  \n",
              "397        volkswagen 411 (sw)  \n",
              "\n",
              "[398 rows x 9 columns]"
            ]
          },
          "metadata": {
            "tags": []
          }
        }
      ]
    },
    {
      "cell_type": "code",
      "metadata": {
        "colab": {
          "base_uri": "https://localhost:8080/",
          "height": 224
        },
        "id": "csr01Ghfry2r",
        "outputId": "f5793810-08d7-4883-fb94-4c072debb681"
      },
      "source": [
        "import os\r\n",
        "import pandas as pd\r\n",
        "\r\n",
        "df=pd.read_csv(\"https://data.heatonresearch.com/data/t81-558/auto-mpg.csv\",na_values=['NA','?'])\r\n",
        "\r\n",
        "df=df.sort_values(by='cylinders',ascending=True)\r\n",
        "#print(f\"The first car is: {df['name'].iloc[0]}\")\r\n",
        "\r\n",
        "pd.set_option('display.max_columns',7)\r\n",
        "pd.set_option('display.max_rows',5)\r\n",
        "display(df)"
      ],
      "execution_count": 11,
      "outputs": [
        {
          "output_type": "display_data",
          "data": {
            "text/html": [
              "<div>\n",
              "<style scoped>\n",
              "    .dataframe tbody tr th:only-of-type {\n",
              "        vertical-align: middle;\n",
              "    }\n",
              "\n",
              "    .dataframe tbody tr th {\n",
              "        vertical-align: top;\n",
              "    }\n",
              "\n",
              "    .dataframe thead th {\n",
              "        text-align: right;\n",
              "    }\n",
              "</style>\n",
              "<table border=\"1\" class=\"dataframe\">\n",
              "  <thead>\n",
              "    <tr style=\"text-align: right;\">\n",
              "      <th></th>\n",
              "      <th>mpg</th>\n",
              "      <th>cylinders</th>\n",
              "      <th>displacement</th>\n",
              "      <th>...</th>\n",
              "      <th>year</th>\n",
              "      <th>origin</th>\n",
              "      <th>name</th>\n",
              "    </tr>\n",
              "  </thead>\n",
              "  <tbody>\n",
              "    <tr>\n",
              "      <th>111</th>\n",
              "      <td>18.0</td>\n",
              "      <td>3</td>\n",
              "      <td>70.0</td>\n",
              "      <td>...</td>\n",
              "      <td>73</td>\n",
              "      <td>3</td>\n",
              "      <td>maxda rx3</td>\n",
              "    </tr>\n",
              "    <tr>\n",
              "      <th>71</th>\n",
              "      <td>19.0</td>\n",
              "      <td>3</td>\n",
              "      <td>70.0</td>\n",
              "      <td>...</td>\n",
              "      <td>72</td>\n",
              "      <td>3</td>\n",
              "      <td>mazda rx2 coupe</td>\n",
              "    </tr>\n",
              "    <tr>\n",
              "      <th>...</th>\n",
              "      <td>...</td>\n",
              "      <td>...</td>\n",
              "      <td>...</td>\n",
              "      <td>...</td>\n",
              "      <td>...</td>\n",
              "      <td>...</td>\n",
              "      <td>...</td>\n",
              "    </tr>\n",
              "    <tr>\n",
              "      <th>92</th>\n",
              "      <td>13.0</td>\n",
              "      <td>8</td>\n",
              "      <td>351.0</td>\n",
              "      <td>...</td>\n",
              "      <td>73</td>\n",
              "      <td>1</td>\n",
              "      <td>ford ltd</td>\n",
              "    </tr>\n",
              "    <tr>\n",
              "      <th>0</th>\n",
              "      <td>18.0</td>\n",
              "      <td>8</td>\n",
              "      <td>307.0</td>\n",
              "      <td>...</td>\n",
              "      <td>70</td>\n",
              "      <td>1</td>\n",
              "      <td>chevrolet chevelle malibu</td>\n",
              "    </tr>\n",
              "  </tbody>\n",
              "</table>\n",
              "<p>398 rows × 9 columns</p>\n",
              "</div>"
            ],
            "text/plain": [
              "      mpg  cylinders  displacement  ...  year  origin  \\\n",
              "111  18.0          3          70.0  ...    73       3   \n",
              "71   19.0          3          70.0  ...    72       3   \n",
              "..    ...        ...           ...  ...   ...     ...   \n",
              "92   13.0          8         351.0  ...    73       1   \n",
              "0    18.0          8         307.0  ...    70       1   \n",
              "\n",
              "                          name  \n",
              "111                  maxda rx3  \n",
              "71             mazda rx2 coupe  \n",
              "..                         ...  \n",
              "92                    ford ltd  \n",
              "0    chevrolet chevelle malibu  \n",
              "\n",
              "[398 rows x 9 columns]"
            ]
          },
          "metadata": {
            "tags": []
          }
        }
      ]
    },
    {
      "cell_type": "code",
      "metadata": {
        "colab": {
          "base_uri": "https://localhost:8080/"
        },
        "id": "vcyuJ2NmssWv",
        "outputId": "7f0b7f0e-1159-4689-92a4-2a27cc2f0c6f"
      },
      "source": [
        "#grouping\r\n",
        "g=df.groupby('cylinders')['mpg'].mean()\r\n",
        "g"
      ],
      "execution_count": 17,
      "outputs": [
        {
          "output_type": "execute_result",
          "data": {
            "text/plain": [
              "cylinders\n",
              "3    20.550000\n",
              "4    29.286765\n",
              "5    27.366667\n",
              "6    19.985714\n",
              "8    14.963107\n",
              "Name: mpg, dtype: float64"
            ]
          },
          "metadata": {
            "tags": []
          },
          "execution_count": 17
        }
      ]
    },
    {
      "cell_type": "code",
      "metadata": {
        "colab": {
          "base_uri": "https://localhost:8080/"
        },
        "id": "MXNH_oo0uJXr",
        "outputId": "dc52d46d-d585-403b-8992-a758f3edbbda"
      },
      "source": [
        "g.to_dict()"
      ],
      "execution_count": 18,
      "outputs": [
        {
          "output_type": "execute_result",
          "data": {
            "text/plain": [
              "{3: 20.55,\n",
              " 4: 29.28676470588236,\n",
              " 5: 27.366666666666664,\n",
              " 6: 19.98571428571429,\n",
              " 8: 14.963106796116506}"
            ]
          },
          "metadata": {
            "tags": []
          },
          "execution_count": 18
        }
      ]
    },
    {
      "cell_type": "code",
      "metadata": {
        "colab": {
          "base_uri": "https://localhost:8080/"
        },
        "id": "udkMQGYy1z_2",
        "outputId": "0e0ff846-0fd6-4a20-8ac6-d6f6f0fbd8f3"
      },
      "source": [
        "df.groupby('cylinders')['origin'].mean()"
      ],
      "execution_count": 27,
      "outputs": [
        {
          "output_type": "execute_result",
          "data": {
            "text/plain": [
              "cylinders\n",
              "3    3.000000\n",
              "4    1.985294\n",
              "5    2.000000\n",
              "6    1.190476\n",
              "8    1.000000\n",
              "Name: origin, dtype: float64"
            ]
          },
          "metadata": {
            "tags": []
          },
          "execution_count": 27
        }
      ]
    },
    {
      "cell_type": "code",
      "metadata": {
        "colab": {
          "base_uri": "https://localhost:8080/"
        },
        "id": "1J1subGcuS57",
        "outputId": "ac79f8de-b809-4fd9-bbcd-897d78f04bc5"
      },
      "source": [
        "print(df.groupby('cylinders')['mpg'].count())\r\n",
        "df.groupby('cylinders')['mpg'].count().to_dict()\r\n"
      ],
      "execution_count": 21,
      "outputs": [
        {
          "output_type": "stream",
          "text": [
            "cylinders\n",
            "3      4\n",
            "4    204\n",
            "5      3\n",
            "6     84\n",
            "8    103\n",
            "Name: mpg, dtype: int64\n"
          ],
          "name": "stdout"
        },
        {
          "output_type": "execute_result",
          "data": {
            "text/plain": [
              "{3: 4, 4: 204, 5: 3, 6: 84, 8: 103}"
            ]
          },
          "metadata": {
            "tags": []
          },
          "execution_count": 21
        }
      ]
    }
  ]
}